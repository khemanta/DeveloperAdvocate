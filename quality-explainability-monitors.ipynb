{
    "cells": [
        {
            "cell_type": "markdown",
            "metadata": {},
            "source": "# Model Quality and Explainability with Watson OpenScale\n\nThis notebook should be run in a Watson Studio project, using Default Python 3.6 runtime environment. It requires service credentials and a Cloud API key to access the following Cloud services:\n* Watson Machine Learning\n* Watson OpenScale\n\nThe notebook will configure monitors in OpenScale for the German Credit Risk model. The notebook assumes the model has been created/deployed to Watson Machine Learning and that the subscription has been created in Watson OpenScale."
        },
        {
            "cell_type": "markdown",
            "metadata": {
                "collapsed": true
            },
            "source": "#### Dependency Setup"
        },
        {
            "cell_type": "code",
            "execution_count": 1,
            "metadata": {},
            "outputs": [
                {
                    "name": "stdout",
                    "output_type": "stream",
                    "text": "Successfully installed ibm-ai-openscale-2.1.19\nSuccessfully installed watson-machine-learning-client-1.0.378\n"
                }
            ],
            "source": "!pip install --upgrade ibm-ai-openscale --no-cache | tail -n 1\n!pip install --upgrade watson-machine-learning-client | tail -n 1"
        },
        {
            "cell_type": "markdown",
            "metadata": {},
            "source": "#### Configure Service Credentials\n\nUpdate the two cells below with your Cloud API Key and your Watson Machine Learning service credentials."
        },
        {
            "cell_type": "code",
            "execution_count": 2,
            "metadata": {
                "scrolled": true
            },
            "outputs": [],
            "source": "CLOUD_API_KEY = \"WRSbGHmNSHvy-tLXNfqRvPhnGFfGfx6aLZnVv05h7PsQ\""
        },
        {
            "cell_type": "code",
            "execution_count": 3,
            "metadata": {},
            "outputs": [],
            "source": "WML_CREDENTIALS = {\n  \"apikey\": \"Rk2Chr1ij8WCQgMThbYME0-o28aa2nwtrAMH7eMspYJP\",\n  \"iam_apikey_description\": \"Auto-generated for key 1cbdf600-c774-449f-8d7d-3ab37b1a793f\",\n  \"iam_apikey_name\": \"Service credentials-1\",\n  \"iam_role_crn\": \"crn:v1:bluemix:public:iam::::serviceRole:Writer\",\n  \"iam_serviceid_crn\": \"crn:v1:bluemix:public:iam-identity::a/44f657e1cfa9244c30605fcaaa86343a::serviceid:ServiceId-7aa04496-3655-4f42-856e-80957aa89bf6\",\n  \"instance_id\": \"ead3646b-8ad5-4505-80e7-ff0afafe895b\",\n  \"url\": \"https://us-south.ml.cloud.ibm.com\"\n}"
        },
        {
            "cell_type": "markdown",
            "metadata": {},
            "source": "#### Model Parameters\n\n__Ensure that the two parameters match the model / deployment you have previously subscribed__"
        },
        {
            "cell_type": "code",
            "execution_count": 4,
            "metadata": {},
            "outputs": [],
            "source": "MODEL_NAME = \"Spark German Risk Model\"\nDEPLOYMENT_NAME = \"Spark German Risk Deployment\""
        },
        {
            "cell_type": "markdown",
            "metadata": {},
            "source": "#### Gather Model Information"
        },
        {
            "cell_type": "code",
            "execution_count": 5,
            "metadata": {},
            "outputs": [
                {
                    "name": "stdout",
                    "output_type": "stream",
                    "text": "------------------------------------  -----------------------  ------------------------  ---------\nGUID                                  NAME                     CREATED                   FRAMEWORK\ne7e5151c-670f-4511-9756-934a0f3ebea3  Spark German Risk Model  2019-11-23T07:04:59.246Z  mllib-2.3\n------------------------------------  -----------------------  ------------------------  ---------\nModel id: e7e5151c-670f-4511-9756-934a0f3ebea3\nDeployment id: 5bea19b8-2ae7-4ce1-8df0-a09148a1485a\nScoring URL: https://us-south.ml.cloud.ibm.com/v3/wml_instances/ead3646b-8ad5-4505-80e7-ff0afafe895b/deployments/5bea19b8-2ae7-4ce1-8df0-a09148a1485a/online\n"
                }
            ],
            "source": "from watson_machine_learning_client import WatsonMachineLearningAPIClient\n\nwml_client = WatsonMachineLearningAPIClient(WML_CREDENTIALS)\nwml_client.repository.list_models()\n\nmodel_uid = None\nwml_models = wml_client.repository.get_details()\nfor model_in in wml_models['models']['resources']:\n    if MODEL_NAME == model_in['entity']['name']:\n        model_uid = model_in['metadata']['guid']\n        break\n\ndeployment_uid = None\ndeployment = None\nscoring_url = None\nwml_deployments = wml_client.deployments.get_details()\nfor deployment_in in wml_deployments['resources']:\n    if DEPLOYMENT_NAME == deployment_in['entity']['name']:\n        deployment_uid = deployment_in['metadata']['guid']\n        scoring_url = deployment_in['entity']['scoring_url']\n        deployment = deployment_in\n        break\n\nif model_uid is None:\n    print(\"No model ...\")\n    \nif deployment_uid is None:\n    print(\"No Model deployment...\")\n    \nprint(\"Model id: {}\".format(model_uid))\nprint(\"Deployment id: {}\".format(deployment_uid))\nprint(\"Scoring URL: {}\".format(scoring_url))"
        },
        {
            "cell_type": "markdown",
            "metadata": {},
            "source": "## Quality (Performance) Monitor and Explainability"
        },
        {
            "cell_type": "markdown",
            "metadata": {},
            "source": "#### Get Watson OpenScale GUID\nEach instance of OpenScale has a unique ID. We can get this value using the Cloud API key specified at the beginning of the notebook."
        },
        {
            "cell_type": "code",
            "execution_count": 6,
            "metadata": {},
            "outputs": [
                {
                    "name": "stdout",
                    "output_type": "stream",
                    "text": "Watson OpenScale GUID: 0ac203a2-114a-497a-9721-d2dedf99d339\nWatson OpenScale Python Client Version: 2.1.19\n"
                }
            ],
            "source": "from ibm_ai_openscale import APIClient\nfrom ibm_ai_openscale.utils import get_instance_guid\nimport pandas as pd\n\nwos_client = None\nWOS_GUID = get_instance_guid(api_key=CLOUD_API_KEY)\nWOS_CREDENTIALS = {\n    \"instance_guid\": WOS_GUID,\n    \"apikey\": CLOUD_API_KEY,\n    \"url\": \"https://api.aiopenscale.cloud.ibm.com\"\n}\n\nif WOS_GUID is None:\n    print('Watson OpenScale GUID NOT FOUND')\nelse:\n    print(\"Watson OpenScale GUID: {}\".format(WOS_GUID))\n\nwos_client = APIClient(aios_credentials=WOS_CREDENTIALS)\nprint(\"Watson OpenScale Python Client Version: {}\".format(wos_client.version))"
        },
        {
            "cell_type": "markdown",
            "metadata": {},
            "source": "#### Get subscription\n\nWe have previously subscribed Watson OpenScale to our machine learning model. Here we get that subscription."
        },
        {
            "cell_type": "code",
            "execution_count": 7,
            "metadata": {
                "scrolled": false
            },
            "outputs": [
                {
                    "data": {
                        "text/html": "<HTML>\n        <body>\n            <h3>Subscriptions</h3>\n            <table style='border: 1px solid #dddddd; font-family: Courier'>\n                <th style='border: 1px solid #dddddd'>uid</th><th style='border: 1px solid #dddddd'>name</th><th style='border: 1px solid #dddddd'>type</th><th style='border: 1px solid #dddddd'>binding_uid</th><th style='border: 1px solid #dddddd'>created</th>\n                <tr><td style='border: 1px solid #dddddd'>5a11528d-f2ae-4b8f-9f03-08fb90587d1a</td><td style='border: 1px solid #dddddd'>Spark German Risk Model</td><td style='border: 1px solid #dddddd'>model</td><td style='border: 1px solid #dddddd'>ead3646b-8ad5-4505-80e7-ff0afafe895b</td><td style='border: 1px solid #dddddd'>2019-11-23T07:07:04.924Z</td></tr>\n            </table>\n        </body>\n        </HTML>",
                        "text/plain": "<IPython.core.display.HTML object>"
                    },
                    "metadata": {},
                    "output_type": "display_data"
                },
                {
                    "name": "stdout",
                    "output_type": "stream",
                    "text": "Subscription ID: 5a11528d-f2ae-4b8f-9f03-08fb90587d1a\n"
                }
            ],
            "source": "wos_client.data_mart.subscriptions.list()\n\nsubscriptions_uids = wos_client.data_mart.subscriptions.get_uids()\nsubscription_id = None\nfor sub in subscriptions_uids:\n    if wos_client.data_mart.subscriptions.get_details(sub)['entity']['asset']['name'] == MODEL_NAME:\n        subscription = wos_client.data_mart.subscriptions.get(sub)\n        subscription_id = sub\n        break\n            \nif subscription is None:\n    print('Subscription not found.')\n    \nprint(\"Subscription ID: {}\".format(subscription_id))"
        },
        {
            "cell_type": "markdown",
            "metadata": {},
            "source": "### Enable Quality Monitor\n\nThe code below waits ten seconds to allow the payload logging table to be set up before it begins enabling monitors. First, it turns on the quality (accuracy) monitor and sets an alert threshold of 70%. OpenScale will show an alert on the dashboard if the model accuracy measurement (area under the curve, in the case of a binary classifier) falls below this threshold.\n\nThe second paramater supplied, min_records, specifies the minimum number of feedback records OpenScale needs before it calculates a new measurement. The quality monitor runs hourly, but the accuracy reading in the dashboard will not change until an additional 50 feedback records have been added, via the user interface, the Python client, or the supplied feedback endpoint."
        },
        {
            "cell_type": "code",
            "execution_count": 8,
            "metadata": {
                "scrolled": false
            },
            "outputs": [],
            "source": "import time\n\ntime.sleep(10)\nsubscription.quality_monitoring.enable(threshold=0.7, min_records=50)"
        },
        {
            "cell_type": "markdown",
            "metadata": {},
            "source": "#### Feedback logging\n\nThe code below downloads and stores enough feedback data to meet the minimum threshold so that OpenScale can calculate a new accuracy measurement. It then kicks off the accuracy monitor. The monitors run hourly, or can be initiated via the Python API, the REST API, or the graphical user interface."
        },
        {
            "cell_type": "code",
            "execution_count": 9,
            "metadata": {
                "scrolled": true
            },
            "outputs": [
                {
                    "name": "stdout",
                    "output_type": "stream",
                    "text": "-rw-r----- 1 dsxuser dsxuser 17K Nov 23 17:04 additional_feedback_data.json\r\n"
                },
                {
                    "data": {
                        "text/html": "<HTML>\n        <body>\n            <h3>Feedback_5a11528d-f2ae-4b8f-9f03-08fb90587d1a (binding_id=ead3646b-8ad5-4505-80e7-ff0afafe895b, subscription_id=5a11528d-f2ae-4b8f-9f03-08fb90587d1a)</h3>\n            <table style='border: 1px solid #dddddd; font-family: Courier'>\n                <th style='border: 1px solid #dddddd'>CheckingStatus</th><th style='border: 1px solid #dddddd'>LoanDuration</th><th style='border: 1px solid #dddddd'>CreditHistory</th><th style='border: 1px solid #dddddd'>LoanPurpose</th><th style='border: 1px solid #dddddd'>LoanAmount</th><th style='border: 1px solid #dddddd'>ExistingSavings</th><th style='border: 1px solid #dddddd'>EmploymentDuration</th><th style='border: 1px solid #dddddd'>InstallmentPercent</th><th style='border: 1px solid #dddddd'>Sex</th><th style='border: 1px solid #dddddd'>OthersOnLoan</th><th style='border: 1px solid #dddddd'>CurrentResidenceDuration</th><th style='border: 1px solid #dddddd'>OwnsProperty</th><th style='border: 1px solid #dddddd'>Age</th><th style='border: 1px solid #dddddd'>InstallmentPlans</th><th style='border: 1px solid #dddddd'>Housing</th><th style='border: 1px solid #dddddd'>ExistingCreditsCount</th><th style='border: 1px solid #dddddd'>Job</th><th style='border: 1px solid #dddddd'>Dependents</th><th style='border: 1px solid #dddddd'>Telephone</th><th style='border: 1px solid #dddddd'>ForeignWorker</th><th style='border: 1px solid #dddddd'>Risk</th><th style='border: 1px solid #dddddd'>_training</th>\n                <tr><td style='border: 1px solid #dddddd'>less_0</td><td style='border: 1px solid #dddddd'>10</td><td style='border: 1px solid #dddddd'>all_credits_paid_back</td><td style='border: 1px solid #dddddd'>car_new</td><td style='border: 1px solid #dddddd'>250</td><td style='border: 1px solid #dddddd'>500_to_1000</td><td style='border: 1px solid #dddddd'>4_to_7</td><td style='border: 1px solid #dddddd'>3</td><td style='border: 1px solid #dddddd'>male</td><td style='border: 1px solid #dddddd'>none</td><td style='border: 1px solid #dddddd'>2</td><td style='border: 1px solid #dddddd'>real_estate</td><td style='border: 1px solid #dddddd'>23</td><td style='border: 1px solid #dddddd'>none</td><td style='border: 1px solid #dddddd'>rent</td><td style='border: 1px solid #dddddd'>1</td><td style='border: 1px solid #dddddd'>skilled</td><td style='border: 1px solid #dddddd'>1</td><td style='border: 1px solid #dddddd'>none</td><td style='border: 1px solid #dddddd'>yes</td><td style='border: 1px solid #dddddd'>No Risk</td><td style='border: 1px solid #dddddd'>2019-11-23 17:04:33.923558+00:00</td></tr><tr><td style='border: 1px solid #dddddd'>no_checking</td><td style='border: 1px solid #dddddd'>23</td><td style='border: 1px solid #dddddd'>prior_payments_delayed</td><td style='border: 1px solid #dddddd'>appliances</td><td style='border: 1px solid #dddddd'>6964</td><td style='border: 1px solid #dddddd'>100_to_500</td><td style='border: 1px solid #dddddd'>4_to_7</td><td style='border: 1px solid #dddddd'>4</td><td style='border: 1px solid #dddddd'>female</td><td style='border: 1px solid #dddddd'>none</td><td style='border: 1px solid #dddddd'>3</td><td style='border: 1px solid #dddddd'>car_other</td><td style='border: 1px solid #dddddd'>39</td><td style='border: 1px solid #dddddd'>none</td><td style='border: 1px solid #dddddd'>own</td><td style='border: 1px solid #dddddd'>1</td><td style='border: 1px solid #dddddd'>skilled</td><td style='border: 1px solid #dddddd'>1</td><td style='border: 1px solid #dddddd'>none</td><td style='border: 1px solid #dddddd'>yes</td><td style='border: 1px solid #dddddd'>Risk</td><td style='border: 1px solid #dddddd'>2019-11-23 17:04:33.923558+00:00</td></tr><tr><td style='border: 1px solid #dddddd'>0_to_200</td><td style='border: 1px solid #dddddd'>30</td><td style='border: 1px solid #dddddd'>outstanding_credit</td><td style='border: 1px solid #dddddd'>appliances</td><td style='border: 1px solid #dddddd'>3464</td><td style='border: 1px solid #dddddd'>100_to_500</td><td style='border: 1px solid #dddddd'>greater_7</td><td style='border: 1px solid #dddddd'>3</td><td style='border: 1px solid #dddddd'>male</td><td style='border: 1px solid #dddddd'>guarantor</td><td style='border: 1px solid #dddddd'>4</td><td style='border: 1px solid #dddddd'>savings_insurance</td><td style='border: 1px solid #dddddd'>51</td><td style='border: 1px solid #dddddd'>stores</td><td style='border: 1px solid #dddddd'>free</td><td style='border: 1px solid #dddddd'>1</td><td style='border: 1px solid #dddddd'>skilled</td><td style='border: 1px solid #dddddd'>1</td><td style='border: 1px solid #dddddd'>yes</td><td style='border: 1px solid #dddddd'>yes</td><td style='border: 1px solid #dddddd'>Risk</td><td style='border: 1px solid #dddddd'>2019-11-23 17:04:33.923558+00:00</td></tr><tr><td style='border: 1px solid #dddddd'>no_checking</td><td style='border: 1px solid #dddddd'>23</td><td style='border: 1px solid #dddddd'>outstanding_credit</td><td style='border: 1px solid #dddddd'>car_used</td><td style='border: 1px solid #dddddd'>2681</td><td style='border: 1px solid #dddddd'>500_to_1000</td><td style='border: 1px solid #dddddd'>greater_7</td><td style='border: 1px solid #dddddd'>4</td><td style='border: 1px solid #dddddd'>male</td><td style='border: 1px solid #dddddd'>none</td><td style='border: 1px solid #dddddd'>3</td><td style='border: 1px solid #dddddd'>car_other</td><td style='border: 1px solid #dddddd'>33</td><td style='border: 1px solid #dddddd'>stores</td><td style='border: 1px solid #dddddd'>free</td><td style='border: 1px solid #dddddd'>1</td><td style='border: 1px solid #dddddd'>unskilled</td><td style='border: 1px solid #dddddd'>1</td><td style='border: 1px solid #dddddd'>yes</td><td style='border: 1px solid #dddddd'>yes</td><td style='border: 1px solid #dddddd'>No Risk</td><td style='border: 1px solid #dddddd'>2019-11-23 17:04:33.923558+00:00</td></tr><tr><td style='border: 1px solid #dddddd'>0_to_200</td><td style='border: 1px solid #dddddd'>18</td><td style='border: 1px solid #dddddd'>prior_payments_delayed</td><td style='border: 1px solid #dddddd'>furniture</td><td style='border: 1px solid #dddddd'>1673</td><td style='border: 1px solid #dddddd'>less_100</td><td style='border: 1px solid #dddddd'>1_to_4</td><td style='border: 1px solid #dddddd'>2</td><td style='border: 1px solid #dddddd'>male</td><td style='border: 1px solid #dddddd'>none</td><td style='border: 1px solid #dddddd'>3</td><td style='border: 1px solid #dddddd'>car_other</td><td style='border: 1px solid #dddddd'>30</td><td style='border: 1px solid #dddddd'>none</td><td style='border: 1px solid #dddddd'>own</td><td style='border: 1px solid #dddddd'>2</td><td style='border: 1px solid #dddddd'>skilled</td><td style='border: 1px solid #dddddd'>1</td><td style='border: 1px solid #dddddd'>none</td><td style='border: 1px solid #dddddd'>yes</td><td style='border: 1px solid #dddddd'>Risk</td><td style='border: 1px solid #dddddd'>2019-11-23 17:04:33.923558+00:00</td></tr><tr><td style='border: 1px solid #dddddd'>no_checking</td><td style='border: 1px solid #dddddd'>44</td><td style='border: 1px solid #dddddd'>outstanding_credit</td><td style='border: 1px solid #dddddd'>radio_tv</td><td style='border: 1px solid #dddddd'>3476</td><td style='border: 1px solid #dddddd'>unknown</td><td style='border: 1px solid #dddddd'>greater_7</td><td style='border: 1px solid #dddddd'>4</td><td style='border: 1px solid #dddddd'>male</td><td style='border: 1px solid #dddddd'>co-applicant</td><td style='border: 1px solid #dddddd'>4</td><td style='border: 1px solid #dddddd'>unknown</td><td style='border: 1px solid #dddddd'>60</td><td style='border: 1px solid #dddddd'>none</td><td style='border: 1px solid #dddddd'>free</td><td style='border: 1px solid #dddddd'>2</td><td style='border: 1px solid #dddddd'>skilled</td><td style='border: 1px solid #dddddd'>2</td><td style='border: 1px solid #dddddd'>yes</td><td style='border: 1px solid #dddddd'>yes</td><td style='border: 1px solid #dddddd'>Risk</td><td style='border: 1px solid #dddddd'>2019-11-23 17:04:33.923558+00:00</td></tr><tr><td style='border: 1px solid #dddddd'>less_0</td><td style='border: 1px solid #dddddd'>8</td><td style='border: 1px solid #dddddd'>no_credits</td><td style='border: 1px solid #dddddd'>education</td><td style='border: 1px solid #dddddd'>803</td><td style='border: 1px solid #dddddd'>less_100</td><td style='border: 1px solid #dddddd'>unemployed</td><td style='border: 1px solid #dddddd'>1</td><td style='border: 1px solid #dddddd'>male</td><td style='border: 1px solid #dddddd'>none</td><td style='border: 1px solid #dddddd'>1</td><td style='border: 1px solid #dddddd'>savings_insurance</td><td style='border: 1px solid #dddddd'>19</td><td style='border: 1px solid #dddddd'>stores</td><td style='border: 1px solid #dddddd'>rent</td><td style='border: 1px solid #dddddd'>1</td><td style='border: 1px solid #dddddd'>skilled</td><td style='border: 1px solid #dddddd'>1</td><td style='border: 1px solid #dddddd'>none</td><td style='border: 1px solid #dddddd'>yes</td><td style='border: 1px solid #dddddd'>No Risk</td><td style='border: 1px solid #dddddd'>2019-11-23 17:04:33.923558+00:00</td></tr><tr><td style='border: 1px solid #dddddd'>0_to_200</td><td style='border: 1px solid #dddddd'>7</td><td style='border: 1px solid #dddddd'>all_credits_paid_back</td><td style='border: 1px solid #dddddd'>car_new</td><td style='border: 1px solid #dddddd'>250</td><td style='border: 1px solid #dddddd'>less_100</td><td style='border: 1px solid #dddddd'>unemployed</td><td style='border: 1px solid #dddddd'>1</td><td style='border: 1px solid #dddddd'>male</td><td style='border: 1px solid #dddddd'>none</td><td style='border: 1px solid #dddddd'>1</td><td style='border: 1px solid #dddddd'>real_estate</td><td style='border: 1px solid #dddddd'>19</td><td style='border: 1px solid #dddddd'>stores</td><td style='border: 1px solid #dddddd'>rent</td><td style='border: 1px solid #dddddd'>1</td><td style='border: 1px solid #dddddd'>skilled</td><td style='border: 1px solid #dddddd'>1</td><td style='border: 1px solid #dddddd'>none</td><td style='border: 1px solid #dddddd'>yes</td><td style='border: 1px solid #dddddd'>No Risk</td><td style='border: 1px solid #dddddd'>2019-11-23 17:04:33.923558+00:00</td></tr><tr><td style='border: 1px solid #dddddd'>0_to_200</td><td style='border: 1px solid #dddddd'>33</td><td style='border: 1px solid #dddddd'>credits_paid_to_date</td><td style='border: 1px solid #dddddd'>radio_tv</td><td style='border: 1px solid #dddddd'>3548</td><td style='border: 1px solid #dddddd'>100_to_500</td><td style='border: 1px solid #dddddd'>1_to_4</td><td style='border: 1px solid #dddddd'>3</td><td style='border: 1px solid #dddddd'>male</td><td style='border: 1px solid #dddddd'>none</td><td style='border: 1px solid #dddddd'>4</td><td style='border: 1px solid #dddddd'>car_other</td><td style='border: 1px solid #dddddd'>28</td><td style='border: 1px solid #dddddd'>none</td><td style='border: 1px solid #dddddd'>own</td><td style='border: 1px solid #dddddd'>2</td><td style='border: 1px solid #dddddd'>skilled</td><td style='border: 1px solid #dddddd'>1</td><td style='border: 1px solid #dddddd'>yes</td><td style='border: 1px solid #dddddd'>yes</td><td style='border: 1px solid #dddddd'>Risk</td><td style='border: 1px solid #dddddd'>2019-11-23 17:04:33.923558+00:00</td></tr><tr><td style='border: 1px solid #dddddd'>no_checking</td><td style='border: 1px solid #dddddd'>24</td><td style='border: 1px solid #dddddd'>prior_payments_delayed</td><td style='border: 1px solid #dddddd'>retraining</td><td style='border: 1px solid #dddddd'>4158</td><td style='border: 1px solid #dddddd'>100_to_500</td><td style='border: 1px solid #dddddd'>greater_7</td><td style='border: 1px solid #dddddd'>3</td><td style='border: 1px solid #dddddd'>female</td><td style='border: 1px solid #dddddd'>none</td><td style='border: 1px solid #dddddd'>2</td><td style='border: 1px solid #dddddd'>savings_insurance</td><td style='border: 1px solid #dddddd'>35</td><td style='border: 1px solid #dddddd'>stores</td><td style='border: 1px solid #dddddd'>own</td><td style='border: 1px solid #dddddd'>1</td><td style='border: 1px solid #dddddd'>unskilled</td><td style='border: 1px solid #dddddd'>2</td><td style='border: 1px solid #dddddd'>none</td><td style='border: 1px solid #dddddd'>yes</td><td style='border: 1px solid #dddddd'>Risk</td><td style='border: 1px solid #dddddd'>2019-11-23 17:04:33.923558+00:00</td></tr>\n            </table>\n        </body>\n        </HTML>",
                        "text/plain": "<IPython.core.display.HTML object>"
                    },
                    "metadata": {},
                    "output_type": "display_data"
                }
            ],
            "source": "from IPython.utils import io\nimport json\n\nwith io.capture_output() as captured:\n    !wget https://raw.githubusercontent.com/pmservice/ai-openscale-tutorials/master/assets/historical_data/german_credit_risk/wml/additional_feedback_data.json -O additional_feedback_data.json\n!ls -lh additional_feedback_data.json\n\nwith open('additional_feedback_data.json') as feedback_file:\n    additional_feedback_data = json.load(feedback_file)\n    \nsubscription.feedback_logging.store(additional_feedback_data['data'])\nsubscription.feedback_logging.show_table()"
        },
        {
            "cell_type": "markdown",
            "metadata": {},
            "source": "#### Run quality monitor\n"
        },
        {
            "cell_type": "code",
            "execution_count": 10,
            "metadata": {
                "scrolled": true
            },
            "outputs": [
                {
                    "name": "stdout",
                    "output_type": "stream",
                    "text": "\n\n================================================================================\n\n Waiting for end of quality monitoring run b6d1cb19-9bbf-4306-a11d-dccb84aaf474 \n\n================================================================================\n\n\n\ninitializing\ncompleted\n\n---------------------------\n Successfully finished run \n---------------------------\n\n\n"
                }
            ],
            "source": "run_details = subscription.quality_monitoring.run(background_mode=False)"
        },
        {
            "cell_type": "code",
            "execution_count": 11,
            "metadata": {},
            "outputs": [
                {
                    "data": {
                        "text/html": "<HTML>\n        <body>\n            <h3>QualityMetrics (binding_id=ead3646b-8ad5-4505-80e7-ff0afafe895b, subscription_id=5a11528d-f2ae-4b8f-9f03-08fb90587d1a)</h3>\n            <table style='border: 1px solid #dddddd; font-family: Courier'>\n                <th style='border: 1px solid #dddddd'>ts</th><th style='border: 1px solid #dddddd'>id</th><th style='border: 1px solid #dddddd'>measurement_id</th><th style='border: 1px solid #dddddd'>value</th><th style='border: 1px solid #dddddd'>lower limit</th><th style='border: 1px solid #dddddd'>upper limit</th><th style='border: 1px solid #dddddd'>tags</th><th style='border: 1px solid #dddddd'>binding_id</th><th style='border: 1px solid #dddddd'>subscription_id</th><th style='border: 1px solid #dddddd'>deployment_id</th>\n                <tr><td style='border: 1px solid #dddddd'>2019-11-23 17:04:59.935000+00:00</td><td style='border: 1px solid #dddddd'>true_positive_rate</td><td style='border: 1px solid #dddddd'>73adac0f-c632-4254-af3b-baac886993cb</td><td style='border: 1px solid #dddddd'>0.3939393939393939</td><td style='border: 1px solid #dddddd'></td><td style='border: 1px solid #dddddd'></td><td style='border: 1px solid #dddddd'>model_type: original</td><td style='border: 1px solid #dddddd'>ead3646b-8ad5-4505-80e7-ff0afafe895b</td><td style='border: 1px solid #dddddd'>5a11528d-f2ae-4b8f-9f03-08fb90587d1a</td><td style='border: 1px solid #dddddd'>5bea19b8-2ae7-4ce1-8df0-a09148a1485a</td></tr><tr><td style='border: 1px solid #dddddd'>2019-11-23 17:04:59.935000+00:00</td><td style='border: 1px solid #dddddd'>area_under_roc</td><td style='border: 1px solid #dddddd'>73adac0f-c632-4254-af3b-baac886993cb</td><td style='border: 1px solid #dddddd'>0.6662004662004662</td><td style='border: 1px solid #dddddd'>0.7</td><td style='border: 1px solid #dddddd'></td><td style='border: 1px solid #dddddd'>model_type: original</td><td style='border: 1px solid #dddddd'>ead3646b-8ad5-4505-80e7-ff0afafe895b</td><td style='border: 1px solid #dddddd'>5a11528d-f2ae-4b8f-9f03-08fb90587d1a</td><td style='border: 1px solid #dddddd'>5bea19b8-2ae7-4ce1-8df0-a09148a1485a</td></tr><tr><td style='border: 1px solid #dddddd'>2019-11-23 17:04:59.935000+00:00</td><td style='border: 1px solid #dddddd'>precision</td><td style='border: 1px solid #dddddd'>73adac0f-c632-4254-af3b-baac886993cb</td><td style='border: 1px solid #dddddd'>0.7647058823529411</td><td style='border: 1px solid #dddddd'></td><td style='border: 1px solid #dddddd'></td><td style='border: 1px solid #dddddd'>model_type: original</td><td style='border: 1px solid #dddddd'>ead3646b-8ad5-4505-80e7-ff0afafe895b</td><td style='border: 1px solid #dddddd'>5a11528d-f2ae-4b8f-9f03-08fb90587d1a</td><td style='border: 1px solid #dddddd'>5bea19b8-2ae7-4ce1-8df0-a09148a1485a</td></tr><tr><td style='border: 1px solid #dddddd'>2019-11-23 17:04:59.935000+00:00</td><td style='border: 1px solid #dddddd'>f1_measure</td><td style='border: 1px solid #dddddd'>73adac0f-c632-4254-af3b-baac886993cb</td><td style='border: 1px solid #dddddd'>0.5199999999999999</td><td style='border: 1px solid #dddddd'></td><td style='border: 1px solid #dddddd'></td><td style='border: 1px solid #dddddd'>model_type: original</td><td style='border: 1px solid #dddddd'>ead3646b-8ad5-4505-80e7-ff0afafe895b</td><td style='border: 1px solid #dddddd'>5a11528d-f2ae-4b8f-9f03-08fb90587d1a</td><td style='border: 1px solid #dddddd'>5bea19b8-2ae7-4ce1-8df0-a09148a1485a</td></tr><tr><td style='border: 1px solid #dddddd'>2019-11-23 17:04:59.935000+00:00</td><td style='border: 1px solid #dddddd'>accuracy</td><td style='border: 1px solid #dddddd'>73adac0f-c632-4254-af3b-baac886993cb</td><td style='border: 1px solid #dddddd'>0.7551020408163265</td><td style='border: 1px solid #dddddd'></td><td style='border: 1px solid #dddddd'></td><td style='border: 1px solid #dddddd'>model_type: original</td><td style='border: 1px solid #dddddd'>ead3646b-8ad5-4505-80e7-ff0afafe895b</td><td style='border: 1px solid #dddddd'>5a11528d-f2ae-4b8f-9f03-08fb90587d1a</td><td style='border: 1px solid #dddddd'>5bea19b8-2ae7-4ce1-8df0-a09148a1485a</td></tr><tr><td style='border: 1px solid #dddddd'>2019-11-23 17:04:59.935000+00:00</td><td style='border: 1px solid #dddddd'>log_loss</td><td style='border: 1px solid #dddddd'>73adac0f-c632-4254-af3b-baac886993cb</td><td style='border: 1px solid #dddddd'>0.4453043250204494</td><td style='border: 1px solid #dddddd'></td><td style='border: 1px solid #dddddd'></td><td style='border: 1px solid #dddddd'>model_type: original</td><td style='border: 1px solid #dddddd'>ead3646b-8ad5-4505-80e7-ff0afafe895b</td><td style='border: 1px solid #dddddd'>5a11528d-f2ae-4b8f-9f03-08fb90587d1a</td><td style='border: 1px solid #dddddd'>5bea19b8-2ae7-4ce1-8df0-a09148a1485a</td></tr><tr><td style='border: 1px solid #dddddd'>2019-11-23 17:04:59.935000+00:00</td><td style='border: 1px solid #dddddd'>false_positive_rate</td><td style='border: 1px solid #dddddd'>73adac0f-c632-4254-af3b-baac886993cb</td><td style='border: 1px solid #dddddd'>0.06153846153846154</td><td style='border: 1px solid #dddddd'></td><td style='border: 1px solid #dddddd'></td><td style='border: 1px solid #dddddd'>model_type: original</td><td style='border: 1px solid #dddddd'>ead3646b-8ad5-4505-80e7-ff0afafe895b</td><td style='border: 1px solid #dddddd'>5a11528d-f2ae-4b8f-9f03-08fb90587d1a</td><td style='border: 1px solid #dddddd'>5bea19b8-2ae7-4ce1-8df0-a09148a1485a</td></tr><tr><td style='border: 1px solid #dddddd'>2019-11-23 17:04:59.935000+00:00</td><td style='border: 1px solid #dddddd'>area_under_pr</td><td style='border: 1px solid #dddddd'>73adac0f-c632-4254-af3b-baac886993cb</td><td style='border: 1px solid #dddddd'>0.6350176434210048</td><td style='border: 1px solid #dddddd'></td><td style='border: 1px solid #dddddd'></td><td style='border: 1px solid #dddddd'>model_type: original</td><td style='border: 1px solid #dddddd'>ead3646b-8ad5-4505-80e7-ff0afafe895b</td><td style='border: 1px solid #dddddd'>5a11528d-f2ae-4b8f-9f03-08fb90587d1a</td><td style='border: 1px solid #dddddd'>5bea19b8-2ae7-4ce1-8df0-a09148a1485a</td></tr><tr><td style='border: 1px solid #dddddd'>2019-11-23 17:04:59.935000+00:00</td><td style='border: 1px solid #dddddd'>recall</td><td style='border: 1px solid #dddddd'>73adac0f-c632-4254-af3b-baac886993cb</td><td style='border: 1px solid #dddddd'>0.3939393939393939</td><td style='border: 1px solid #dddddd'></td><td style='border: 1px solid #dddddd'></td><td style='border: 1px solid #dddddd'>model_type: original</td><td style='border: 1px solid #dddddd'>ead3646b-8ad5-4505-80e7-ff0afafe895b</td><td style='border: 1px solid #dddddd'>5a11528d-f2ae-4b8f-9f03-08fb90587d1a</td><td style='border: 1px solid #dddddd'>5bea19b8-2ae7-4ce1-8df0-a09148a1485a</td></tr>\n            </table>\n        </body>\n        </HTML>",
                        "text/plain": "<IPython.core.display.HTML object>"
                    },
                    "metadata": {},
                    "output_type": "display_data"
                }
            ],
            "source": "subscription.quality_monitoring.show_table()"
        },
        {
            "cell_type": "code",
            "execution_count": 12,
            "metadata": {},
            "outputs": [
                {
                    "data": {
                        "image/png": "[encoded data removed]",
                        "text/plain": "<Figure size 432x288 with 1 Axes>"
                    },
                    "metadata": {
                        "needs_background": "light"
                    },
                    "output_type": "display_data"
                }
            ],
            "source": "%matplotlib inline\n\nquality_pd = subscription.quality_monitoring.get_table_content(format='pandas')\nquality_pd.plot.barh(x='id', y='value');"
        },
        {
            "cell_type": "code",
            "execution_count": 13,
            "metadata": {},
            "outputs": [],
            "source": "#wos_client.data_mart.get_deployment_metrics()"
        },
        {
            "cell_type": "markdown",
            "metadata": {},
            "source": "### Enable Explainability\n\nFinally, we provide OpenScale with the training data to enable and configure the explainability features."
        },
        {
            "cell_type": "code",
            "execution_count": 14,
            "metadata": {},
            "outputs": [
                {
                    "name": "stdout",
                    "output_type": "stream",
                    "text": "-rw-r----- 1 dsxuser dsxuser 674K Nov 23 17:05 german_credit_data_biased_training.csv\r\n"
                }
            ],
            "source": "import pandas as pd\nfrom ibm_ai_openscale.supporting_classes import *\n\nwith io.capture_output() as captured:\n    !wget https://raw.githubusercontent.com/pmservice/ai-openscale-tutorials/master/assets/historical_data/german_credit_risk/wml/german_credit_data_biased_training.csv -O german_credit_data_biased_training.csv\n!ls -lh german_credit_data_biased_training.csv\n\npd_data = pd.read_csv(\"german_credit_data_biased_training.csv\", sep=\",\", header=0)\n\nsubscription.explainability.enable(training_data=pd_data)\nexplainability_details = subscription.explainability.get_details()"
        },
        {
            "cell_type": "code",
            "execution_count": 16,
            "metadata": {},
            "outputs": [
                {
                    "data": {
                        "text/html": "<div>\n<style scoped>\n    .dataframe tbody tr th:only-of-type {\n        vertical-align: middle;\n    }\n\n    .dataframe tbody tr th {\n        vertical-align: top;\n    }\n\n    .dataframe thead th {\n        text-align: right;\n    }\n</style>\n<table border=\"1\" class=\"dataframe\">\n  <thead>\n    <tr style=\"text-align: right;\">\n      <th></th>\n      <th>scoring_id</th>\n      <th>predictedLabel</th>\n      <th>probability</th>\n    </tr>\n  </thead>\n  <tbody>\n    <tr>\n      <th>0</th>\n      <td>95b030a7cb2d46944e2795a02409f218-5</td>\n      <td>No Risk</td>\n      <td>[0.9817869466967226, 0.01821305330327745]</td>\n    </tr>\n    <tr>\n      <th>1</th>\n      <td>95b030a7cb2d46944e2795a02409f218-8</td>\n      <td>No Risk</td>\n      <td>[0.8476259694151986, 0.15237403058480137]</td>\n    </tr>\n    <tr>\n      <th>2</th>\n      <td>95b030a7cb2d46944e2795a02409f218-4</td>\n      <td>No Risk</td>\n      <td>[0.9247650469790445, 0.07523495302095555]</td>\n    </tr>\n    <tr>\n      <th>3</th>\n      <td>95b030a7cb2d46944e2795a02409f218-3</td>\n      <td>No Risk</td>\n      <td>[0.8281872930859508, 0.17181270691404923]</td>\n    </tr>\n    <tr>\n      <th>4</th>\n      <td>95b030a7cb2d46944e2795a02409f218-1</td>\n      <td>No Risk</td>\n      <td>[0.7049739820773709, 0.29502601792262906]</td>\n    </tr>\n    <tr>\n      <th>5</th>\n      <td>95b030a7cb2d46944e2795a02409f218-6</td>\n      <td>No Risk</td>\n      <td>[0.8055984583499919, 0.19440154165000817]</td>\n    </tr>\n    <tr>\n      <th>6</th>\n      <td>95b030a7cb2d46944e2795a02409f218-2</td>\n      <td>No Risk</td>\n      <td>[0.6193699588344816, 0.3806300411655183]</td>\n    </tr>\n    <tr>\n      <th>7</th>\n      <td>95b030a7cb2d46944e2795a02409f218-7</td>\n      <td>Risk</td>\n      <td>[0.0796042558779473, 0.9203957441220527]</td>\n    </tr>\n  </tbody>\n</table>\n</div>",
                        "text/plain": "                           scoring_id predictedLabel  \\\n0  95b030a7cb2d46944e2795a02409f218-5        No Risk   \n1  95b030a7cb2d46944e2795a02409f218-8        No Risk   \n2  95b030a7cb2d46944e2795a02409f218-4        No Risk   \n3  95b030a7cb2d46944e2795a02409f218-3        No Risk   \n4  95b030a7cb2d46944e2795a02409f218-1        No Risk   \n5  95b030a7cb2d46944e2795a02409f218-6        No Risk   \n6  95b030a7cb2d46944e2795a02409f218-2        No Risk   \n7  95b030a7cb2d46944e2795a02409f218-7           Risk   \n\n                                 probability  \n0  [0.9817869466967226, 0.01821305330327745]  \n1  [0.8476259694151986, 0.15237403058480137]  \n2  [0.9247650469790445, 0.07523495302095555]  \n3  [0.8281872930859508, 0.17181270691404923]  \n4  [0.7049739820773709, 0.29502601792262906]  \n5  [0.8055984583499919, 0.19440154165000817]  \n6   [0.6193699588344816, 0.3806300411655183]  \n7   [0.0796042558779473, 0.9203957441220527]  "
                    },
                    "execution_count": 16,
                    "metadata": {},
                    "output_type": "execute_result"
                }
            ],
            "source": "payload_data = subscription.payload_logging.get_table_content(limit=15)\npayload_data.filter(items=['scoring_id', 'predictedLabel', 'probability'])\n\n#transaction_id = payload_data['scoring_id'].values[0]\n#print(transaction_id)\n#explain_run = subscription.explainability.run(transaction_id=transaction_id, background_mode=False)\n#explain_result = pd.DataFrame.from_dict(explain_run['entity']['predictions'][0]['explanation_features'])\n#print(explain_result)\n#explain_result.plot.barh(x='feature_name', y='weight', color='g', alpha=0.8);\n"
        },
        {
            "cell_type": "markdown",
            "metadata": {},
            "source": "## Next steps\n\n\n\n\n__Return to the workshop instruction book.__\n\n\n## Credits\n\nThis notebook was adapted from the following sources:\n\n* [Monitor Models Code Pattern](https://github.com/IBM/monitor-wml-model-with-watson-openscale)\n* [OpenScale Labs](https://github.com/pmservice/OpenScale-Labs)\n* [OpenScale Tutorials](https://github.com/pmservice/ai-openscale-tutorials)\n\n#### Original Authors\n* Eric Martens, is a technical specialist having expertise in analysis and description of business processes, and their translation into functional and non-functional IT requirements. He acts as the interpreter between the worlds of IT and business.\n* Lukasz Cmielowski, PhD, is an Automation Architect and Data Scientist at IBM with a track record of developing enterprise-level applications that substantially increases clients' ability to turn data into actionable knowledge.\n"
        },
        {
            "cell_type": "code",
            "execution_count": null,
            "metadata": {},
            "outputs": [],
            "source": ""
        }
    ],
    "metadata": {
        "kernelspec": {
            "display_name": "Python 3.6",
            "language": "python",
            "name": "python3"
        },
        "language_info": {
            "codemirror_mode": {
                "name": "ipython",
                "version": 3
            },
            "file_extension": ".py",
            "mimetype": "text/x-python",
            "name": "python",
            "nbconvert_exporter": "python",
            "pygments_lexer": "ipython3",
            "version": "3.6.8"
        }
    },
    "nbformat": 4,
    "nbformat_minor": 1
}