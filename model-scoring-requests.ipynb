{
    "cells": [
        {
            "metadata": {},
            "cell_type": "markdown",
            "source": "# Model Scoring with Watson Machine Learning\n\nThis notebook should be run in a Watson Studio project, using Default Python 3.6 runtime environment. It requires service credentials to access the following Cloud services:\n* Watson Machine Learning\n\nThe notebook will submit requests to the German Credit Risk model. The notebook assumes the model has been created/deployed to Watson Machine Learning."
        },
        {
            "metadata": {
                "collapsed": true
            },
            "cell_type": "markdown",
            "source": "#### Dependency Setup"
        },
        {
            "metadata": {},
            "cell_type": "code",
            "source": "!pip install --upgrade watson-machine-learning-client | tail -n 1",
            "execution_count": 1,
            "outputs": [
                {
                    "output_type": "stream",
                    "text": "Requirement already satisfied, skipping upgrade: jmespath<1.0.0,>=0.7.1 in /opt/conda/envs/Python36/lib/python3.6/site-packages (from ibm-cos-sdk-core==2.*,>=2.0.0->ibm-cos-sdk->watson-machine-learning-client) (0.9.3)\r\n",
                    "name": "stdout"
                }
            ]
        },
        {
            "metadata": {},
            "cell_type": "markdown",
            "source": "#### Configure Service Credentials\n\nUpdate the two cells below with your Cloud API Key and your Watson Machine Learning service credentials."
        },
        {
            "metadata": {
                "scrolled": true
            },
            "cell_type": "code",
            "source": "WML_CREDENTIALS = {\n  \"apikey\": \"Rk2Chr1ij8WCQgMThbYME0-o28aa2nwtrAMH7eMspYJP\",\n  \"iam_apikey_description\": \"Auto-generated for key 1cbdf600-c774-449f-8d7d-3ab37b1a793f\",\n  \"iam_apikey_name\": \"Service credentials-1\",\n  \"iam_role_crn\": \"crn:v1:bluemix:public:iam::::serviceRole:Writer\",\n  \"iam_serviceid_crn\": \"crn:v1:bluemix:public:iam-identity::a/44f657e1cfa9244c30605fcaaa86343a::serviceid:ServiceId-7aa04496-3655-4f42-856e-80957aa89bf6\",\n  \"instance_id\": \"ead3646b-8ad5-4505-80e7-ff0afafe895b\",\n  \"url\": \"https://us-south.ml.cloud.ibm.com\"\n}",
            "execution_count": 2,
            "outputs": []
        },
        {
            "metadata": {},
            "cell_type": "markdown",
            "source": "#### Model Parameters\n\nWe use the same name for the Scikit model and the deployment to WML.\n\n__Ensure that the two parameters match the model / deployment you have previously subscribed__"
        },
        {
            "metadata": {},
            "cell_type": "code",
            "source": "MODEL_NAME = \"Spark German Risk Model\"\nDEPLOYMENT_NAME = \"Spark German Risk Deployment\"",
            "execution_count": 3,
            "outputs": []
        },
        {
            "metadata": {},
            "cell_type": "markdown",
            "source": "#### Gather Model Information"
        },
        {
            "metadata": {
                "scrolled": true
            },
            "cell_type": "code",
            "source": "from watson_machine_learning_client import WatsonMachineLearningAPIClient\n\nwml_client = WatsonMachineLearningAPIClient(WML_CREDENTIALS)\nwml_client.repository.list_models()\n\nmodel_uid = None\nwml_models = wml_client.repository.get_details()\nfor model_in in wml_models['models']['resources']:\n    if MODEL_NAME == model_in['entity']['name']:\n        model_uid = model_in['metadata']['guid']\n        break\n\ndeployment_uid = None\ndeployment = None\nscoring_url = None\nwml_deployments = wml_client.deployments.get_details()\nfor deployment_in in wml_deployments['resources']:\n    if DEPLOYMENT_NAME == deployment_in['entity']['name']:\n        deployment_uid = deployment_in['metadata']['guid']\n        scoring_url = deployment_in['entity']['scoring_url']\n        deployment = deployment_in\n        break\n\nif model_uid is None:\n    print(\"No model ...\")\n    \nif deployment_uid is None:\n    print(\"No Model deployment...\")\n    \nprint(\"Model id: {}\".format(model_uid))\nprint(\"Deployment id: {}\".format(deployment_uid))\nprint(\"Scoring URL: {}\".format(scoring_url))",
            "execution_count": 4,
            "outputs": [
                {
                    "output_type": "stream",
                    "text": "------------------------------------  -----------------------  ------------------------  ---------\nGUID                                  NAME                     CREATED                   FRAMEWORK\ne7e5151c-670f-4511-9756-934a0f3ebea3  Spark German Risk Model  2019-11-23T07:04:59.246Z  mllib-2.3\n------------------------------------  -----------------------  ------------------------  ---------\nModel id: e7e5151c-670f-4511-9756-934a0f3ebea3\nDeployment id: 5bea19b8-2ae7-4ce1-8df0-a09148a1485a\nScoring URL: https://us-south.ml.cloud.ibm.com/v3/wml_instances/ead3646b-8ad5-4505-80e7-ff0afafe895b/deployments/5bea19b8-2ae7-4ce1-8df0-a09148a1485a/online\n",
                    "name": "stdout"
                }
            ]
        },
        {
            "metadata": {},
            "cell_type": "markdown",
            "source": "### Send Requests to Model \n\nNow that we have some model monitors enabled, we will send some scoring requests through our model. This next section randomly selects 200 records from the data feed and sends those records to the model for predictions. This is enough to exceed the minimum threshold for records set in the previous section, which allows OpenScale to begin calculating fairness and drift."
        },
        {
            "metadata": {
                "scrolled": true
            },
            "cell_type": "code",
            "source": "import json\nimport random\nimport time\n\nfrom IPython.utils import io\n\n\nwith io.capture_output() as captured:\n    !wget https://raw.githubusercontent.com/pmservice/ai-openscale-tutorials/master/assets/historical_data/german_credit_risk/wml/german_credit_feed.json -O german_credit_feed.json\n!ls -lh german_credit_feed.json\n   \nwith open('german_credit_feed.json', 'r') as scoring_file:\n    scoring_data = json.load(scoring_file)\n\nfields = scoring_data['fields']\nvalues = []\nfor _ in range(200):\n    values.append(random.choice(scoring_data['values']))\npayload_scoring = {\"fields\": fields, \"values\": values}\n\nscoring_response = wml_client.deployments.score(scoring_url, payload_scoring)\n\nprint('Number of scoring results:', len(scoring_response['values']))\ntime.sleep(10)",
            "execution_count": 5,
            "outputs": [
                {
                    "output_type": "stream",
                    "text": "-rw-r----- 1 dsxuser dsxuser 3.0M Nov 23 17:56 german_credit_feed.json\nNumber of scoring results: 200\n",
                    "name": "stdout"
                }
            ]
        },
        {
            "metadata": {},
            "cell_type": "markdown",
            "source": "## Next steps\n\n\n__Return to the workshop instruction book.__\n\n\n## Credits\n\nThis notebook was adapted from the following sources:\n\n* [Monitor Models Code Pattern](https://github.com/IBM/monitor-wml-model-with-watson-openscale)\n* [OpenScale Labs](https://github.com/pmservice/OpenScale-Labs)\n* [OpenScale Tutorials](https://github.com/pmservice/ai-openscale-tutorials)\n\n#### Original Authors\n* Eric Martens, is a technical specialist having expertise in analysis and description of business processes, and their translation into functional and non-functional IT requirements. He acts as the interpreter between the worlds of IT and business.\n* Lukasz Cmielowski, PhD, is an Automation Architect and Data Scientist at IBM with a track record of developing enterprise-level applications that substantially increases clients' ability to turn data into actionable knowledge."
        },
        {
            "metadata": {},
            "cell_type": "code",
            "source": "",
            "execution_count": null,
            "outputs": []
        }
    ],
    "metadata": {
        "kernelspec": {
            "name": "python3",
            "display_name": "Python 3.6",
            "language": "python"
        },
        "language_info": {
            "name": "python",
            "version": "3.6.8",
            "mimetype": "text/x-python",
            "codemirror_mode": {
                "name": "ipython",
                "version": 3
            },
            "pygments_lexer": "ipython3",
            "nbconvert_exporter": "python",
            "file_extension": ".py"
        }
    },
    "nbformat": 4,
    "nbformat_minor": 1
}