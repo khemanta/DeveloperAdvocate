{
    "cells": [
        {
            "metadata": {},
            "cell_type": "markdown",
            "source": "# Model Scoring with Watson Machine Learning\n\nThis notebook should be run in a Watson Studio project, using Default Python 3.6 runtime environment. It requires service credentials to access the following Cloud services:\n* Watson Machine Learning\n\nThe notebook will submit requests to the German Credit Risk model."
        },
        {
            "metadata": {
                "collapsed": true
            },
            "cell_type": "markdown",
            "source": "#### Dependency Setup"
        },
        {
            "metadata": {},
            "cell_type": "code",
            "source": "!pip install --upgrade watson-machine-learning-client | tail -n 1",
            "execution_count": 16,
            "outputs": [
                {
                    "output_type": "stream",
                    "text": "Requirement already satisfied, skipping upgrade: jmespath<1.0.0,>=0.7.1 in /opt/conda/envs/Python36/lib/python3.6/site-packages (from ibm-cos-sdk-core==2.*,>=2.0.0->ibm-cos-sdk->watson-machine-learning-client) (0.9.3)\r\n",
                    "name": "stdout"
                }
            ]
        },
        {
            "metadata": {},
            "cell_type": "markdown",
            "source": "#### Configure Service Credentials\n\nUpdate the two cells below with your Cloud API Key and your Watson Machine Learning service credentials."
        },
        {
            "metadata": {
                "scrolled": true
            },
            "cell_type": "code",
            "source": "WML_CREDENTIALS = {\n  \"apikey\": \"Rk2Chr1ij8WCQgMThbYME0-o28aa2nwtrAMH7eMspYJP\",\n  \"iam_apikey_description\": \"Auto-generated for key 1cbdf600-c774-449f-8d7d-3ab37b1a793f\",\n  \"iam_apikey_name\": \"Service credentials-1\",\n  \"iam_role_crn\": \"crn:v1:bluemix:public:iam::::serviceRole:Writer\",\n  \"iam_serviceid_crn\": \"crn:v1:bluemix:public:iam-identity::a/44f657e1cfa9244c30605fcaaa86343a::serviceid:ServiceId-7aa04496-3655-4f42-856e-80957aa89bf6\",\n  \"instance_id\": \"ead3646b-8ad5-4505-80e7-ff0afafe895b\",\n  \"url\": \"https://us-south.ml.cloud.ibm.com\"\n}\n",
            "execution_count": 17,
            "outputs": []
        },
        {
            "metadata": {},
            "cell_type": "markdown",
            "source": "#### Model Parameters\n\nWe use the same name for the spark model and the deployment to WML.\n\n__Ensure that the two parameters match the model / deployment you have previously subscribed__"
        },
        {
            "metadata": {},
            "cell_type": "code",
            "source": "MODEL_NAME = \"Spark German Risk Model\"\nDEPLOYMENT_NAME = \"Spark German Risk Deployment\"",
            "execution_count": 18,
            "outputs": []
        },
        {
            "metadata": {},
            "cell_type": "markdown",
            "source": "#### Gather Model Information"
        },
        {
            "metadata": {
                "scrolled": true
            },
            "cell_type": "code",
            "source": "from watson_machine_learning_client import WatsonMachineLearningAPIClient\n\nwml_client = WatsonMachineLearningAPIClient(WML_CREDENTIALS)\nwml_client.repository.list_models()\n\nmodel_uid = None\nwml_models = wml_client.repository.get_details()\nfor model_in in wml_models['models']['resources']:\n    if MODEL_NAME == model_in['entity']['name']:\n        model_uid = model_in['metadata']['guid']\n        break\n\ndeployment_uid = None\ndeployment = None\nscoring_url = None\nwml_deployments = wml_client.deployments.get_details()\nfor deployment_in in wml_deployments['resources']:\n    if DEPLOYMENT_NAME == deployment_in['entity']['name']:\n        deployment_uid = deployment_in['metadata']['guid']\n        scoring_url = deployment_in['entity']['scoring_url']\n        deployment = deployment_in\n        break\n\nif model_uid is None:\n    print(\"No model ...\")\n    \nif deployment_uid is None:\n    print(\"No Model deployment...\")\n    \nprint(\"Model id: {}\".format(model_uid))\nprint(\"Deployment id: {}\".format(deployment_uid))\nprint(\"Scoring URL: {}\".format(scoring_url))",
            "execution_count": 19,
            "outputs": [
                {
                    "output_type": "stream",
                    "text": "------------------------------------  -----------------------  ------------------------  ---------\nGUID                                  NAME                     CREATED                   FRAMEWORK\n4ef56f6c-c9ad-49b3-8edf-6a523d15e3ab  Spark German Risk Model  2019-11-23T18:31:27.034Z  mllib-2.3\n------------------------------------  -----------------------  ------------------------  ---------\nModel id: 4ef56f6c-c9ad-49b3-8edf-6a523d15e3ab\nDeployment id: ddae0e84-ef9b-4d84-b7c1-1a052d32aa5e\nScoring URL: https://us-south.ml.cloud.ibm.com/v3/wml_instances/ead3646b-8ad5-4505-80e7-ff0afafe895b/deployments/ddae0e84-ef9b-4d84-b7c1-1a052d32aa5e/online\n",
                    "name": "stdout"
                }
            ]
        },
        {
            "metadata": {},
            "cell_type": "markdown",
            "source": "### Send Requests to Model \n\nUpdate the values below with the payload values you want to submit to the model"
        },
        {
            "metadata": {
                "scrolled": true
            },
            "cell_type": "code",
            "source": "import json\n\nfields = [\"CheckingStatus\",\"LoanDuration\",\"CreditHistory\",\"LoanPurpose\",\"LoanAmount\",\"ExistingSavings\",\"EmploymentDuration\",\"InstallmentPercent\",\"Sex\",\"OthersOnLoan\",\"CurrentResidenceDuration\",\"OwnsProperty\",\"Age\",\"InstallmentPlans\",\"Housing\",\"ExistingCreditsCount\",\"Job\",\"Dependents\",\"Telephone\",\"ForeignWorker\"]\nvalues = [\n    [\"greater_200\",17, \"outstanding_credit\", \"radio_tv\",5181, \"100_to_500\", \"1_to_4\",3, \"male\", \"none\",4, \"car_other\",3, \"stores\", \"own\",1, \"skilled\",1, \"none\", \"yes\"],\n    [\"no_checking\", 34, \"outstanding_credit\", \"repairs\", 6008, \"500_to_1000\", \"greater_7\", 5,\"male\", \"co-applicant\", 3, \"savings_insurance\", 35, \"none\", \"free\", 2, \"management_self-employed\", 1, \"yes\", \"yes\"],\n    [\"no_checking\", 23, \"outstanding_credit\", \"business\", 2817, \"500_to_1000\", \"1_to_4\", 4, \"male\", \"none\", 4, \"savings_insurance\", 35, \"none\", \"own\", 1, \"management_self-employed\", 1, \"yes\", \"yes\"]\n]\n\n\npayload_scoring = {\"fields\": fields,\"values\": values}\nscoring_response = wml_client.deployments.score(scoring_url, payload_scoring)\n\nfor val in scoring_response['values']:\n    print(val[len(val) -1 ])\n",
            "execution_count": 20,
            "outputs": [
                {
                    "output_type": "stream",
                    "text": "No Risk\nRisk\nNo Risk\n",
                    "name": "stdout"
                }
            ]
        },
        {
            "metadata": {},
            "cell_type": "markdown",
            "source": "## Next steps\n\n\n__Use the output from the cell above to validate your participation in the lab for a badge.__\n"
        },
        {
            "metadata": {},
            "cell_type": "code",
            "source": "",
            "execution_count": null,
            "outputs": []
        }
    ],
    "metadata": {
        "kernelspec": {
            "name": "python3",
            "display_name": "Python 3.6",
            "language": "python"
        },
        "language_info": {
            "name": "python",
            "version": "3.6.8",
            "mimetype": "text/x-python",
            "codemirror_mode": {
                "name": "ipython",
                "version": 3
            },
            "pygments_lexer": "ipython3",
            "nbconvert_exporter": "python",
            "file_extension": ".py"
        }
    },
    "nbformat": 4,
    "nbformat_minor": 1
}