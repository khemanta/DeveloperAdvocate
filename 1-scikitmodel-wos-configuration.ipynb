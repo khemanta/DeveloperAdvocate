{
    "cells": [
        {
            "cell_type": "markdown",
            "metadata": {},
            "source": "# Watson OpenScale and Watson Machine Learning "
        },
        {
            "cell_type": "markdown",
            "metadata": {},
            "source": "This notebook should be run in a Watson Studio project, using **Default Python 3.6** runtime environment. It assumes the required services have already been provisioned and will require service credentials and a Cloud API key to access the following Cloud services:\n  * Watson Machine Learning\n  * Watson OpenScale\n  \nThe notebook will train and deploy a German Credit Risk model, then configure Watson OpenScale to subscribe the deployed model."
        },
        {
            "cell_type": "markdown",
            "metadata": {},
            "source": "### Dependency Setup"
        },
        {
            "cell_type": "code",
            "execution_count": null,
            "metadata": {},
            "outputs": [],
            "source": "!pip install --upgrade ibm-ai-openscale --no-cache | tail -n 1\n!pip install --upgrade watson-machine-learning-client | tail -n 1\n!pip install lime --no-cache | tail -n 1\n!pip install --upgrade pixiedust | tail -n 1"
        },
        {
            "cell_type": "code",
            "execution_count": null,
            "metadata": {},
            "outputs": [],
            "source": "import numpy as np\nimport pandas as pd\nimport pixiedust\nimport json\nimport requests\nimport matplotlib.pyplot as plt\n\nfrom IPython.utils import io\n\nfrom sklearn.linear_model import SGDClassifier\nfrom sklearn.preprocessing import LabelEncoder, OneHotEncoder\nfrom sklearn.decomposition import TruncatedSVD\nfrom sklearn.compose import ColumnTransformer\nfrom sklearn.pipeline import Pipeline\nfrom sklearn.model_selection import train_test_split\nfrom sklearn.metrics import roc_auc_score\n\nfrom watson_machine_learning_client import WatsonMachineLearningAPIClient\n\nfrom ibm_ai_openscale import APIClient\nfrom ibm_ai_openscale.engines import *\nfrom ibm_ai_openscale.utils import *\nfrom ibm_ai_openscale.supporting_classes.enums import *"
        },
        {
            "cell_type": "markdown",
            "metadata": {},
            "source": "### Service Credentials\n\nWe will be building a machine learning model below and deploying it to the Watson Machine Learning service. To interact with the service, you will need credentials for your Watson Machine Learning service instance. Copy and paste your WML credentials into the cell below."
        },
        {
            "cell_type": "code",
            "execution_count": null,
            "metadata": {
                "scrolled": true
            },
            "outputs": [],
            "source": "WML_CREDENTIALS = {\n    \"apikey\": \"key\",\n    \"iam_apikey_description\": \"description\",\n    \"iam_apikey_name\": \"auto-generated-apikey\",\n    \"iam_role_crn\": \"crn:v1:bluemix:public:iam::::serviceRole:Writer\",\n    \"iam_serviceid_crn\": \"crn:v1:bluemix:public:iam-identity::\",\n    \"instance_id\": \"instance_id\",\n    \"password\": \"password\",\n    \"url\": \"https://us-south.ml.cloud.ibm.com\",\n    \"username\": \"username\"\n}"
        },
        {
            "cell_type": "markdown",
            "metadata": {},
            "source": "To interact with the Watson OpenScale service, we will use the Cloud API Key to find the service instances GUID."
        },
        {
            "cell_type": "code",
            "execution_count": null,
            "metadata": {},
            "outputs": [],
            "source": "CLOUD_API_KEY = \"PASTE HERE\""
        },
        {
            "cell_type": "markdown",
            "metadata": {},
            "source": "### Model Parameters\n\nWe will use the following name for the Scikit model and the deployment to WML."
        },
        {
            "cell_type": "code",
            "execution_count": null,
            "metadata": {},
            "outputs": [],
            "source": "MODEL_NAME = \"Scikit German Risk Model\"\nDEPLOYMENT_NAME = \"Scikit German Risk Deployment\""
        },
        {
            "cell_type": "markdown",
            "metadata": {},
            "source": "## Build and Deploy a model to Watson Machine Learning\n\nIn this section you will learn how to train Scikit-learn model and next deploy it as web-service using Watson Machine Learning service."
        },
        {
            "cell_type": "markdown",
            "metadata": {},
            "source": "#### Load and explore the training data"
        },
        {
            "cell_type": "code",
            "execution_count": null,
            "metadata": {
                "scrolled": true
            },
            "outputs": [],
            "source": "!rm german_credit_data_biased_training.csv\nwith io.capture_output() as captured:\n    !wget https://raw.githubusercontent.com/pmservice/ai-openscale-tutorials/master/assets/historical_data/german_credit_risk/wml/german_credit_data_biased_training.csv  -O german_credit_data_biased_training.csv\n    \n!ls -lh german_credit_data_biased_training.csv\n\ndata_df = pd.read_csv('german_credit_data_biased_training.csv')\ndata_df.head()"
        },
        {
            "cell_type": "code",
            "execution_count": null,
            "metadata": {
                "scrolled": true
            },
            "outputs": [],
            "source": "print('Number of records: ', data_df.Risk.count())\nprint('Number of columns: ', len(data_df.columns))\nprint('Columns: ', '\\n  '.join(it for it in data_df.columns))#list(data_df.columns))"
        },
        {
            "cell_type": "markdown",
            "metadata": {},
            "source": "As you can see, we have 5000 records in this data set and the data contains twenty one fields. `Risk` field is the one you would like to predict using feedback data."
        },
        {
            "cell_type": "code",
            "execution_count": null,
            "metadata": {},
            "outputs": [],
            "source": "target_count = data_df.groupby('Risk')['Risk'].count()\nprint(target_count)\ntarget_count.plot.pie(figsize=(8, 8));"
        },
        {
            "cell_type": "code",
            "execution_count": null,
            "metadata": {
                "pixiedust": {
                    "displayParams": {
                        "binsize": "10",
                        "chartsize": "100",
                        "handlerId": "barChart",
                        "rendererId": "brunel",
                        "valueFields": "Age"
                    }
                }
            },
            "outputs": [],
            "source": "# Optional, use PixieDust to visualize the data\n#display(data_df)"
        },
        {
            "cell_type": "markdown",
            "metadata": {},
            "source": "#### Create and train model\n\nNow that we have our data, we can commence with data preparation to build and train the machine learning pipeline."
        },
        {
            "cell_type": "code",
            "execution_count": null,
            "metadata": {},
            "outputs": [],
            "source": "train_data, test_data = train_test_split(data_df, test_size=0.2)"
        },
        {
            "cell_type": "code",
            "execution_count": null,
            "metadata": {
                "scrolled": true
            },
            "outputs": [],
            "source": "features_idx = np.s_[0:-1]\nall_records_idx = np.s_[:]\nfirst_record_idx = np.s_[0]"
        },
        {
            "cell_type": "markdown",
            "metadata": {},
            "source": "In this step you will encode target column labels into numeric values. You can use `inverse_transform` to decode numeric predictions into labels."
        },
        {
            "cell_type": "code",
            "execution_count": null,
            "metadata": {},
            "outputs": [],
            "source": "string_fields = [type(fld) is str for fld in train_data.iloc[first_record_idx, features_idx]]\nct = ColumnTransformer([(\"ohe\", OneHotEncoder(), list(np.array(train_data.columns)[features_idx][string_fields]))])\nclf_linear = SGDClassifier(loss='log', penalty='l2', max_iter=1000, tol=1e-5)\npipeline_linear = Pipeline([('ct', ct), ('clf_linear', clf_linear)])"
        },
        {
            "cell_type": "code",
            "execution_count": null,
            "metadata": {},
            "outputs": [],
            "source": "risk_model = pipeline_linear.fit(train_data.drop('Risk', axis=1), train_data.Risk)"
        },
        {
            "cell_type": "markdown",
            "metadata": {},
            "source": "#### Evaluate the model"
        },
        {
            "cell_type": "code",
            "execution_count": null,
            "metadata": {},
            "outputs": [],
            "source": "predictions = risk_model.predict(test_data.drop('Risk', axis=1))\nindexed_preds = [0 if prediction=='No Risk' else 1 for prediction in predictions]\n\nreal_observations = test_data.Risk.replace('Risk', 1)\nreal_observations = real_observations.replace('No Risk', 0).values\n\nauc = roc_auc_score(real_observations, indexed_preds)\nprint(\"areaUnderROC = %g\" % auc)"
        },
        {
            "cell_type": "markdown",
            "metadata": {},
            "source": "#### Publish the model"
        },
        {
            "cell_type": "markdown",
            "metadata": {},
            "source": "In this section, the notebook uses the supplied Watson Machine Learning credentials to save the model (including the pipeline) to the WML instance. Previous versions of the model are removed so that the notebook can be run again, resetting all data for another demo."
        },
        {
            "cell_type": "code",
            "execution_count": null,
            "metadata": {
                "scrolled": true
            },
            "outputs": [],
            "source": "wml_client = WatsonMachineLearningAPIClient(WML_CREDENTIALS)\n# wml_client.service_instance.get_details()\n\nmodel_deployment_ids = wml_client.deployments.get_uids()\nfor deployment_id in model_deployment_ids:\n    deployment = wml_client.deployments.get_details(deployment_id)\n    model_id = deployment['entity']['deployable_asset']['guid']\n    if deployment['entity']['name'] == DEPLOYMENT_NAME:\n        print('Deleting deployment id', deployment_id)\n        wml_client.deployments.delete(deployment_id)\n        print('Deleting model id', model_id)\n        wml_client.repository.delete(model_id)\n\nwml_client.repository.list_models()"
        },
        {
            "cell_type": "code",
            "execution_count": null,
            "metadata": {
                "scrolled": true
            },
            "outputs": [],
            "source": "with io.capture_output() as captured:\n    !wget https://raw.githubusercontent.com/pmservice/wml-sample-models/master/spark/credit-risk/meta/credit-risk-meta.json -O credit-risk-meta.json\n!ls -lh credit-risk-meta.json\nwith open('credit-risk-meta.json') as f:\n    [training_data_reference, *_] = json.load(f)['model_meta']['training_data_reference']\n\nmodel_props = {\n    wml_client.repository.ModelMetaNames.NAME: \"{}\".format(MODEL_NAME),\n    wml_client.repository.ModelMetaNames.EVALUATION_METHOD: \"binary\",\n    wml_client.repository.ModelMetaNames.TRAINING_DATA_REFERENCE: training_data_reference,\n    wml_client.repository.ModelMetaNames.EVALUATION_METRICS: [\n        {\n           \"name\": \"areaUnderROC\",\n           \"value\": auc,\n           \"threshold\": 0.7\n        }\n    ]\n}"
        },
        {
            "cell_type": "code",
            "execution_count": null,
            "metadata": {
                "scrolled": true
            },
            "outputs": [],
            "source": "wml_models = wml_client.repository.get_details()\nmodel_uid = None\nfor model_in in wml_models['models']['resources']:\n    if MODEL_NAME == model_in['entity']['name']:\n        model_uid = model_in['metadata']['guid']\n        break\n\nif model_uid is None:\n    print(\"Storing model ...\")\n\n    published_model_details = wml_client.repository.store_model(model=risk_model, meta_props=model_props, training_data=data_df.drop(['Risk'], axis=1), training_target=data_df.Risk)\n    model_uid = wml_client.repository.get_model_uid(published_model_details)\n    print(\"Done\")\n    \nwml_client.repository.list_models()"
        },
        {
            "cell_type": "markdown",
            "metadata": {},
            "source": "#### Deploy the model\nThe next section of the notebook deploys the model as a RESTful web service in Watson Machine Learning. The deployed model will have a scoring URL you can use to send data to the model for predictions."
        },
        {
            "cell_type": "code",
            "execution_count": null,
            "metadata": {
                "scrolled": true
            },
            "outputs": [],
            "source": "wml_deployments = wml_client.deployments.get_details()\ndeployment_uid = None\nfor deployment in wml_deployments['resources']:\n    if DEPLOYMENT_NAME == deployment['entity']['name']:\n        deployment_uid = deployment['metadata']['guid']        \n        scoring_url = deployment_in['entity']['scoring_url']\n        break\n\nif deployment_uid is None:\n    print(\"Deploying model...\")\n    deployment = wml_client.deployments.create(artifact_uid=model_uid, name=DEPLOYMENT_NAME, asynchronous=False)\n    deployment_uid = wml_client.deployments.get_uid(deployment)\n    scoring_url = wml_client.deployments.get_scoring_url(deployment)\n    \nprint(\"Model id: {}\".format(model_uid))\nprint(\"Deployment id: {}\".format(deployment_uid))\nprint(\"Scoring URL: {}\".format(scoring_url))"
        },
        {
            "cell_type": "markdown",
            "metadata": {},
            "source": "#### Test the scoring endpoint\nWe can test the deployed model endpoint with some sample data."
        },
        {
            "cell_type": "code",
            "execution_count": null,
            "metadata": {},
            "outputs": [],
            "source": "fields = [\"CheckingStatus\", \"LoanDuration\", \"CreditHistory\", \"LoanPurpose\", \"LoanAmount\", \"ExistingSavings\",\n                  \"EmploymentDuration\", \"InstallmentPercent\", \"Sex\", \"OthersOnLoan\", \"CurrentResidenceDuration\",\n                  \"OwnsProperty\", \"Age\", \"InstallmentPlans\", \"Housing\", \"ExistingCreditsCount\", \"Job\", \"Dependents\",\n                  \"Telephone\", \"ForeignWorker\"]\nvalues = [\n            [\"no_checking\", 13, \"credits_paid_to_date\", \"car_new\", 1343, \"100_to_500\", \"1_to_4\", 2, \"female\", \"none\", 3,\n             \"savings_insurance\", 46, \"none\", \"own\", 2, \"skilled\", 1, \"none\", \"yes\"]\n        ]\n\nscoring_payload = {\"fields\": fields, \"values\": values}\npredictions = wml_client.deployments.score(scoring_url, scoring_payload)\nprint('Scoring result:', '\\n fields:', predictions['fields'], '\\n values: \\n ', '\\n  '.join([str(elem) for elem in predictions['values']]))"
        },
        {
            "cell_type": "markdown",
            "metadata": {},
            "source": "## Configure Watson OpenScale\n\n"
        },
        {
            "cell_type": "markdown",
            "metadata": {},
            "source": "#### Get Watson OpenScale GUID\n\nEach instance of OpenScale has a unique ID. We can get this value using the Cloud API key specified at the beginning of the notebook.\n"
        },
        {
            "cell_type": "code",
            "execution_count": null,
            "metadata": {},
            "outputs": [],
            "source": "WOS_GUID = get_instance_guid(api_key=CLOUD_API_KEY)\nWOS_CREDENTIALS = {\n    \"instance_guid\": WOS_GUID,\n    \"apikey\": CLOUD_API_KEY,\n    \"url\": \"https://api.aiopenscale.cloud.ibm.com\"\n}\n\nif WOS_GUID is None:\n    print('Watson OpenScale GUID NOT FOUND')\nelse:\n    print(\"Watson OpenScale GUID: {}\".format(WOS_GUID))\n\nwos_client = APIClient(aios_credentials=WOS_CREDENTIALS)\nprint(\"Watson OpenScale Python Client Version: {}\".format(wos_client.version))"
        },
        {
            "cell_type": "markdown",
            "metadata": {},
            "source": "#### Create schema and datamart\n\nWatson OpenScale uses a database to store payload logs and calculated metrics. Databases for PostgreSQL, Db2 Warehouse, or a free internal verison of PostgreSQL can be used to create a datamart for OpenScale.\n\nThis notebook will use the free, internal lite database. If you have previously configured OpenScale, it will use your existing datamart, and not interfere with any models you are currently monitoring. Do not update the cell below.\n\nIf you previously configured OpenScale to use the free internal version of PostgreSQL, you can switch to a new datamart using a paid database service. If you would like to delete the internal PostgreSQL configuration and create a new one using service credentials supplied in the cell above, set the KEEP_MY_INTERNAL_POSTGRES variable below to False below. In this case, the notebook will remove your existing internal PostgreSQL datamart and create a new one with the supplied credentials. NO DATA MIGRATION WILL OCCUR.\n\nPrior instances of the German Credit model will be removed from OpenScale monitoring.\n"
        },
        {
            "cell_type": "code",
            "execution_count": null,
            "metadata": {},
            "outputs": [],
            "source": "KEEP_MY_INTERNAL_POSTGRES = True"
        },
        {
            "cell_type": "code",
            "execution_count": null,
            "metadata": {},
            "outputs": [],
            "source": "try:\n    data_mart_details = wos_client.data_mart.get_details()\n    if 'internal_database' in data_mart_details and data_mart_details['internal_database']:\n        if KEEP_MY_INTERNAL_POSTGRES:\n            print('Using existing internal datamart.')\n        else:\n            print('Resetting internal datamart')\n            wos_client.data_mart.delete(force=True)\n            wos_client.data_mart.setup(internal_db=True)\n    else:\n        print('Using existing external datamart')\nexcept:\n    print('Setting up internal datamart')\n    wos_client.data_mart.setup(internal_db=True)"
        },
        {
            "cell_type": "code",
            "execution_count": null,
            "metadata": {},
            "outputs": [],
            "source": "data_mart_details = wos_client.data_mart.get_details()\ndata_mart_details"
        },
        {
            "cell_type": "markdown",
            "metadata": {},
            "source": "#### Bind machine learning engines\n\nWatson OpenScale needs to be bound to the Watson Machine Learning instance to capture payload data into and out of the model. If this binding already exists, this code will output a warning message and use the existing binding.\n\nNote: You can bind more than one engine instance if needed by calling ai_client.data_mart.bindings.add method. Next, you can refer to particular binding using binding_uid."
        },
        {
            "cell_type": "code",
            "execution_count": null,
            "metadata": {},
            "outputs": [],
            "source": "binding_uid = wos_client.data_mart.bindings.add('WML instance', WatsonMachineLearningInstance(WML_CREDENTIALS))\nif binding_uid is None:\n    binding_uid = wos_client.data_mart.bindings.get_details()['service_bindings'][0]['metadata']['guid']\nbindings_details = wos_client.data_mart.bindings.get_details()\nprint(\"Model Serve Engine Binding ID: {}\".format(binding_uid))"
        },
        {
            "cell_type": "code",
            "execution_count": null,
            "metadata": {},
            "outputs": [],
            "source": "wos_client.data_mart.bindings.list()\nwos_client.data_mart.bindings.list_assets()"
        },
        {
            "cell_type": "markdown",
            "metadata": {},
            "source": "#### Subscriptions\n\nNext we will subscribe OpenScale to the deployed model so that we can configure our monitors. We will first remove previous subscriptions to the German Credit model to refresh the monitors with the new model and new data. Then we will create the model subscription in OpenScale using the Python client API. Note that we need to provide the model unique identifier, and some information about the model itself."
        },
        {
            "cell_type": "code",
            "execution_count": null,
            "metadata": {},
            "outputs": [],
            "source": "subscriptions_uids = wos_client.data_mart.subscriptions.get_uids()\nfor subscription in subscriptions_uids:\n    sub_name = wos_client.data_mart.subscriptions.get_details(subscription)['entity']['asset']['name']\n    if sub_name == MODEL_NAME:\n        wos_client.data_mart.subscriptions.delete(subscription)\n        print('Deleted existing subscription for', MODEL_NAME)"
        },
        {
            "cell_type": "code",
            "execution_count": null,
            "metadata": {},
            "outputs": [],
            "source": "subscription = wos_client.data_mart.subscriptions.add(WatsonMachineLearningAsset(\n    model_uid,\n    problem_type=ProblemType.BINARY_CLASSIFICATION,\n    input_data_type=InputDataType.STRUCTURED,\n    label_column='Risk',\n    prediction_column='prediction',\n    probability_column='probability',\n    feature_columns = [\"CheckingStatus\",\"LoanDuration\",\"CreditHistory\",\"LoanPurpose\",\"LoanAmount\",\"ExistingSavings\",\"EmploymentDuration\",\"InstallmentPercent\",\"Sex\",\"OthersOnLoan\",\"CurrentResidenceDuration\",\"OwnsProperty\",\"Age\",\"InstallmentPlans\",\"Housing\",\"ExistingCreditsCount\",\"Job\",\"Dependents\",\"Telephone\",\"ForeignWorker\"],\n    categorical_columns = [\"CheckingStatus\",\"CreditHistory\",\"LoanPurpose\",\"ExistingSavings\",\"EmploymentDuration\",\"Sex\",\"OthersOnLoan\",\"OwnsProperty\",\"InstallmentPlans\",\"Housing\",\"Job\",\"Telephone\",\"ForeignWorker\"]\n))\n\nif subscription is None:\n    print('Subscription already exists; get the existing one')\n    subscriptions_uids = wos_client.data_mart.subscriptions.get_uids()\n    for sub in subscriptions_uids:\n        if wos_client.data_mart.subscriptions.get_details(sub)['entity']['asset']['name'] == MODEL_NAME:\n            subscription = wos_client.data_mart.subscriptions.get(sub)"
        },
        {
            "cell_type": "code",
            "execution_count": null,
            "metadata": {},
            "outputs": [],
            "source": "subscriptions_uids = wos_client.data_mart.subscriptions.get_uids()\nsubscription_details = subscription.get_details()\n\n#print(subscriptions_uids)\n#print(subscription_details)\n\nwos_client.data_mart.subscriptions.list()\nwos_client.data_mart.bindings.list_assets()"
        },
        {
            "cell_type": "markdown",
            "metadata": {},
            "source": "#### Score the model so we can configure monitors\n\nNow that the WML service has been bound and the subscription has been created, we need to send a request to the model before we configure OpenScale. This allows OpenScale to create a payload log in the datamart with the correct schema, so it can capture data coming into and out of the model."
        },
        {
            "cell_type": "code",
            "execution_count": null,
            "metadata": {},
            "outputs": [],
            "source": "fields = [\"CheckingStatus\",\"LoanDuration\",\"CreditHistory\",\"LoanPurpose\",\"LoanAmount\",\"ExistingSavings\",\"EmploymentDuration\",\"InstallmentPercent\",\"Sex\",\"OthersOnLoan\",\"CurrentResidenceDuration\",\"OwnsProperty\",\"Age\",\"InstallmentPlans\",\"Housing\",\"ExistingCreditsCount\",\"Job\",\"Dependents\",\"Telephone\",\"ForeignWorker\"]\nvalues = [\n  [\"no_checking\",13,\"credits_paid_to_date\",\"car_new\",1343,\"100_to_500\",\"1_to_4\",2,\"female\",\"none\",3,\"savings_insurance\",46,\"none\",\"own\",2,\"skilled\",1,\"none\",\"yes\"],\n  [\"no_checking\",24,\"prior_payments_delayed\",\"furniture\",4567,\"500_to_1000\",\"1_to_4\",4,\"male\",\"none\",4,\"savings_insurance\",36,\"none\",\"free\",2,\"management_self-employed\",1,\"none\",\"yes\"],\n  [\"0_to_200\",26,\"all_credits_paid_back\",\"car_new\",863,\"less_100\",\"less_1\",2,\"female\",\"co-applicant\",2,\"real_estate\",38,\"none\",\"own\",1,\"skilled\",1,\"none\",\"yes\"],\n  [\"0_to_200\",14,\"no_credits\",\"car_new\",2368,\"less_100\",\"1_to_4\",3,\"female\",\"none\",3,\"real_estate\",29,\"none\",\"own\",1,\"skilled\",1,\"none\",\"yes\"],\n  [\"0_to_200\",4,\"no_credits\",\"car_new\",250,\"less_100\",\"unemployed\",2,\"female\",\"none\",3,\"real_estate\",23,\"none\",\"rent\",1,\"management_self-employed\",1,\"none\",\"yes\"],\n  [\"no_checking\",17,\"credits_paid_to_date\",\"car_new\",832,\"100_to_500\",\"1_to_4\",2,\"male\",\"none\",2,\"real_estate\",42,\"none\",\"own\",1,\"skilled\",1,\"none\",\"yes\"],\n  [\"no_checking\",33,\"outstanding_credit\",\"appliances\",5696,\"unknown\",\"greater_7\",4,\"male\",\"co-applicant\",4,\"unknown\",54,\"none\",\"free\",2,\"skilled\",1,\"yes\",\"yes\"],\n  [\"0_to_200\",13,\"prior_payments_delayed\",\"retraining\",1375,\"100_to_500\",\"4_to_7\",3,\"male\",\"none\",3,\"real_estate\",37,\"none\",\"own\",2,\"management_self-employed\",1,\"none\",\"yes\"]\n]\n\npayload_scoring = {\"fields\": fields,\"values\": values}\nscoring_response = wml_client.deployments.score(scoring_url, payload_scoring)\n\nprint('Single record scoring result:', '\\n fields:', scoring_response['fields'], '\\n values: \\n ', '\\n  '.join([str(elem) for elem in scoring_response['values']]))"
        },
        {
            "cell_type": "code",
            "execution_count": null,
            "metadata": {},
            "outputs": [],
            "source": "# Payload will be logged in the datamart. Re-run this cell if there are no results in the table.\nprint('Number of records in payload table (should be 8): ', subscription.payload_logging.get_records_count())\nsubscription.payload_logging.show_table()"
        },
        {
            "cell_type": "markdown",
            "metadata": {},
            "source": "## Next steps\n\nOpenScale is ready to monitor the model. We can configure various types of monitors (quality, fairness, explainability, drift, etc) using either the UI or through a python client. \n\n__Proceed to the next module in the lab to configure the monitors.__\n\n\n  \n## Credits\n\nThis notebook was adapted from the following sources:\n* [Monitor Models Code Pattern](https://github.com/IBM/monitor-wml-model-with-watson-openscale)\n* [OpenScale Labs](https://github.com/pmservice/OpenScale-Labs)\n* [OpenScale Tutorials](https://github.com/pmservice/ai-openscale-tutorials)\n\n#### Original Authors\n* Eric Martens, is a technical specialist having expertise in analysis and description of business processes, and their translation into functional and non-functional IT requirements. He acts as the interpreter between the worlds of IT and business.\n* Lukasz Cmielowski, PhD, is an Automation Architect and Data Scientist at IBM with a track record of developing enterprise-level applications that substantially increases clients' ability to turn data into actionable knowledge."
        },
        {
            "cell_type": "code",
            "execution_count": null,
            "metadata": {},
            "outputs": [],
            "source": ""
        }
    ],
    "metadata": {
        "kernelspec": {
            "display_name": "Python 3.6",
            "language": "python",
            "name": "python3"
        },
        "language_info": {
            "codemirror_mode": {
                "name": "ipython",
                "version": 3
            },
            "file_extension": ".py",
            "mimetype": "text/x-python",
            "name": "python",
            "nbconvert_exporter": "python",
            "pygments_lexer": "ipython3",
            "version": "3.6.8"
        }
    },
    "nbformat": 4,
    "nbformat_minor": 1
}