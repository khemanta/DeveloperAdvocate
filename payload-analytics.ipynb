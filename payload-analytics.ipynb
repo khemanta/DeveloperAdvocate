{
    "cells": [
        {
            "cell_type": "markdown",
            "metadata": {},
            "source": "# Payload Analytics with Watson OpenScale\n\nThis notebook should be run in a Watson Studio project, using Default Python 3.6 runtime environment. It requires service credentials and a Cloud API key to access the following Cloud services:\n* Watson OpenScale\n\nThe notebook will gather and visualize payload records from Watson OpenScale for the German Credit Risk model. The notebook assumes the model has been created/deployed to Watson Machine Learning and that the subscription has been created in Watson OpenScale."
        },
        {
            "cell_type": "markdown",
            "metadata": {
                "collapsed": true
            },
            "source": "#### Dependency Setup"
        },
        {
            "cell_type": "code",
            "execution_count": null,
            "metadata": {},
            "outputs": [],
            "source": "!pip install --upgrade ibm-ai-openscale --no-cache | tail -n 1"
        },
        {
            "cell_type": "code",
            "execution_count": null,
            "metadata": {},
            "outputs": [],
            "source": "import pandas as pd\nimport json\nimport time\n\nfrom datetime import datetime\nfrom ibm_ai_openscale import APIClient\nfrom ibm_ai_openscale.utils import get_instance_guid"
        },
        {
            "cell_type": "markdown",
            "metadata": {},
            "source": "#### Configure Service Credentials\n\nUpdate the cells below with your Cloud API Key."
        },
        {
            "cell_type": "code",
            "execution_count": null,
            "metadata": {
                "scrolled": true
            },
            "outputs": [],
            "source": "CLOUD_API_KEY = \"PASTE HERE\""
        },
        {
            "cell_type": "markdown",
            "metadata": {},
            "source": "#### Model Parameters\n\n__Ensure that the two parameters match the model / deployment you have previously subscribed__"
        },
        {
            "cell_type": "code",
            "execution_count": null,
            "metadata": {},
            "outputs": [],
            "source": "MODEL_NAME = \"Spark German Risk Model\"\nDEPLOYMENT_NAME = \"Spark German Risk Deployment\""
        },
        {
            "cell_type": "markdown",
            "metadata": {},
            "source": "#### Get Watson OpenScale GUID\nEach instance of OpenScale has a unique ID. We can get this value using the Cloud API key specified at the beginning of the notebook."
        },
        {
            "cell_type": "code",
            "execution_count": null,
            "metadata": {},
            "outputs": [],
            "source": "wos_client = None\nWOS_GUID = get_instance_guid(api_key=CLOUD_API_KEY)\nWOS_CREDENTIALS = {\n    \"instance_guid\": WOS_GUID,\n    \"apikey\": CLOUD_API_KEY,\n    \"url\": \"https://api.aiopenscale.cloud.ibm.com\"\n}\n\nif WOS_GUID is None:\n    print('Watson OpenScale GUID NOT FOUND')\nelse:\n    print(\"Watson OpenScale GUID: {}\".format(WOS_GUID))\n\nwos_client = APIClient(aios_credentials=WOS_CREDENTIALS)\nprint(\"Watson OpenScale Python Client Version: {}\".format(wos_client.version))"
        },
        {
            "cell_type": "markdown",
            "metadata": {},
            "source": "#### Get subscription\n\nWe have previously subscribed Watson OpenScale to our machine learning model. Here we get that subscription."
        },
        {
            "cell_type": "code",
            "execution_count": null,
            "metadata": {
                "scrolled": false
            },
            "outputs": [],
            "source": "wos_client.data_mart.subscriptions.list()\n\nsubscriptions_uids = wos_client.data_mart.subscriptions.get_uids()\nsubscription_id = None\nfor sub in subscriptions_uids:\n    if wos_client.data_mart.subscriptions.get_details(sub)['entity']['asset']['name'] == MODEL_NAME:\n        subscription = wos_client.data_mart.subscriptions.get(sub)\n        subscription_id = sub\n        break\n            \nif subscription is None:\n    print('Subscription not found.')\n\nprint(\"Subscription ID: {}\".format(subscription_id))"
        },
        {
            "cell_type": "markdown",
            "metadata": {},
            "source": "## Payload analytics"
        },
        {
            "cell_type": "markdown",
            "metadata": {},
            "source": "#### Get data distributions as pandas dataframe\n"
        },
        {
            "cell_type": "code",
            "execution_count": null,
            "metadata": {},
            "outputs": [],
            "source": "start_date = \"2018-01-01T00:00:00.00Z\"\nend_date = datetime.utcnow().isoformat() + \"Z\"\n\nsex_distribution = subscription.payload_logging.data_distribution.run(\n            start_date=start_date,\n            end_date=end_date,\n            group=['prediction', 'Sex'],\n            agg=['count'])"
        },
        {
            "cell_type": "code",
            "execution_count": null,
            "metadata": {
                "scrolled": false
            },
            "outputs": [],
            "source": "sex_distribution_run_uid = sex_distribution['id']\ndistributions_pd = subscription.payload_logging.data_distribution.get_run_result(run_id=sex_distribution_run_uid, format='pandas')\ndistributions_pd"
        },
        {
            "cell_type": "code",
            "execution_count": null,
            "metadata": {
                "scrolled": true
            },
            "outputs": [],
            "source": "subscription.payload_logging.data_distribution.show_chart(sex_distribution_run_uid);"
        },
        {
            "cell_type": "code",
            "execution_count": null,
            "metadata": {},
            "outputs": [],
            "source": "credit_history_distribution = subscription.payload_logging.data_distribution.run(\n            start_date=start_date,\n            end_date=end_date,\n            group=['prediction', 'CreditHistory'],\n            agg=['count'])"
        },
        {
            "cell_type": "code",
            "execution_count": null,
            "metadata": {},
            "outputs": [],
            "source": "credit_history_distribution_run_uid = credit_history_distribution['id']\n\nsubscription.payload_logging.data_distribution.show_chart(credit_history_distribution_run_uid);\n"
        },
        {
            "cell_type": "markdown",
            "metadata": {},
            "source": "## Credits\nThis notebook was adapted from the following sources:\n\n* [Monitor Models Code Pattern](https://github.com/IBM/monitor-wml-model-with-watson-openscale)\n* [OpenScale Labs](https://github.com/pmservice/OpenScale-Labs)\n* [OpenScale Tutorials](https://github.com/pmservice/ai-openscale-tutorials)\n\n#### Original Authors\n* Eric Martens, is a technical specialist having expertise in analysis and description of business processes, and their translation into functional and non-functional IT requirements. He acts as the interpreter between the worlds of IT and business.\n* Lukasz Cmielowski, PhD, is an Automation Architect and Data Scientist at IBM with a track record of developing enterprise-level applications that substantially increases clients' ability to turn data into actionable knowledge."
        },
        {
            "cell_type": "code",
            "execution_count": null,
            "metadata": {},
            "outputs": [],
            "source": ""
        }
    ],
    "metadata": {
        "kernelspec": {
            "display_name": "Python 3.6",
            "language": "python",
            "name": "python3"
        },
        "language_info": {
            "codemirror_mode": {
                "name": "ipython",
                "version": 3
            },
            "file_extension": ".py",
            "mimetype": "text/x-python",
            "name": "python",
            "nbconvert_exporter": "python",
            "pygments_lexer": "ipython3",
            "version": "3.6.8"
        }
    },
    "nbformat": 4,
    "nbformat_minor": 1
}