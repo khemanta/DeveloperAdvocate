{
    "cells": [
        {
            "metadata": {},
            "cell_type": "markdown",
            "source": "# Watson OpenScale and Watson Machine Learning "
        },
        {
            "metadata": {},
            "cell_type": "markdown",
            "source": "This notebook should be run in a Watson Studio project, using **Default Spark Python 3.6** runtime environment. It assumes the required services have already been provisioned and will require service credentials and a Cloud API key to access the following Cloud services:\n  * Watson Machine Learning\n  * Watson OpenScale\n  \nThe notebook will deploy a German Credit Risk model and then configure Watson OpenScale to subscribe the deployed model."
        },
        {
            "metadata": {},
            "cell_type": "markdown",
            "source": "### Spark Validation"
        },
        {
            "metadata": {},
            "cell_type": "code",
            "source": "try:\n    from pyspark.sql import SparkSession\nexcept:\n    print('Error: Spark runtime is missing. If you are using Watson Studio change the notebook runtime to Spark.')\n    raise ",
            "execution_count": 1,
            "outputs": [
                {
                    "output_type": "stream",
                    "text": "Waiting for a Spark session to start...\nSpark Initialization Done! ApplicationId = app-20191123182421-0000\nKERNEL_ID = 70a4b8d7-a94f-4ce1-b6fc-000a7a9ec405\n",
                    "name": "stdout"
                }
            ]
        },
        {
            "metadata": {},
            "cell_type": "markdown",
            "source": "### Dependency Setup"
        },
        {
            "metadata": {},
            "cell_type": "code",
            "source": "!pip install --upgrade ibm-ai-openscale --no-cache | tail -n 1\n!pip install --upgrade watson-machine-learning-client | tail -n 1",
            "execution_count": 2,
            "outputs": [
                {
                    "output_type": "stream",
                    "text": "\u001b[31mtensorflow 1.13.1 requires tensorboard<1.14.0,>=1.13.0, which is not installed.\u001b[0m\n\u001b[31mibm-cos-sdk-core 2.4.3 has requirement urllib3<1.25,>=1.20, but you'll have urllib3 1.25.7 which is incompatible.\u001b[0m\n\u001b[31mbotocore 1.12.82 has requirement urllib3<1.25,>=1.20, but you'll have urllib3 1.25.7 which is incompatible.\u001b[0m\nSuccessfully installed certifi-2019.9.11 chardet-3.0.4 h5py-2.10.0 ibm-ai-openscale-2.1.19 idna-2.8 numpy-1.17.4 pandas-0.25.3 python-dateutil-2.8.1 pytz-2019.3 requests-2.22.0 six-1.13.0 tabulate-0.8.6 urllib3-1.25.7\n\u001b[31mtensorflow 1.13.1 requires tensorboard<1.14.0,>=1.13.0, which is not installed.\u001b[0m\n\u001b[31mbotocore 1.12.82 has requirement urllib3<1.25,>=1.20, but you'll have urllib3 1.25.7 which is incompatible.\u001b[0m\nSuccessfully installed certifi-2019.9.11 chardet-3.0.4 docutils-0.15.2 ibm-cos-sdk-2.5.5 ibm-cos-sdk-core-2.5.5 ibm-cos-sdk-s3transfer-2.5.5 idna-2.8 jmespath-0.9.4 lomond-0.3.3 numpy-1.17.4 pandas-0.25.3 python-dateutil-2.8.1 pytz-2019.3 requests-2.22.0 six-1.13.0 tabulate-0.8.6 tqdm-4.39.0 urllib3-1.25.7 watson-machine-learning-client-1.0.378\n",
                    "name": "stdout"
                }
            ]
        },
        {
            "metadata": {},
            "cell_type": "markdown",
            "source": "### Service Credentials\n\nWe will be building a machine learning model below and deploying it to the Watson Machine Learning service. To interact with the service, you will need credentials for your Watson Machine Learning service instance. Copy and paste your WML credentials into the cell below."
        },
        {
            "metadata": {
                "scrolled": true
            },
            "cell_type": "code",
            "source": "WML_CREDENTIALS = {\n  \"apikey\": \"Rk2Chr1ij8WCQgMThbYME0-o28aa2nwtrAMH7eMspYJP\",\n  \"iam_apikey_description\": \"Auto-generated for key 1cbdf600-c774-449f-8d7d-3ab37b1a793f\",\n  \"iam_apikey_name\": \"Service credentials-1\",\n  \"iam_role_crn\": \"crn:v1:bluemix:public:iam::::serviceRole:Writer\",\n  \"iam_serviceid_crn\": \"crn:v1:bluemix:public:iam-identity::a/44f657e1cfa9244c30605fcaaa86343a::serviceid:ServiceId-7aa04496-3655-4f42-856e-80957aa89bf6\",\n  \"instance_id\": \"ead3646b-8ad5-4505-80e7-ff0afafe895b\",\n  \"url\": \"https://us-south.ml.cloud.ibm.com\"\n}",
            "execution_count": 3,
            "outputs": []
        },
        {
            "metadata": {},
            "cell_type": "markdown",
            "source": "To interact with the Watson OpenScale service, we will use the Cloud API Key to find the service instances GUID."
        },
        {
            "metadata": {},
            "cell_type": "code",
            "source": "CLOUD_API_KEY = \"EJygu40XbbV3KpuDmllVasvETArAfF2dAdEetHRoXu_G\"",
            "execution_count": 4,
            "outputs": []
        },
        {
            "metadata": {},
            "cell_type": "markdown",
            "source": "### Model Parameters\n\nWe will use the following name for the Scikit model and the deployment to WML."
        },
        {
            "metadata": {},
            "cell_type": "code",
            "source": "MODEL_NAME = \"Spark German Risk Model\"\nDEPLOYMENT_NAME = \"Spark German Risk Deployment\"",
            "execution_count": 5,
            "outputs": []
        },
        {
            "metadata": {},
            "cell_type": "markdown",
            "source": "## Deploy a model to Watson Machine Learning\n\nIn this section you will learn how to train Scikit-learn model and next deploy it as web-service using Watson Machine Learning service."
        },
        {
            "metadata": {},
            "cell_type": "markdown",
            "source": "#### Load and explore the training data"
        },
        {
            "metadata": {
                "scrolled": true
            },
            "cell_type": "code",
            "source": "import pandas as pd\nfrom IPython.utils import io\n\nwith io.capture_output() as captured:\n    !wget https://raw.githubusercontent.com/pmservice/ai-openscale-tutorials/master/assets/historical_data/german_credit_risk/wml/german_credit_data_biased_training.csv  -O german_credit_data_biased_training.csv\n!ls -lh german_credit_data_biased_training.csv\n\nspark = SparkSession.builder.getOrCreate()\ndf_data = spark.read.csv(path=\"german_credit_data_biased_training.csv\", sep=\",\", header=True, inferSchema=True)\n\nprint('Number of records: ', str(df_data.count()))\nprint('Number of columns: ', len(df_data.columns))\ndf_data.printSchema()\ndf_data.head()",
            "execution_count": 6,
            "outputs": [
                {
                    "output_type": "stream",
                    "text": "-rw-r--r-- 1 spark 4294967294 674K Nov 23 18:26 german_credit_data_biased_training.csv\nNumber of records:  5000\nNumber of columns:  21\nroot\n |-- CheckingStatus: string (nullable = true)\n |-- LoanDuration: integer (nullable = true)\n |-- CreditHistory: string (nullable = true)\n |-- LoanPurpose: string (nullable = true)\n |-- LoanAmount: integer (nullable = true)\n |-- ExistingSavings: string (nullable = true)\n |-- EmploymentDuration: string (nullable = true)\n |-- InstallmentPercent: integer (nullable = true)\n |-- Sex: string (nullable = true)\n |-- OthersOnLoan: string (nullable = true)\n |-- CurrentResidenceDuration: integer (nullable = true)\n |-- OwnsProperty: string (nullable = true)\n |-- Age: integer (nullable = true)\n |-- InstallmentPlans: string (nullable = true)\n |-- Housing: string (nullable = true)\n |-- ExistingCreditsCount: integer (nullable = true)\n |-- Job: string (nullable = true)\n |-- Dependents: integer (nullable = true)\n |-- Telephone: string (nullable = true)\n |-- ForeignWorker: string (nullable = true)\n |-- Risk: string (nullable = true)\n\n",
                    "name": "stdout"
                },
                {
                    "output_type": "execute_result",
                    "execution_count": 6,
                    "data": {
                        "text/plain": "Row(CheckingStatus='0_to_200', LoanDuration=31, CreditHistory='credits_paid_to_date', LoanPurpose='other', LoanAmount=1889, ExistingSavings='100_to_500', EmploymentDuration='less_1', InstallmentPercent=3, Sex='female', OthersOnLoan='none', CurrentResidenceDuration=3, OwnsProperty='savings_insurance', Age=32, InstallmentPlans='none', Housing='own', ExistingCreditsCount=1, Job='skilled', Dependents=1, Telephone='none', ForeignWorker='yes', Risk='No Risk')"
                    },
                    "metadata": {}
                }
            ]
        },
        {
            "metadata": {},
            "cell_type": "markdown",
            "source": "As you can see, we have 5000 records in this data set and the data contains twenty one fields. `Risk` field is the one you would like to predict using feedback data."
        },
        {
            "metadata": {
                "pixiedust": {
                    "displayParams": {
                        "handlerId": "barChart",
                        "valueFields": "",
                        "rendererId": "brunel",
                        "binsize": "10",
                        "chartsize": "100",
                        "keyFields": "Age",
                        "aggregation": "COUNT"
                    }
                }
            },
            "cell_type": "code",
            "source": "# Optional, use PixieDust to visualize the data\n#import pixiedust\n\n# display(df_data)",
            "execution_count": 7,
            "outputs": []
        },
        {
            "metadata": {},
            "cell_type": "markdown",
            "source": "#### Build a pre-trained model\n\nWe could take our data and commence with data preparation to build and train the machine learning pipeline. However, we are just going to deploy a pre-trained model (https://github.com/pmservice/wml-sample-models/tree/master/spark/credit-risk)"
        },
        {
            "metadata": {},
            "cell_type": "code",
            "source": "with io.capture_output() as captured:\n    !wget https://github.com/pmservice/wml-sample-models/blob/master/spark/credit-risk/model/credit-risk-model.tgz?raw=true  -O credit-risk-model.tgz\n!ls -lh credit-risk-model.tgz\n\n!rm -rf credit-risk-model\n!mkdir credit-risk-model\n!tar -xf credit-risk-model.tgz -C credit-risk-model\n!ls credit-risk-model",
            "execution_count": 8,
            "outputs": [
                {
                    "output_type": "stream",
                    "text": "-rw-r--r-- 1 spark 4294967294 37K Nov 23 18:29 credit-risk-model.tgz\nmetadata  stages\n",
                    "name": "stdout"
                }
            ]
        },
        {
            "metadata": {},
            "cell_type": "markdown",
            "source": "The code below imports our Random Forest Classifier which is a Spark pipeline model, setting up string indexers for the categorical features and the label column."
        },
        {
            "metadata": {},
            "cell_type": "code",
            "source": "from pyspark.ml import Pipeline, Model, PipelineModel\n\nmodel = PipelineModel.load(\"credit-risk-model\")\npipeline = Pipeline( stages = model.stages )",
            "execution_count": 9,
            "outputs": []
        },
        {
            "metadata": {},
            "cell_type": "markdown",
            "source": "#### Publish the model"
        },
        {
            "metadata": {},
            "cell_type": "markdown",
            "source": "In this section, the notebook uses the supplied Watson Machine Learning credentials to save the model (including the pipeline) to the WML instance. Previous versions of the model are removed so that the notebook can be run again, resetting all data for another demo."
        },
        {
            "metadata": {
                "scrolled": true
            },
            "cell_type": "code",
            "source": "from watson_machine_learning_client import WatsonMachineLearningAPIClient\n\nwml_client = WatsonMachineLearningAPIClient(WML_CREDENTIALS)\n# wml_client.service_instance.get_details()",
            "execution_count": 10,
            "outputs": []
        },
        {
            "metadata": {},
            "cell_type": "code",
            "source": "print(\"Models before removal of Deployment Name: \", DEPLOYMENT_NAME )\nwml_client.repository.list_models()\nmodel_deployment_ids = wml_client.deployments.get_uids()\nfor deployment_id in model_deployment_ids:\n    deployment = wml_client.deployments.get_details(deployment_id)\n    model_id = deployment['entity']['deployable_asset']['guid']\n    if deployment['entity']['name'] == DEPLOYMENT_NAME:\n        print('Deleting deployment id', deployment_id)\n        wml_client.deployments.delete(deployment_id)\n        print('Deleting model id', model_id)\n        wml_client.repository.delete(model_id)\n\nprint(\"Models after removal of Deployment Name: \", DEPLOYMENT_NAME )\nwml_client.repository.list_models()",
            "execution_count": 11,
            "outputs": [
                {
                    "output_type": "stream",
                    "text": "Models before removal of Deployment Name:  Spark German Risk Deployment\n------------------------------------  -----------------------  ------------------------  ---------\nGUID                                  NAME                     CREATED                   FRAMEWORK\ne7e5151c-670f-4511-9756-934a0f3ebea3  Spark German Risk Model  2019-11-23T07:04:59.246Z  mllib-2.3\n------------------------------------  -----------------------  ------------------------  ---------\nDeleting deployment id 5bea19b8-2ae7-4ce1-8df0-a09148a1485a\nDeleting model id e7e5151c-670f-4511-9756-934a0f3ebea3\nModels after removal of Deployment Name:  Spark German Risk Deployment\n----  ----  -------  ---------\nGUID  NAME  CREATED  FRAMEWORK\n----  ----  -------  ---------\n",
                    "name": "stdout"
                }
            ]
        },
        {
            "metadata": {
                "scrolled": true
            },
            "cell_type": "code",
            "source": "import json\n\nwith io.capture_output() as captured:\n    !wget https://raw.githubusercontent.com/pmservice/wml-sample-models/master/spark/credit-risk/meta/credit-risk-meta.json -O credit-risk-meta.json\n!ls -lh credit-risk-meta.json\nwith open('credit-risk-meta.json') as f:\n    [training_data_reference, *_] = json.load(f)['model_meta']['training_data_reference']\nwith open('credit-risk-meta.json') as f2:\n    [metrics, *_] = json.load(f2)['model_meta']['evaluation']['metrics']\n\nmodel_props = {\n    wml_client.repository.ModelMetaNames.NAME: \"{}\".format(MODEL_NAME),\n    wml_client.repository.ModelMetaNames.EVALUATION_METHOD: \"binary\",\n    wml_client.repository.ModelMetaNames.TRAINING_DATA_REFERENCE: training_data_reference,\n    wml_client.repository.ModelMetaNames.EVALUATION_METRICS: [\n        {\n           \"name\": \"areaUnderROC\",\n           \"value\": metrics['value'],\n           \"threshold\": 0.7\n        }\n    ]\n}",
            "execution_count": 12,
            "outputs": [
                {
                    "output_type": "stream",
                    "text": "-rw-r--r-- 1 spark 4294967294 14K Nov 23 18:30 credit-risk-meta.json\r\n",
                    "name": "stdout"
                }
            ]
        },
        {
            "metadata": {
                "scrolled": true
            },
            "cell_type": "code",
            "source": "wml_models = wml_client.repository.get_details()\nmodel_uid = None\nfor model_in in wml_models['models']['resources']:\n    if MODEL_NAME == model_in['entity']['name']:\n        model_uid = model_in['metadata']['guid']\n        break\n\nif model_uid is None:\n    print(\"Storing model ...\")    \n    published_model_details = wml_client.repository.store_model(model=model, meta_props=model_props, training_data=df_data, pipeline=pipeline)\n    model_uid = wml_client.repository.get_model_uid(published_model_details)\n    print(\"Done\")\n    \nwml_client.repository.list_models()\nprint(\"Model ID: \", model_uid)",
            "execution_count": 13,
            "outputs": [
                {
                    "output_type": "stream",
                    "text": "Storing model ...\nDone\n------------------------------------  -----------------------  ------------------------  ---------\nGUID                                  NAME                     CREATED                   FRAMEWORK\n4ef56f6c-c9ad-49b3-8edf-6a523d15e3ab  Spark German Risk Model  2019-11-23T18:31:27.034Z  mllib-2.3\n------------------------------------  -----------------------  ------------------------  ---------\nModel ID:  4ef56f6c-c9ad-49b3-8edf-6a523d15e3ab\n",
                    "name": "stdout"
                }
            ]
        },
        {
            "metadata": {},
            "cell_type": "markdown",
            "source": "#### Deploy the model\nThe next section of the notebook deploys the model as a RESTful web service in Watson Machine Learning. The deployed model will have a scoring URL you can use to send data to the model for predictions."
        },
        {
            "metadata": {
                "scrolled": true
            },
            "cell_type": "code",
            "source": "wml_deployments = wml_client.deployments.get_details()\ndeployment_uid = None\nfor deployment in wml_deployments['resources']:\n    if DEPLOYMENT_NAME == deployment['entity']['name']:\n        deployment_uid = deployment['metadata']['guid']        \n        scoring_url = deployment_in['entity']['scoring_url']\n        break\n\nif deployment_uid is None:\n    print(\"Deploying model...\")\n    deployment = wml_client.deployments.create(artifact_uid=model_uid, name=DEPLOYMENT_NAME, asynchronous=False)\n    deployment_uid = wml_client.deployments.get_uid(deployment)\n    scoring_url = wml_client.deployments.get_scoring_url(deployment)\n    \nprint(\"Model id: {}\".format(model_uid))\nprint(\"Deployment id: {}\".format(deployment_uid))\nprint(\"Scoring URL: {}\".format(scoring_url))",
            "execution_count": 14,
            "outputs": [
                {
                    "output_type": "stream",
                    "text": "Deploying model...\n\n\n#######################################################################################\n\nSynchronous deployment creation for uid: '4ef56f6c-c9ad-49b3-8edf-6a523d15e3ab' started\n\n#######################################################################################\n\n\nINITIALIZING\nDEPLOY_SUCCESS\n\n\n------------------------------------------------------------------------------------------------\nSuccessfully finished deployment creation, deployment_uid='ddae0e84-ef9b-4d84-b7c1-1a052d32aa5e'\n------------------------------------------------------------------------------------------------\n\n\nModel id: 4ef56f6c-c9ad-49b3-8edf-6a523d15e3ab\nDeployment id: ddae0e84-ef9b-4d84-b7c1-1a052d32aa5e\nScoring URL: https://us-south.ml.cloud.ibm.com/v3/wml_instances/ead3646b-8ad5-4505-80e7-ff0afafe895b/deployments/ddae0e84-ef9b-4d84-b7c1-1a052d32aa5e/online\n",
                    "name": "stdout"
                }
            ]
        },
        {
            "metadata": {},
            "cell_type": "markdown",
            "source": "#### Test the scoring endpoint\nWe can test the deployed model endpoint with some sample data."
        },
        {
            "metadata": {},
            "cell_type": "code",
            "source": "fields = [\"CheckingStatus\", \"LoanDuration\", \"CreditHistory\", \"LoanPurpose\", \"LoanAmount\", \"ExistingSavings\",\n                  \"EmploymentDuration\", \"InstallmentPercent\", \"Sex\", \"OthersOnLoan\", \"CurrentResidenceDuration\",\n                  \"OwnsProperty\", \"Age\", \"InstallmentPlans\", \"Housing\", \"ExistingCreditsCount\", \"Job\", \"Dependents\",\n                  \"Telephone\", \"ForeignWorker\"]\nvalues = [\n            [\"no_checking\", 13, \"credits_paid_to_date\", \"car_new\", 1343, \"100_to_500\", \"1_to_4\", 2, \"female\", \"none\", 3,\n             \"savings_insurance\", 46, \"none\", \"own\", 2, \"skilled\", 1, \"none\", \"yes\"]\n        ]\n\nscoring_payload = {\"fields\": fields, \"values\": values}\npredictions = wml_client.deployments.score(scoring_url, scoring_payload)\nprint('Scoring result:', '\\n fields:', predictions['fields'], '\\n values: \\n ', '\\n  '.join([str(elem) for elem in predictions['values']]))",
            "execution_count": 15,
            "outputs": [
                {
                    "output_type": "stream",
                    "text": "Scoring result: \n fields: ['CheckingStatus', 'LoanDuration', 'CreditHistory', 'LoanPurpose', 'LoanAmount', 'ExistingSavings', 'EmploymentDuration', 'InstallmentPercent', 'Sex', 'OthersOnLoan', 'CurrentResidenceDuration', 'OwnsProperty', 'Age', 'InstallmentPlans', 'Housing', 'ExistingCreditsCount', 'Job', 'Dependents', 'Telephone', 'ForeignWorker', 'CheckingStatus_IX', 'CreditHistory_IX', 'EmploymentDuration_IX', 'ExistingSavings_IX', 'ForeignWorker_IX', 'Housing_IX', 'InstallmentPlans_IX', 'Job_IX', 'LoanPurpose_IX', 'OthersOnLoan_IX', 'OwnsProperty_IX', 'Sex_IX', 'Telephone_IX', 'features', 'rawPrediction', 'probability', 'prediction', 'predictedLabel'] \n values: \n  ['no_checking', 13, 'credits_paid_to_date', 'car_new', 1343, '100_to_500', '1_to_4', 2, 'female', 'none', 3, 'savings_insurance', 46, 'none', 'own', 2, 'skilled', 1, 'none', 'yes', 0.0, 1.0, 0.0, 1.0, 0.0, 0.0, 0.0, 0.0, 0.0, 0.0, 0.0, 1.0, 0.0, [21, [1, 3, 5, 13, 14, 15, 16, 17, 18, 19, 20], [1.0, 1.0, 1.0, 13.0, 1343.0, 2.0, 3.0, 13.0, 46.0, 2.0, 1.0]], [14.099479641547418, 5.900520358452582], [0.7049739820773709, 0.29502601792262906], 0.0, 'No Risk']\n",
                    "name": "stdout"
                }
            ]
        },
        {
            "metadata": {},
            "cell_type": "markdown",
            "source": "## Configure Watson OpenScale\n\n"
        },
        {
            "metadata": {},
            "cell_type": "markdown",
            "source": "#### Get Watson OpenScale GUID\n\nEach instance of OpenScale has a unique ID. We can get this value using the Cloud API key specified at the beginning of the notebook.\n"
        },
        {
            "metadata": {},
            "cell_type": "code",
            "source": "from ibm_ai_openscale import APIClient\nfrom ibm_ai_openscale.utils import get_instance_guid\n\nWOS_GUID = get_instance_guid(api_key=CLOUD_API_KEY)\nWOS_CREDENTIALS = {\n    \"instance_guid\": WOS_GUID,\n    \"apikey\": CLOUD_API_KEY,\n    \"url\": \"https://api.aiopenscale.cloud.ibm.com\"\n}\n\nif WOS_GUID is None:\n    print('Watson OpenScale GUID NOT FOUND')\nelse:\n    print(\"Watson OpenScale GUID: {}\".format(WOS_GUID))\n\nwos_client = APIClient(aios_credentials=WOS_CREDENTIALS)\nprint(\"Watson OpenScale Python Client Version: {}\".format(wos_client.version))",
            "execution_count": 16,
            "outputs": [
                {
                    "output_type": "stream",
                    "text": "Watson OpenScale GUID: 0ac203a2-114a-497a-9721-d2dedf99d339\nWatson OpenScale Python Client Version: 2.1.19\n",
                    "name": "stdout"
                }
            ]
        },
        {
            "metadata": {},
            "cell_type": "markdown",
            "source": "#### Create schema and datamart\n\nWatson OpenScale uses a database to store payload logs and calculated metrics. Databases for PostgreSQL, Db2 Warehouse, or a free internal verison of PostgreSQL can be used to create a datamart for OpenScale.\n\nThis notebook will use the free, internal lite database. If you have previously configured OpenScale, it will use your existing datamart, and not interfere with any models you are currently monitoring. Do not update the cell below.\n\nIf you previously configured OpenScale to use the free internal version of PostgreSQL, you can switch to a new datamart using a paid database service. If you would like to delete the internal PostgreSQL configuration and create a new one using service credentials supplied in the cell above, set the KEEP_MY_INTERNAL_POSTGRES variable below to False below. In this case, the notebook will remove your existing internal PostgreSQL datamart and create a new one with the supplied credentials. NO DATA MIGRATION WILL OCCUR.\n\nPrior instances of the German Credit model will be removed from OpenScale monitoring.\n"
        },
        {
            "metadata": {},
            "cell_type": "code",
            "source": "KEEP_MY_INTERNAL_POSTGRES = True",
            "execution_count": 17,
            "outputs": []
        },
        {
            "metadata": {},
            "cell_type": "code",
            "source": "try:\n    data_mart_details = wos_client.data_mart.get_details()\n    if 'internal_database' in data_mart_details and data_mart_details['internal_database']:\n        if KEEP_MY_INTERNAL_POSTGRES:\n            print('Using existing internal datamart.')\n        else:\n            print('Resetting internal datamart')\n            wos_client.data_mart.delete(force=True)\n            wos_client.data_mart.setup(internal_db=True)\n    else:\n        print('Using existing external datamart')\nexcept:\n    print('Setting up internal datamart')\n    wos_client.data_mart.setup(internal_db=True)",
            "execution_count": 18,
            "outputs": [
                {
                    "output_type": "stream",
                    "text": "Using existing internal datamart.\n",
                    "name": "stdout"
                }
            ]
        },
        {
            "metadata": {},
            "cell_type": "code",
            "source": "data_mart_details = wos_client.data_mart.get_details()\ndata_mart_details",
            "execution_count": 19,
            "outputs": [
                {
                    "output_type": "execute_result",
                    "execution_count": 19,
                    "data": {
                        "text/plain": "{'database_configuration': {},\n 'internal_database': True,\n 'internal_database_pool': 'icd-psql',\n 'service_instance_crn': 'crn:v1:bluemix:public:aiopenscale:us-south:a/44f657e1cfa9244c30605fcaaa86343a:0ac203a2-114a-497a-9721-d2dedf99d339::',\n 'status': {'state': 'active'}}"
                    },
                    "metadata": {}
                }
            ]
        },
        {
            "metadata": {},
            "cell_type": "markdown",
            "source": "#### Bind machine learning engines\n\nWatson OpenScale needs to be bound to the Watson Machine Learning instance to capture payload data into and out of the model. If this binding already exists, this code will output a warning message and use the existing binding.\n\nNote: You can bind more than one engine instance if needed by calling ai_client.data_mart.bindings.add method. Next, you can refer to particular binding using binding_uid."
        },
        {
            "metadata": {},
            "cell_type": "code",
            "source": "from ibm_ai_openscale.engines import *\n\nbinding_uid = wos_client.data_mart.bindings.add('WML instance', WatsonMachineLearningInstance(WML_CREDENTIALS))\nif binding_uid is None:\n    binding_uid = wos_client.data_mart.bindings.get_details()['service_bindings'][0]['metadata']['guid']\nbindings_details = wos_client.data_mart.bindings.get_details()\nprint(\"Model Serve Engine Binding ID: {}\".format(binding_uid))",
            "execution_count": 20,
            "outputs": [
                {
                    "output_type": "stream",
                    "text": "Warning during bind instance.\nStatus code: 409, body: {\"errors\":[{\"code\":\"AIQCS0010W\",\"message\":\"Service Binding with this id is already defined\"}],\"trace\":\"NDFlODIyNjQtOGM3NC00NzZlLTk1N2MtY2YyMGQ0NzhiOGY1\"}\nModel Serve Engine Binding ID: ead3646b-8ad5-4505-80e7-ff0afafe895b\n",
                    "name": "stdout"
                }
            ]
        },
        {
            "metadata": {},
            "cell_type": "code",
            "source": "wos_client.data_mart.bindings.list()\nwos_client.data_mart.bindings.list_assets()",
            "execution_count": 21,
            "outputs": [
                {
                    "output_type": "display_data",
                    "data": {
                        "text/html": "<HTML>\n        <body>\n            <h3>Service bindings</h3>\n            <table style='border: 1px solid #dddddd; font-family: Courier'>\n                <th style='border: 1px solid #dddddd'>uid</th><th style='border: 1px solid #dddddd'>name</th><th style='border: 1px solid #dddddd'>service_type</th><th style='border: 1px solid #dddddd'>created</th>\n                <tr><td style='border: 1px solid #dddddd'>ead3646b-8ad5-4505-80e7-ff0afafe895b</td><td style='border: 1px solid #dddddd'>WML instance</td><td style='border: 1px solid #dddddd'>watson_machine_learning</td><td style='border: 1px solid #dddddd'>2019-11-23T07:06:49.599Z</td></tr>\n            </table>\n        </body>\n        </HTML>",
                        "text/plain": "<IPython.core.display.HTML object>"
                    },
                    "metadata": {}
                },
                {
                    "output_type": "display_data",
                    "data": {
                        "text/html": "<HTML>\n        <body>\n            <h3>Available assets</h3>\n            <table style='border: 1px solid #dddddd; font-family: Courier'>\n                <th style='border: 1px solid #dddddd'>source_uid</th><th style='border: 1px solid #dddddd'>name</th><th style='border: 1px solid #dddddd'>created</th><th style='border: 1px solid #dddddd'>type</th><th style='border: 1px solid #dddddd'>frameworks</th><th style='border: 1px solid #dddddd'>binding_uid</th><th style='border: 1px solid #dddddd'>is_subscribed</th>\n                <tr><td style='border: 1px solid #dddddd'>4ef56f6c-c9ad-49b3-8edf-6a523d15e3ab</td><td style='border: 1px solid #dddddd'>Spark German Risk Model</td><td style='border: 1px solid #dddddd'>2019-11-23T18:32:12.267Z</td><td style='border: 1px solid #dddddd'>model</td><td style='border: 1px solid #dddddd'>mllib-2.3</td><td style='border: 1px solid #dddddd'>ead3646b-8ad5-4505-80e7-ff0afafe895b</td><td style='border: 1px solid #dddddd'>False</td></tr>\n            </table>\n        </body>\n        </HTML>",
                        "text/plain": "<IPython.core.display.HTML object>"
                    },
                    "metadata": {}
                }
            ]
        },
        {
            "metadata": {},
            "cell_type": "markdown",
            "source": "#### Subscriptions\n\nNext we will subscribe OpenScale to the deployed model so that we can configure our monitors. We will first remove previous subscriptions to the German Credit model to refresh the monitors with the new model and new data. Then we will create the model subscription in OpenScale using the Python client API. Note that we need to provide the model unique identifier, and some information about the model itself."
        },
        {
            "metadata": {},
            "cell_type": "code",
            "source": "subscriptions_uids = wos_client.data_mart.subscriptions.get_uids()\nfor subscription in subscriptions_uids:\n    sub_name = wos_client.data_mart.subscriptions.get_details(subscription)['entity']['asset']['name']\n    if sub_name == MODEL_NAME:\n        wos_client.data_mart.subscriptions.delete(subscription)\n        print('Deleted existing subscription for', MODEL_NAME)",
            "execution_count": 22,
            "outputs": [
                {
                    "output_type": "stream",
                    "text": "Deleted existing subscription for Spark German Risk Model\n",
                    "name": "stdout"
                }
            ]
        },
        {
            "metadata": {},
            "cell_type": "code",
            "source": "from ibm_ai_openscale.supporting_classes.enums import *\n\nsubscription = wos_client.data_mart.subscriptions.add(WatsonMachineLearningAsset(\n    model_uid,\n    problem_type=ProblemType.BINARY_CLASSIFICATION,\n    input_data_type=InputDataType.STRUCTURED,\n    label_column='Risk',\n    prediction_column='predictedLabel',\n    probability_column='probability',\n    feature_columns = [\"CheckingStatus\",\"LoanDuration\",\"CreditHistory\",\"LoanPurpose\",\"LoanAmount\",\"ExistingSavings\",\"EmploymentDuration\",\"InstallmentPercent\",\"Sex\",\"OthersOnLoan\",\"CurrentResidenceDuration\",\"OwnsProperty\",\"Age\",\"InstallmentPlans\",\"Housing\",\"ExistingCreditsCount\",\"Job\",\"Dependents\",\"Telephone\",\"ForeignWorker\"],\n    categorical_columns = [\"CheckingStatus\",\"CreditHistory\",\"LoanPurpose\",\"ExistingSavings\",\"EmploymentDuration\",\"Sex\",\"OthersOnLoan\",\"OwnsProperty\",\"InstallmentPlans\",\"Housing\",\"Job\",\"Telephone\",\"ForeignWorker\"]\n))\n\nif subscription is None:\n    print('Subscription already exists; get the existing one')\n    subscriptions_uids = wos_client.data_mart.subscriptions.get_uids()\n    for sub in subscriptions_uids:\n        if wos_client.data_mart.subscriptions.get_details(sub)['entity']['asset']['name'] == MODEL_NAME:\n            subscription = wos_client.data_mart.subscriptions.get(sub)",
            "execution_count": 23,
            "outputs": []
        },
        {
            "metadata": {},
            "cell_type": "code",
            "source": "subscriptions_uids = wos_client.data_mart.subscriptions.get_uids()\nsubscription_details = subscription.get_details()\n#print(subscriptions_uids)\n#print(subscription_details)\n\nwos_client.data_mart.subscriptions.list()\nwos_client.data_mart.bindings.list_assets()",
            "execution_count": 24,
            "outputs": [
                {
                    "output_type": "display_data",
                    "data": {
                        "text/html": "<HTML>\n        <body>\n            <h3>Subscriptions</h3>\n            <table style='border: 1px solid #dddddd; font-family: Courier'>\n                <th style='border: 1px solid #dddddd'>uid</th><th style='border: 1px solid #dddddd'>name</th><th style='border: 1px solid #dddddd'>type</th><th style='border: 1px solid #dddddd'>binding_uid</th><th style='border: 1px solid #dddddd'>created</th>\n                <tr><td style='border: 1px solid #dddddd'>ba7e9eab-9dfc-4347-93b0-232e1983f157</td><td style='border: 1px solid #dddddd'>Spark German Risk Model</td><td style='border: 1px solid #dddddd'>model</td><td style='border: 1px solid #dddddd'>ead3646b-8ad5-4505-80e7-ff0afafe895b</td><td style='border: 1px solid #dddddd'>2019-11-23T18:35:16.148Z</td></tr>\n            </table>\n        </body>\n        </HTML>",
                        "text/plain": "<IPython.core.display.HTML object>"
                    },
                    "metadata": {}
                },
                {
                    "output_type": "display_data",
                    "data": {
                        "text/html": "<HTML>\n        <body>\n            <h3>Available assets</h3>\n            <table style='border: 1px solid #dddddd; font-family: Courier'>\n                <th style='border: 1px solid #dddddd'>source_uid</th><th style='border: 1px solid #dddddd'>name</th><th style='border: 1px solid #dddddd'>created</th><th style='border: 1px solid #dddddd'>type</th><th style='border: 1px solid #dddddd'>frameworks</th><th style='border: 1px solid #dddddd'>binding_uid</th><th style='border: 1px solid #dddddd'>is_subscribed</th>\n                <tr><td style='border: 1px solid #dddddd'>4ef56f6c-c9ad-49b3-8edf-6a523d15e3ab</td><td style='border: 1px solid #dddddd'>Spark German Risk Model</td><td style='border: 1px solid #dddddd'>2019-11-23T18:32:12.267Z</td><td style='border: 1px solid #dddddd'>model</td><td style='border: 1px solid #dddddd'>mllib-2.3</td><td style='border: 1px solid #dddddd'>ead3646b-8ad5-4505-80e7-ff0afafe895b</td><td style='border: 1px solid #dddddd'>True</td></tr>\n            </table>\n        </body>\n        </HTML>",
                        "text/plain": "<IPython.core.display.HTML object>"
                    },
                    "metadata": {}
                }
            ]
        },
        {
            "metadata": {},
            "cell_type": "markdown",
            "source": "#### Score the model so we can configure monitors\n\nNow that the WML service has been bound and the subscription has been created, we need to send a request to the model before we configure OpenScale. This allows OpenScale to create a payload log in the datamart with the correct schema, so it can capture data coming into and out of the model."
        },
        {
            "metadata": {},
            "cell_type": "code",
            "source": "import datetime\nimport time\n\ntime.sleep(10)\n\nfields = [\"CheckingStatus\",\"LoanDuration\",\"CreditHistory\",\"LoanPurpose\",\"LoanAmount\",\"ExistingSavings\",\"EmploymentDuration\",\"InstallmentPercent\",\"Sex\",\"OthersOnLoan\",\"CurrentResidenceDuration\",\"OwnsProperty\",\"Age\",\"InstallmentPlans\",\"Housing\",\"ExistingCreditsCount\",\"Job\",\"Dependents\",\"Telephone\",\"ForeignWorker\"]\nvalues = [\n  [\"no_checking\",13,\"credits_paid_to_date\",\"car_new\",1343,\"100_to_500\",\"1_to_4\",2,\"female\",\"none\",3,\"savings_insurance\",46,\"none\",\"own\",2,\"skilled\",1,\"none\",\"yes\"],\n  [\"no_checking\",24,\"prior_payments_delayed\",\"furniture\",4567,\"500_to_1000\",\"1_to_4\",4,\"male\",\"none\",4,\"savings_insurance\",36,\"none\",\"free\",2,\"management_self-employed\",1,\"none\",\"yes\"],\n  [\"0_to_200\",26,\"all_credits_paid_back\",\"car_new\",863,\"less_100\",\"less_1\",2,\"female\",\"co-applicant\",2,\"real_estate\",38,\"none\",\"own\",1,\"skilled\",1,\"none\",\"yes\"],\n  [\"0_to_200\",14,\"no_credits\",\"car_new\",2368,\"less_100\",\"1_to_4\",3,\"female\",\"none\",3,\"real_estate\",29,\"none\",\"own\",1,\"skilled\",1,\"none\",\"yes\"],\n  [\"0_to_200\",4,\"no_credits\",\"car_new\",250,\"less_100\",\"unemployed\",2,\"female\",\"none\",3,\"real_estate\",23,\"none\",\"rent\",1,\"management_self-employed\",1,\"none\",\"yes\"],\n  [\"no_checking\",17,\"credits_paid_to_date\",\"car_new\",832,\"100_to_500\",\"1_to_4\",2,\"male\",\"none\",2,\"real_estate\",42,\"none\",\"own\",1,\"skilled\",1,\"none\",\"yes\"],\n  [\"no_checking\",33,\"outstanding_credit\",\"appliances\",5696,\"unknown\",\"greater_7\",4,\"male\",\"co-applicant\",4,\"unknown\",54,\"none\",\"free\",2,\"skilled\",1,\"yes\",\"yes\"],\n  [\"0_to_200\",13,\"prior_payments_delayed\",\"retraining\",1375,\"100_to_500\",\"4_to_7\",3,\"male\",\"none\",3,\"real_estate\",37,\"none\",\"own\",2,\"management_self-employed\",1,\"none\",\"yes\"]\n]\n\npayload_scoring = {\"fields\": fields,\"values\": values}\nscoring_response = wml_client.deployments.score(scoring_url, payload_scoring)\n\nprint('Single record scoring result:', '\\n fields:', scoring_response['fields'], '\\n values: ', scoring_response['values'][0])",
            "execution_count": 25,
            "outputs": [
                {
                    "output_type": "stream",
                    "text": "Single record scoring result: \n fields: ['CheckingStatus', 'LoanDuration', 'CreditHistory', 'LoanPurpose', 'LoanAmount', 'ExistingSavings', 'EmploymentDuration', 'InstallmentPercent', 'Sex', 'OthersOnLoan', 'CurrentResidenceDuration', 'OwnsProperty', 'Age', 'InstallmentPlans', 'Housing', 'ExistingCreditsCount', 'Job', 'Dependents', 'Telephone', 'ForeignWorker', 'CheckingStatus_IX', 'CreditHistory_IX', 'EmploymentDuration_IX', 'ExistingSavings_IX', 'ForeignWorker_IX', 'Housing_IX', 'InstallmentPlans_IX', 'Job_IX', 'LoanPurpose_IX', 'OthersOnLoan_IX', 'OwnsProperty_IX', 'Sex_IX', 'Telephone_IX', 'features', 'rawPrediction', 'probability', 'prediction', 'predictedLabel'] \n values:  ['no_checking', 13, 'credits_paid_to_date', 'car_new', 1343, '100_to_500', '1_to_4', 2, 'female', 'none', 3, 'savings_insurance', 46, 'none', 'own', 2, 'skilled', 1, 'none', 'yes', 0.0, 1.0, 0.0, 1.0, 0.0, 0.0, 0.0, 0.0, 0.0, 0.0, 0.0, 1.0, 0.0, [21, [1, 3, 5, 13, 14, 15, 16, 17, 18, 19, 20], [1.0, 1.0, 1.0, 13.0, 1343.0, 2.0, 3.0, 13.0, 46.0, 2.0, 1.0]], [14.099479641547418, 5.900520358452582], [0.7049739820773709, 0.29502601792262906], 0.0, 'No Risk']\n",
                    "name": "stdout"
                }
            ]
        },
        {
            "metadata": {},
            "cell_type": "code",
            "source": "# Payload will be logged in the datamart. Re-run this cell if there are no results in the table.\nprint('Number of records in payload table (should be 8): ', subscription.payload_logging.get_records_count())\nsubscription.payload_logging.show_table()",
            "execution_count": 26,
            "outputs": [
                {
                    "output_type": "stream",
                    "text": "Number of records in payload table (should be 8):  8\n",
                    "name": "stdout"
                },
                {
                    "output_type": "display_data",
                    "data": {
                        "text/html": "<HTML>\n        <body>\n            <h3>Payload_ba7e9eab-9dfc-4347-93b0-232e1983f157 (binding_id=ead3646b-8ad5-4505-80e7-ff0afafe895b, subscription_id=ba7e9eab-9dfc-4347-93b0-232e1983f157)</h3>\n            <table style='border: 1px solid #dddddd; font-family: Courier'>\n                <th style='border: 1px solid #dddddd'>CheckingStatus</th><th style='border: 1px solid #dddddd'>LoanDuration</th><th style='border: 1px solid #dddddd'>CreditHistory</th><th style='border: 1px solid #dddddd'>LoanPurpose</th><th style='border: 1px solid #dddddd'>LoanAmount</th><th style='border: 1px solid #dddddd'>ExistingSavings</th><th style='border: 1px solid #dddddd'>EmploymentDuration</th><th style='border: 1px solid #dddddd'>InstallmentPercent</th><th style='border: 1px solid #dddddd'>Sex</th><th style='border: 1px solid #dddddd'>OthersOnLoan</th><th style='border: 1px solid #dddddd'>CurrentResidenceDuration</th><th style='border: 1px solid #dddddd'>OwnsProperty</th><th style='border: 1px solid #dddddd'>Age</th><th style='border: 1px solid #dddddd'>InstallmentPlans</th><th style='border: 1px solid #dddddd'>Housing</th><th style='border: 1px solid #dddddd'>ExistingCreditsCount</th><th style='border: 1px solid #dddddd'>Job</th><th style='border: 1px solid #dddddd'>Dependents</th><th style='border: 1px solid #dddddd'>Telephone</th><th style='border: 1px solid #dddddd'>ForeignWorker</th><th style='border: 1px solid #dddddd'>prediction</th><th style='border: 1px solid #dddddd'>probability</th><th style='border: 1px solid #dddddd'>prediction_probability</th><th style='border: 1px solid #dddddd'>scoring_id</th><th style='border: 1px solid #dddddd'>scoring_timestamp</th><th style='border: 1px solid #dddddd'>deployment_id</th><th style='border: 1px solid #dddddd'>asset_revision</th><th style='border: 1px solid #dddddd'>CheckingStatus_IX</th><th style='border: 1px solid #dddddd'>CreditHistory_IX</th><th style='border: 1px solid #dddddd'>EmploymentDuration_IX</th><th style='border: 1px solid #dddddd'>ExistingSavings_IX</th><th style='border: 1px solid #dddddd'>ForeignWorker_IX</th><th style='border: 1px solid #dddddd'>Housing_IX</th><th style='border: 1px solid #dddddd'>InstallmentPlans_IX</th><th style='border: 1px solid #dddddd'>Job_IX</th><th style='border: 1px solid #dddddd'>LoanPurpose_IX</th><th style='border: 1px solid #dddddd'>OthersOnLoan_IX</th><th style='border: 1px solid #dddddd'>OwnsProperty_IX</th><th style='border: 1px solid #dddddd'>Sex_IX</th><th style='border: 1px solid #dddddd'>Telephone_IX</th><th style='border: 1px solid #dddddd'>features</th><th style='border: 1px solid #dddddd'>rawPrediction</th><th style='border: 1px solid #dddddd'>predictedLabel</th>\n                <tr><td style='border: 1px solid #dddddd'>0_to_200</td><td style='border: 1px solid #dddddd'>4</td><td style='border: 1px solid #dddddd'>no_credits</td><td style='border: 1px solid #dddddd'>car_new</td><td style='border: 1px solid #dddddd'>250</td><td style='border: 1px solid #dddddd'>less_100</td><td style='border: 1px solid #dddddd'>unemployed</td><td style='border: 1px solid #dddddd'>2</td><td style='border: 1px solid #dddddd'>female</td><td style='border: 1px solid #dddddd'>none</td><td style='border: 1px solid #dddddd'>3</td><td style='border: 1px solid #dddddd'>real_estate</td><td style='border: 1px solid #dddddd'>23</td><td style='border: 1px solid #dddddd'>none</td><td style='border: 1px solid #dddddd'>rent</td><td style='border: 1px solid #dddddd'>1</td><td style='border: 1px solid #dddddd'>management_self-employed</td><td style='border: 1px solid #dddddd'>1</td><td style='border: 1px solid #dddddd'>none</td><td style='border: 1px solid #dddddd'>yes</td><td style='border: 1px solid #dddddd'>0.0</td><td style='border: 1px solid #dddddd'>[0.9817869466967226, 0.01821305330327745]</td><td style='border: 1px solid #dddddd'>0.9817869466967226</td><td style='border: 1px solid #dddddd'>7b6808fd1eb8d9bd3b77c7802ea9c550-5</td><td style='border: 1px solid #dddddd'>2019-11-23 18:35:39.156000+00:00</td><td style='border: 1px solid #dddddd'>ddae0e84-ef9b-4d84-b7c1-1a052d32aa5e</td><td style='border: 1px solid #dddddd'>a2f91b8d-195e-46a8-bb68-eef8d789b014</td><td style='border: 1px solid #dddddd'>2.0</td><td style='border: 1px solid #dddddd'>4.0</td><td style='border: 1px solid #dddddd'>4.0</td><td style='border: 1px solid #dddddd'>0.0</td><td style='border: 1px solid #dddddd'>0.0</td><td style='border: 1px solid #dddddd'>1.0</td><td style='border: 1px solid #dddddd'>0.0</td><td style='border: 1px solid #dddddd'>2.0</td><td style='border: 1px solid #dddddd'>0.0</td><td style='border: 1px solid #dddddd'>0.0</td><td style='border: 1px solid #dddddd'>2.0</td><td style='border: 1px solid #dddddd'>1.0</td><td style='border: 1px solid #dddddd'>0.0</td><td style='border: 1px solid #dddddd'>[2.0, 4.0, 0.0, 0.0, 4.0, 1.0, 0.0, 2.0, 0.0, 1.0, 2.0, 0.0, 0.0, 4.0, 250.0, 2.0, 3.0, 4.0, 23.0, 1.0, 1.0]</td><td style='border: 1px solid #dddddd'>[19.635738933934448, 0.364261066065549]</td><td style='border: 1px solid #dddddd'>No Risk</td></tr><tr><td style='border: 1px solid #dddddd'>0_to_200</td><td style='border: 1px solid #dddddd'>13</td><td style='border: 1px solid #dddddd'>prior_payments_delayed</td><td style='border: 1px solid #dddddd'>retraining</td><td style='border: 1px solid #dddddd'>1375</td><td style='border: 1px solid #dddddd'>100_to_500</td><td style='border: 1px solid #dddddd'>4_to_7</td><td style='border: 1px solid #dddddd'>3</td><td style='border: 1px solid #dddddd'>male</td><td style='border: 1px solid #dddddd'>none</td><td style='border: 1px solid #dddddd'>3</td><td style='border: 1px solid #dddddd'>real_estate</td><td style='border: 1px solid #dddddd'>37</td><td style='border: 1px solid #dddddd'>none</td><td style='border: 1px solid #dddddd'>own</td><td style='border: 1px solid #dddddd'>2</td><td style='border: 1px solid #dddddd'>management_self-employed</td><td style='border: 1px solid #dddddd'>1</td><td style='border: 1px solid #dddddd'>none</td><td style='border: 1px solid #dddddd'>yes</td><td style='border: 1px solid #dddddd'>0.0</td><td style='border: 1px solid #dddddd'>[0.8476259694151986, 0.15237403058480137]</td><td style='border: 1px solid #dddddd'>0.8476259694151986</td><td style='border: 1px solid #dddddd'>7b6808fd1eb8d9bd3b77c7802ea9c550-8</td><td style='border: 1px solid #dddddd'>2019-11-23 18:35:39.156000+00:00</td><td style='border: 1px solid #dddddd'>ddae0e84-ef9b-4d84-b7c1-1a052d32aa5e</td><td style='border: 1px solid #dddddd'>a2f91b8d-195e-46a8-bb68-eef8d789b014</td><td style='border: 1px solid #dddddd'>2.0</td><td style='border: 1px solid #dddddd'>0.0</td><td style='border: 1px solid #dddddd'>1.0</td><td style='border: 1px solid #dddddd'>1.0</td><td style='border: 1px solid #dddddd'>0.0</td><td style='border: 1px solid #dddddd'>0.0</td><td style='border: 1px solid #dddddd'>0.0</td><td style='border: 1px solid #dddddd'>2.0</td><td style='border: 1px solid #dddddd'>8.0</td><td style='border: 1px solid #dddddd'>0.0</td><td style='border: 1px solid #dddddd'>2.0</td><td style='border: 1px solid #dddddd'>0.0</td><td style='border: 1px solid #dddddd'>0.0</td><td style='border: 1px solid #dddddd'>[2.0, 0.0, 8.0, 1.0, 1.0, 0.0, 0.0, 2.0, 0.0, 0.0, 2.0, 0.0, 0.0, 13.0, 1375.0, 3.0, 3.0, 13.0, 37.0, 2.0, 1.0]</td><td style='border: 1px solid #dddddd'>[16.952519388303973, 3.0474806116960274]</td><td style='border: 1px solid #dddddd'>No Risk</td></tr><tr><td style='border: 1px solid #dddddd'>0_to_200</td><td style='border: 1px solid #dddddd'>14</td><td style='border: 1px solid #dddddd'>no_credits</td><td style='border: 1px solid #dddddd'>car_new</td><td style='border: 1px solid #dddddd'>2368</td><td style='border: 1px solid #dddddd'>less_100</td><td style='border: 1px solid #dddddd'>1_to_4</td><td style='border: 1px solid #dddddd'>3</td><td style='border: 1px solid #dddddd'>female</td><td style='border: 1px solid #dddddd'>none</td><td style='border: 1px solid #dddddd'>3</td><td style='border: 1px solid #dddddd'>real_estate</td><td style='border: 1px solid #dddddd'>29</td><td style='border: 1px solid #dddddd'>none</td><td style='border: 1px solid #dddddd'>own</td><td style='border: 1px solid #dddddd'>1</td><td style='border: 1px solid #dddddd'>skilled</td><td style='border: 1px solid #dddddd'>1</td><td style='border: 1px solid #dddddd'>none</td><td style='border: 1px solid #dddddd'>yes</td><td style='border: 1px solid #dddddd'>0.0</td><td style='border: 1px solid #dddddd'>[0.9247650469790445, 0.07523495302095555]</td><td style='border: 1px solid #dddddd'>0.9247650469790445</td><td style='border: 1px solid #dddddd'>7b6808fd1eb8d9bd3b77c7802ea9c550-4</td><td style='border: 1px solid #dddddd'>2019-11-23 18:35:39.156000+00:00</td><td style='border: 1px solid #dddddd'>ddae0e84-ef9b-4d84-b7c1-1a052d32aa5e</td><td style='border: 1px solid #dddddd'>a2f91b8d-195e-46a8-bb68-eef8d789b014</td><td style='border: 1px solid #dddddd'>2.0</td><td style='border: 1px solid #dddddd'>4.0</td><td style='border: 1px solid #dddddd'>0.0</td><td style='border: 1px solid #dddddd'>0.0</td><td style='border: 1px solid #dddddd'>0.0</td><td style='border: 1px solid #dddddd'>0.0</td><td style='border: 1px solid #dddddd'>0.0</td><td style='border: 1px solid #dddddd'>0.0</td><td style='border: 1px solid #dddddd'>0.0</td><td style='border: 1px solid #dddddd'>0.0</td><td style='border: 1px solid #dddddd'>2.0</td><td style='border: 1px solid #dddddd'>1.0</td><td style='border: 1px solid #dddddd'>0.0</td><td style='border: 1px solid #dddddd'>[21, [0, 1, 5, 7, 13, 14, 15, 16, 17, 18, 19, 20], [2.0, 4.0, 1.0, 2.0, 14.0, 2368.0, 3.0, 3.0, 14.0, 29.0, 1.0, 1.0]]</td><td style='border: 1px solid #dddddd'>[18.495300939580886, 1.5046990604191108]</td><td style='border: 1px solid #dddddd'>No Risk</td></tr><tr><td style='border: 1px solid #dddddd'>0_to_200</td><td style='border: 1px solid #dddddd'>26</td><td style='border: 1px solid #dddddd'>all_credits_paid_back</td><td style='border: 1px solid #dddddd'>car_new</td><td style='border: 1px solid #dddddd'>863</td><td style='border: 1px solid #dddddd'>less_100</td><td style='border: 1px solid #dddddd'>less_1</td><td style='border: 1px solid #dddddd'>2</td><td style='border: 1px solid #dddddd'>female</td><td style='border: 1px solid #dddddd'>co-applicant</td><td style='border: 1px solid #dddddd'>2</td><td style='border: 1px solid #dddddd'>real_estate</td><td style='border: 1px solid #dddddd'>38</td><td style='border: 1px solid #dddddd'>none</td><td style='border: 1px solid #dddddd'>own</td><td style='border: 1px solid #dddddd'>1</td><td style='border: 1px solid #dddddd'>skilled</td><td style='border: 1px solid #dddddd'>1</td><td style='border: 1px solid #dddddd'>none</td><td style='border: 1px solid #dddddd'>yes</td><td style='border: 1px solid #dddddd'>0.0</td><td style='border: 1px solid #dddddd'>[0.8281872930859508, 0.17181270691404923]</td><td style='border: 1px solid #dddddd'>0.8281872930859508</td><td style='border: 1px solid #dddddd'>7b6808fd1eb8d9bd3b77c7802ea9c550-3</td><td style='border: 1px solid #dddddd'>2019-11-23 18:35:39.156000+00:00</td><td style='border: 1px solid #dddddd'>ddae0e84-ef9b-4d84-b7c1-1a052d32aa5e</td><td style='border: 1px solid #dddddd'>a2f91b8d-195e-46a8-bb68-eef8d789b014</td><td style='border: 1px solid #dddddd'>2.0</td><td style='border: 1px solid #dddddd'>3.0</td><td style='border: 1px solid #dddddd'>3.0</td><td style='border: 1px solid #dddddd'>0.0</td><td style='border: 1px solid #dddddd'>0.0</td><td style='border: 1px solid #dddddd'>0.0</td><td style='border: 1px solid #dddddd'>0.0</td><td style='border: 1px solid #dddddd'>0.0</td><td style='border: 1px solid #dddddd'>0.0</td><td style='border: 1px solid #dddddd'>1.0</td><td style='border: 1px solid #dddddd'>2.0</td><td style='border: 1px solid #dddddd'>1.0</td><td style='border: 1px solid #dddddd'>0.0</td><td style='border: 1px solid #dddddd'>[2.0, 3.0, 0.0, 0.0, 3.0, 1.0, 1.0, 2.0, 0.0, 0.0, 0.0, 0.0, 0.0, 26.0, 863.0, 2.0, 2.0, 26.0, 38.0, 1.0, 1.0]</td><td style='border: 1px solid #dddddd'>[16.563745861719013, 3.436254138280984]</td><td style='border: 1px solid #dddddd'>No Risk</td></tr><tr><td style='border: 1px solid #dddddd'>no_checking</td><td style='border: 1px solid #dddddd'>13</td><td style='border: 1px solid #dddddd'>credits_paid_to_date</td><td style='border: 1px solid #dddddd'>car_new</td><td style='border: 1px solid #dddddd'>1343</td><td style='border: 1px solid #dddddd'>100_to_500</td><td style='border: 1px solid #dddddd'>1_to_4</td><td style='border: 1px solid #dddddd'>2</td><td style='border: 1px solid #dddddd'>female</td><td style='border: 1px solid #dddddd'>none</td><td style='border: 1px solid #dddddd'>3</td><td style='border: 1px solid #dddddd'>savings_insurance</td><td style='border: 1px solid #dddddd'>46</td><td style='border: 1px solid #dddddd'>none</td><td style='border: 1px solid #dddddd'>own</td><td style='border: 1px solid #dddddd'>2</td><td style='border: 1px solid #dddddd'>skilled</td><td style='border: 1px solid #dddddd'>1</td><td style='border: 1px solid #dddddd'>none</td><td style='border: 1px solid #dddddd'>yes</td><td style='border: 1px solid #dddddd'>0.0</td><td style='border: 1px solid #dddddd'>[0.7049739820773709, 0.29502601792262906]</td><td style='border: 1px solid #dddddd'>0.7049739820773709</td><td style='border: 1px solid #dddddd'>7b6808fd1eb8d9bd3b77c7802ea9c550-1</td><td style='border: 1px solid #dddddd'>2019-11-23 18:35:39.156000+00:00</td><td style='border: 1px solid #dddddd'>ddae0e84-ef9b-4d84-b7c1-1a052d32aa5e</td><td style='border: 1px solid #dddddd'>a2f91b8d-195e-46a8-bb68-eef8d789b014</td><td style='border: 1px solid #dddddd'>0.0</td><td style='border: 1px solid #dddddd'>1.0</td><td style='border: 1px solid #dddddd'>0.0</td><td style='border: 1px solid #dddddd'>1.0</td><td style='border: 1px solid #dddddd'>0.0</td><td style='border: 1px solid #dddddd'>0.0</td><td style='border: 1px solid #dddddd'>0.0</td><td style='border: 1px solid #dddddd'>0.0</td><td style='border: 1px solid #dddddd'>0.0</td><td style='border: 1px solid #dddddd'>0.0</td><td style='border: 1px solid #dddddd'>0.0</td><td style='border: 1px solid #dddddd'>1.0</td><td style='border: 1px solid #dddddd'>0.0</td><td style='border: 1px solid #dddddd'>[21, [1, 3, 5, 13, 14, 15, 16, 17, 18, 19, 20], [1.0, 1.0, 1.0, 13.0, 1343.0, 2.0, 3.0, 13.0, 46.0, 2.0, 1.0]]</td><td style='border: 1px solid #dddddd'>[14.099479641547418, 5.900520358452582]</td><td style='border: 1px solid #dddddd'>No Risk</td></tr><tr><td style='border: 1px solid #dddddd'>no_checking</td><td style='border: 1px solid #dddddd'>17</td><td style='border: 1px solid #dddddd'>credits_paid_to_date</td><td style='border: 1px solid #dddddd'>car_new</td><td style='border: 1px solid #dddddd'>832</td><td style='border: 1px solid #dddddd'>100_to_500</td><td style='border: 1px solid #dddddd'>1_to_4</td><td style='border: 1px solid #dddddd'>2</td><td style='border: 1px solid #dddddd'>male</td><td style='border: 1px solid #dddddd'>none</td><td style='border: 1px solid #dddddd'>2</td><td style='border: 1px solid #dddddd'>real_estate</td><td style='border: 1px solid #dddddd'>42</td><td style='border: 1px solid #dddddd'>none</td><td style='border: 1px solid #dddddd'>own</td><td style='border: 1px solid #dddddd'>1</td><td style='border: 1px solid #dddddd'>skilled</td><td style='border: 1px solid #dddddd'>1</td><td style='border: 1px solid #dddddd'>none</td><td style='border: 1px solid #dddddd'>yes</td><td style='border: 1px solid #dddddd'>0.0</td><td style='border: 1px solid #dddddd'>[0.8055984583499919, 0.19440154165000817]</td><td style='border: 1px solid #dddddd'>0.8055984583499919</td><td style='border: 1px solid #dddddd'>7b6808fd1eb8d9bd3b77c7802ea9c550-6</td><td style='border: 1px solid #dddddd'>2019-11-23 18:35:39.156000+00:00</td><td style='border: 1px solid #dddddd'>ddae0e84-ef9b-4d84-b7c1-1a052d32aa5e</td><td style='border: 1px solid #dddddd'>a2f91b8d-195e-46a8-bb68-eef8d789b014</td><td style='border: 1px solid #dddddd'>0.0</td><td style='border: 1px solid #dddddd'>1.0</td><td style='border: 1px solid #dddddd'>0.0</td><td style='border: 1px solid #dddddd'>1.0</td><td style='border: 1px solid #dddddd'>0.0</td><td style='border: 1px solid #dddddd'>0.0</td><td style='border: 1px solid #dddddd'>0.0</td><td style='border: 1px solid #dddddd'>0.0</td><td style='border: 1px solid #dddddd'>0.0</td><td style='border: 1px solid #dddddd'>0.0</td><td style='border: 1px solid #dddddd'>2.0</td><td style='border: 1px solid #dddddd'>0.0</td><td style='border: 1px solid #dddddd'>0.0</td><td style='border: 1px solid #dddddd'>[21, [1, 3, 7, 13, 14, 15, 16, 17, 18, 19, 20], [1.0, 1.0, 2.0, 17.0, 832.0, 2.0, 2.0, 17.0, 42.0, 1.0, 1.0]]</td><td style='border: 1px solid #dddddd'>[16.111969166999838, 3.888030833000163]</td><td style='border: 1px solid #dddddd'>No Risk</td></tr><tr><td style='border: 1px solid #dddddd'>no_checking</td><td style='border: 1px solid #dddddd'>24</td><td style='border: 1px solid #dddddd'>prior_payments_delayed</td><td style='border: 1px solid #dddddd'>furniture</td><td style='border: 1px solid #dddddd'>4567</td><td style='border: 1px solid #dddddd'>500_to_1000</td><td style='border: 1px solid #dddddd'>1_to_4</td><td style='border: 1px solid #dddddd'>4</td><td style='border: 1px solid #dddddd'>male</td><td style='border: 1px solid #dddddd'>none</td><td style='border: 1px solid #dddddd'>4</td><td style='border: 1px solid #dddddd'>savings_insurance</td><td style='border: 1px solid #dddddd'>36</td><td style='border: 1px solid #dddddd'>none</td><td style='border: 1px solid #dddddd'>free</td><td style='border: 1px solid #dddddd'>2</td><td style='border: 1px solid #dddddd'>management_self-employed</td><td style='border: 1px solid #dddddd'>1</td><td style='border: 1px solid #dddddd'>none</td><td style='border: 1px solid #dddddd'>yes</td><td style='border: 1px solid #dddddd'>0.0</td><td style='border: 1px solid #dddddd'>[0.6193699588344816, 0.3806300411655183]</td><td style='border: 1px solid #dddddd'>0.6193699588344816</td><td style='border: 1px solid #dddddd'>7b6808fd1eb8d9bd3b77c7802ea9c550-2</td><td style='border: 1px solid #dddddd'>2019-11-23 18:35:39.156000+00:00</td><td style='border: 1px solid #dddddd'>ddae0e84-ef9b-4d84-b7c1-1a052d32aa5e</td><td style='border: 1px solid #dddddd'>a2f91b8d-195e-46a8-bb68-eef8d789b014</td><td style='border: 1px solid #dddddd'>0.0</td><td style='border: 1px solid #dddddd'>0.0</td><td style='border: 1px solid #dddddd'>0.0</td><td style='border: 1px solid #dddddd'>2.0</td><td style='border: 1px solid #dddddd'>0.0</td><td style='border: 1px solid #dddddd'>2.0</td><td style='border: 1px solid #dddddd'>0.0</td><td style='border: 1px solid #dddddd'>2.0</td><td style='border: 1px solid #dddddd'>1.0</td><td style='border: 1px solid #dddddd'>0.0</td><td style='border: 1px solid #dddddd'>0.0</td><td style='border: 1px solid #dddddd'>0.0</td><td style='border: 1px solid #dddddd'>0.0</td><td style='border: 1px solid #dddddd'>[21, [2, 3, 9, 10, 13, 14, 15, 16, 17, 18, 19, 20], [1.0, 2.0, 2.0, 2.0, 24.0, 4567.0, 4.0, 4.0, 24.0, 36.0, 2.0, 1.0]]</td><td style='border: 1px solid #dddddd'>[12.387399176689634, 7.612600823310366]</td><td style='border: 1px solid #dddddd'>No Risk</td></tr><tr><td style='border: 1px solid #dddddd'>no_checking</td><td style='border: 1px solid #dddddd'>33</td><td style='border: 1px solid #dddddd'>outstanding_credit</td><td style='border: 1px solid #dddddd'>appliances</td><td style='border: 1px solid #dddddd'>5696</td><td style='border: 1px solid #dddddd'>unknown</td><td style='border: 1px solid #dddddd'>greater_7</td><td style='border: 1px solid #dddddd'>4</td><td style='border: 1px solid #dddddd'>male</td><td style='border: 1px solid #dddddd'>co-applicant</td><td style='border: 1px solid #dddddd'>4</td><td style='border: 1px solid #dddddd'>unknown</td><td style='border: 1px solid #dddddd'>54</td><td style='border: 1px solid #dddddd'>none</td><td style='border: 1px solid #dddddd'>free</td><td style='border: 1px solid #dddddd'>2</td><td style='border: 1px solid #dddddd'>skilled</td><td style='border: 1px solid #dddddd'>1</td><td style='border: 1px solid #dddddd'>yes</td><td style='border: 1px solid #dddddd'>yes</td><td style='border: 1px solid #dddddd'>1.0</td><td style='border: 1px solid #dddddd'>[0.0796042558779473, 0.9203957441220527]</td><td style='border: 1px solid #dddddd'>0.9203957441220527</td><td style='border: 1px solid #dddddd'>7b6808fd1eb8d9bd3b77c7802ea9c550-7</td><td style='border: 1px solid #dddddd'>2019-11-23 18:35:39.156000+00:00</td><td style='border: 1px solid #dddddd'>ddae0e84-ef9b-4d84-b7c1-1a052d32aa5e</td><td style='border: 1px solid #dddddd'>a2f91b8d-195e-46a8-bb68-eef8d789b014</td><td style='border: 1px solid #dddddd'>0.0</td><td style='border: 1px solid #dddddd'>2.0</td><td style='border: 1px solid #dddddd'>2.0</td><td style='border: 1px solid #dddddd'>4.0</td><td style='border: 1px solid #dddddd'>0.0</td><td style='border: 1px solid #dddddd'>2.0</td><td style='border: 1px solid #dddddd'>0.0</td><td style='border: 1px solid #dddddd'>0.0</td><td style='border: 1px solid #dddddd'>4.0</td><td style='border: 1px solid #dddddd'>1.0</td><td style='border: 1px solid #dddddd'>3.0</td><td style='border: 1px solid #dddddd'>0.0</td><td style='border: 1px solid #dddddd'>1.0</td><td style='border: 1px solid #dddddd'>[0.0, 2.0, 4.0, 4.0, 2.0, 0.0, 1.0, 3.0, 0.0, 2.0, 0.0, 1.0, 0.0, 33.0, 5696.0, 4.0, 4.0, 33.0, 54.0, 2.0, 1.0]</td><td style='border: 1px solid #dddddd'>[1.5920851175589457, 18.40791488244105]</td><td style='border: 1px solid #dddddd'>Risk</td></tr>\n            </table>\n        </body>\n        </HTML>",
                        "text/plain": "<IPython.core.display.HTML object>"
                    },
                    "metadata": {}
                }
            ]
        },
        {
            "metadata": {},
            "cell_type": "markdown",
            "source": "## Next steps\n\nOpenScale is ready to monitor the model. We can configure various types of monitors (quality, fairness, explainability, drift, etc) using either the UI or through a python client. \n\n__Return to the workshop instruction book.__\n\n  \n## Credits\n\nThis notebook was adapted from the following sources:\n* [Monitor Models Code Pattern](https://github.com/IBM/monitor-wml-model-with-watson-openscale)\n* [OpenScale Labs](https://github.com/pmservice/OpenScale-Labs)\n* [OpenScale Tutorials](https://github.com/pmservice/ai-openscale-tutorials)\n\n#### Original Authors\n* Eric Martens, is a technical specialist having expertise in analysis and description of business processes, and their translation into functional and non-functional IT requirements. He acts as the interpreter between the worlds of IT and business.\n* Lukasz Cmielowski, PhD, is an Automation Architect and Data Scientist at IBM with a track record of developing enterprise-level applications that substantially increases clients' ability to turn data into actionable knowledge."
        },
        {
            "metadata": {},
            "cell_type": "code",
            "source": "import datetime\nimport time\n\ntime.sleep(10)\n\nfields = [\"CheckingStatus\",\"LoanDuration\",\"CreditHistory\",\"LoanPurpose\",\"LoanAmount\",\"ExistingSavings\",\"EmploymentDuration\",\"InstallmentPercent\",\"Sex\",\"OthersOnLoan\",\"CurrentResidenceDuration\",\"OwnsProperty\",\"Age\",\"InstallmentPlans\",\"Housing\",\"ExistingCreditsCount\",\"Job\",\"Dependents\",\"Telephone\",\"ForeignWorker\"]\nvalues = [\n    [\"greater_200\",17, \"outstanding_credit\", \"radio_tv\",5181, \"100_to_500\", \"1_to_4\",3, \"male\", \"none\",4, \"car_other\",3, \"stores\", \"own\",1, \"skilled\",1, \"none\", \"yes\"],\n    [\"no_checking\", 34, \"outstanding_credit\", \"repairs\", 6008, \"500_to_1000\", \"greater_7\", 5,\"male\", \"co-applicant\", 3, \"savings_insurance\", 35, \"none\", \"free\", 2, \"management_self-employed\", 1, \"yes\", \"yes\"],\n    [\"no_checking\", 23, \"outstanding_credit\", \"business\", 2817, \"500_to_1000\", \"1_to_4\", 4, \"male\", \"none\", 4, \"savings_insurance\", 35, \"none\", \"own\", 1, \"management_self-employed\", 1, \"yes\", \"yes\"]\n]\n\npayload_scoring = {\"fields\": fields,\"values\": values}\nscoring_response = wml_client.deployments.score(scoring_url, payload_scoring)\n\nprint('Single record scoring result:', '\\n fields:', scoring_response['fields'], '\\n values: ', scoring_response['values'][0])",
            "execution_count": 27,
            "outputs": [
                {
                    "output_type": "stream",
                    "text": "Single record scoring result: \n fields: ['CheckingStatus', 'LoanDuration', 'CreditHistory', 'LoanPurpose', 'LoanAmount', 'ExistingSavings', 'EmploymentDuration', 'InstallmentPercent', 'Sex', 'OthersOnLoan', 'CurrentResidenceDuration', 'OwnsProperty', 'Age', 'InstallmentPlans', 'Housing', 'ExistingCreditsCount', 'Job', 'Dependents', 'Telephone', 'ForeignWorker', 'CheckingStatus_IX', 'CreditHistory_IX', 'EmploymentDuration_IX', 'ExistingSavings_IX', 'ForeignWorker_IX', 'Housing_IX', 'InstallmentPlans_IX', 'Job_IX', 'LoanPurpose_IX', 'OthersOnLoan_IX', 'OwnsProperty_IX', 'Sex_IX', 'Telephone_IX', 'features', 'rawPrediction', 'probability', 'prediction', 'predictedLabel'] \n values:  ['greater_200', 17, 'outstanding_credit', 'radio_tv', 5181, '100_to_500', '1_to_4', 3, 'male', 'none', 4, 'car_other', 3, 'stores', 'own', 1, 'skilled', 1, 'none', 'yes', 3.0, 2.0, 0.0, 1.0, 0.0, 0.0, 1.0, 0.0, 3.0, 0.0, 1.0, 0.0, 0.0, [3.0, 2.0, 3.0, 1.0, 0.0, 0.0, 0.0, 1.0, 1.0, 0.0, 0.0, 0.0, 0.0, 17.0, 5181.0, 3.0, 4.0, 17.0, 3.0, 1.0, 1.0], [13.466101955526653, 6.5338980444733465], [0.6733050977763326, 0.3266949022236673], 0.0, 'No Risk']\n",
                    "name": "stdout"
                }
            ]
        },
        {
            "metadata": {},
            "cell_type": "code",
            "source": "# Payload will be logged in the datamart. Re-run this cell if there are no results in the table.\nprint('Number of records in payload table (should be 8): ', subscription.payload_logging.get_records_count())\nsubscription.payload_logging.show_table()",
            "execution_count": 28,
            "outputs": [
                {
                    "output_type": "stream",
                    "text": "Number of records in payload table (should be 8):  11\n",
                    "name": "stdout"
                },
                {
                    "output_type": "display_data",
                    "data": {
                        "text/html": "<HTML>\n        <body>\n            <h3>Payload_ba7e9eab-9dfc-4347-93b0-232e1983f157 (binding_id=ead3646b-8ad5-4505-80e7-ff0afafe895b, subscription_id=ba7e9eab-9dfc-4347-93b0-232e1983f157)</h3>\n            <table style='border: 1px solid #dddddd; font-family: Courier'>\n                <th style='border: 1px solid #dddddd'>CheckingStatus</th><th style='border: 1px solid #dddddd'>LoanDuration</th><th style='border: 1px solid #dddddd'>CreditHistory</th><th style='border: 1px solid #dddddd'>LoanPurpose</th><th style='border: 1px solid #dddddd'>LoanAmount</th><th style='border: 1px solid #dddddd'>ExistingSavings</th><th style='border: 1px solid #dddddd'>EmploymentDuration</th><th style='border: 1px solid #dddddd'>InstallmentPercent</th><th style='border: 1px solid #dddddd'>Sex</th><th style='border: 1px solid #dddddd'>OthersOnLoan</th><th style='border: 1px solid #dddddd'>CurrentResidenceDuration</th><th style='border: 1px solid #dddddd'>OwnsProperty</th><th style='border: 1px solid #dddddd'>Age</th><th style='border: 1px solid #dddddd'>InstallmentPlans</th><th style='border: 1px solid #dddddd'>Housing</th><th style='border: 1px solid #dddddd'>ExistingCreditsCount</th><th style='border: 1px solid #dddddd'>Job</th><th style='border: 1px solid #dddddd'>Dependents</th><th style='border: 1px solid #dddddd'>Telephone</th><th style='border: 1px solid #dddddd'>ForeignWorker</th><th style='border: 1px solid #dddddd'>prediction</th><th style='border: 1px solid #dddddd'>probability</th><th style='border: 1px solid #dddddd'>prediction_probability</th><th style='border: 1px solid #dddddd'>scoring_id</th><th style='border: 1px solid #dddddd'>scoring_timestamp</th><th style='border: 1px solid #dddddd'>deployment_id</th><th style='border: 1px solid #dddddd'>asset_revision</th><th style='border: 1px solid #dddddd'>CheckingStatus_IX</th><th style='border: 1px solid #dddddd'>CreditHistory_IX</th><th style='border: 1px solid #dddddd'>EmploymentDuration_IX</th><th style='border: 1px solid #dddddd'>ExistingSavings_IX</th><th style='border: 1px solid #dddddd'>ForeignWorker_IX</th><th style='border: 1px solid #dddddd'>Housing_IX</th><th style='border: 1px solid #dddddd'>InstallmentPlans_IX</th><th style='border: 1px solid #dddddd'>Job_IX</th><th style='border: 1px solid #dddddd'>LoanPurpose_IX</th><th style='border: 1px solid #dddddd'>OthersOnLoan_IX</th><th style='border: 1px solid #dddddd'>OwnsProperty_IX</th><th style='border: 1px solid #dddddd'>Sex_IX</th><th style='border: 1px solid #dddddd'>Telephone_IX</th><th style='border: 1px solid #dddddd'>features</th><th style='border: 1px solid #dddddd'>rawPrediction</th><th style='border: 1px solid #dddddd'>predictedLabel</th>\n                <tr><td style='border: 1px solid #dddddd'>greater_200</td><td style='border: 1px solid #dddddd'>17</td><td style='border: 1px solid #dddddd'>outstanding_credit</td><td style='border: 1px solid #dddddd'>radio_tv</td><td style='border: 1px solid #dddddd'>5181</td><td style='border: 1px solid #dddddd'>100_to_500</td><td style='border: 1px solid #dddddd'>1_to_4</td><td style='border: 1px solid #dddddd'>3</td><td style='border: 1px solid #dddddd'>male</td><td style='border: 1px solid #dddddd'>none</td><td style='border: 1px solid #dddddd'>4</td><td style='border: 1px solid #dddddd'>car_other</td><td style='border: 1px solid #dddddd'>3</td><td style='border: 1px solid #dddddd'>stores</td><td style='border: 1px solid #dddddd'>own</td><td style='border: 1px solid #dddddd'>1</td><td style='border: 1px solid #dddddd'>skilled</td><td style='border: 1px solid #dddddd'>1</td><td style='border: 1px solid #dddddd'>none</td><td style='border: 1px solid #dddddd'>yes</td><td style='border: 1px solid #dddddd'>0.0</td><td style='border: 1px solid #dddddd'>[0.6733050977763326, 0.3266949022236673]</td><td style='border: 1px solid #dddddd'>0.6733050977763326</td><td style='border: 1px solid #dddddd'>489d0f4a7aa7f11bb2bf226bd6ca100e-1</td><td style='border: 1px solid #dddddd'>2019-11-23 18:39:11.184000+00:00</td><td style='border: 1px solid #dddddd'>ddae0e84-ef9b-4d84-b7c1-1a052d32aa5e</td><td style='border: 1px solid #dddddd'>a2f91b8d-195e-46a8-bb68-eef8d789b014</td><td style='border: 1px solid #dddddd'>3.0</td><td style='border: 1px solid #dddddd'>2.0</td><td style='border: 1px solid #dddddd'>0.0</td><td style='border: 1px solid #dddddd'>1.0</td><td style='border: 1px solid #dddddd'>0.0</td><td style='border: 1px solid #dddddd'>0.0</td><td style='border: 1px solid #dddddd'>1.0</td><td style='border: 1px solid #dddddd'>0.0</td><td style='border: 1px solid #dddddd'>3.0</td><td style='border: 1px solid #dddddd'>0.0</td><td style='border: 1px solid #dddddd'>1.0</td><td style='border: 1px solid #dddddd'>0.0</td><td style='border: 1px solid #dddddd'>0.0</td><td style='border: 1px solid #dddddd'>[3.0, 2.0, 3.0, 1.0, 0.0, 0.0, 0.0, 1.0, 1.0, 0.0, 0.0, 0.0, 0.0, 17.0, 5181.0, 3.0, 4.0, 17.0, 3.0, 1.0, 1.0]</td><td style='border: 1px solid #dddddd'>[13.466101955526653, 6.5338980444733465]</td><td style='border: 1px solid #dddddd'>No Risk</td></tr><tr><td style='border: 1px solid #dddddd'>no_checking</td><td style='border: 1px solid #dddddd'>23</td><td style='border: 1px solid #dddddd'>outstanding_credit</td><td style='border: 1px solid #dddddd'>business</td><td style='border: 1px solid #dddddd'>2817</td><td style='border: 1px solid #dddddd'>500_to_1000</td><td style='border: 1px solid #dddddd'>1_to_4</td><td style='border: 1px solid #dddddd'>4</td><td style='border: 1px solid #dddddd'>male</td><td style='border: 1px solid #dddddd'>none</td><td style='border: 1px solid #dddddd'>4</td><td style='border: 1px solid #dddddd'>savings_insurance</td><td style='border: 1px solid #dddddd'>35</td><td style='border: 1px solid #dddddd'>none</td><td style='border: 1px solid #dddddd'>own</td><td style='border: 1px solid #dddddd'>1</td><td style='border: 1px solid #dddddd'>management_self-employed</td><td style='border: 1px solid #dddddd'>1</td><td style='border: 1px solid #dddddd'>yes</td><td style='border: 1px solid #dddddd'>yes</td><td style='border: 1px solid #dddddd'>0.0</td><td style='border: 1px solid #dddddd'>[0.694385276899971, 0.3056147231000291]</td><td style='border: 1px solid #dddddd'>0.694385276899971</td><td style='border: 1px solid #dddddd'>489d0f4a7aa7f11bb2bf226bd6ca100e-3</td><td style='border: 1px solid #dddddd'>2019-11-23 18:39:11.184000+00:00</td><td style='border: 1px solid #dddddd'>ddae0e84-ef9b-4d84-b7c1-1a052d32aa5e</td><td style='border: 1px solid #dddddd'>a2f91b8d-195e-46a8-bb68-eef8d789b014</td><td style='border: 1px solid #dddddd'>0.0</td><td style='border: 1px solid #dddddd'>2.0</td><td style='border: 1px solid #dddddd'>0.0</td><td style='border: 1px solid #dddddd'>2.0</td><td style='border: 1px solid #dddddd'>0.0</td><td style='border: 1px solid #dddddd'>0.0</td><td style='border: 1px solid #dddddd'>0.0</td><td style='border: 1px solid #dddddd'>2.0</td><td style='border: 1px solid #dddddd'>9.0</td><td style='border: 1px solid #dddddd'>0.0</td><td style='border: 1px solid #dddddd'>0.0</td><td style='border: 1px solid #dddddd'>0.0</td><td style='border: 1px solid #dddddd'>1.0</td><td style='border: 1px solid #dddddd'>[0.0, 2.0, 9.0, 2.0, 0.0, 0.0, 0.0, 0.0, 0.0, 0.0, 2.0, 1.0, 0.0, 23.0, 2817.0, 4.0, 4.0, 23.0, 35.0, 1.0, 1.0]</td><td style='border: 1px solid #dddddd'>[13.88770553799942, 6.112294462000581]</td><td style='border: 1px solid #dddddd'>No Risk</td></tr><tr><td style='border: 1px solid #dddddd'>no_checking</td><td style='border: 1px solid #dddddd'>34</td><td style='border: 1px solid #dddddd'>outstanding_credit</td><td style='border: 1px solid #dddddd'>repairs</td><td style='border: 1px solid #dddddd'>6008</td><td style='border: 1px solid #dddddd'>500_to_1000</td><td style='border: 1px solid #dddddd'>greater_7</td><td style='border: 1px solid #dddddd'>5</td><td style='border: 1px solid #dddddd'>male</td><td style='border: 1px solid #dddddd'>co-applicant</td><td style='border: 1px solid #dddddd'>3</td><td style='border: 1px solid #dddddd'>savings_insurance</td><td style='border: 1px solid #dddddd'>35</td><td style='border: 1px solid #dddddd'>none</td><td style='border: 1px solid #dddddd'>free</td><td style='border: 1px solid #dddddd'>2</td><td style='border: 1px solid #dddddd'>management_self-employed</td><td style='border: 1px solid #dddddd'>1</td><td style='border: 1px solid #dddddd'>yes</td><td style='border: 1px solid #dddddd'>yes</td><td style='border: 1px solid #dddddd'>1.0</td><td style='border: 1px solid #dddddd'>[0.22368749698122956, 0.7763125030187704]</td><td style='border: 1px solid #dddddd'>0.7763125030187704</td><td style='border: 1px solid #dddddd'>489d0f4a7aa7f11bb2bf226bd6ca100e-2</td><td style='border: 1px solid #dddddd'>2019-11-23 18:39:11.184000+00:00</td><td style='border: 1px solid #dddddd'>ddae0e84-ef9b-4d84-b7c1-1a052d32aa5e</td><td style='border: 1px solid #dddddd'>a2f91b8d-195e-46a8-bb68-eef8d789b014</td><td style='border: 1px solid #dddddd'>0.0</td><td style='border: 1px solid #dddddd'>2.0</td><td style='border: 1px solid #dddddd'>2.0</td><td style='border: 1px solid #dddddd'>2.0</td><td style='border: 1px solid #dddddd'>0.0</td><td style='border: 1px solid #dddddd'>2.0</td><td style='border: 1px solid #dddddd'>0.0</td><td style='border: 1px solid #dddddd'>2.0</td><td style='border: 1px solid #dddddd'>5.0</td><td style='border: 1px solid #dddddd'>1.0</td><td style='border: 1px solid #dddddd'>0.0</td><td style='border: 1px solid #dddddd'>0.0</td><td style='border: 1px solid #dddddd'>1.0</td><td style='border: 1px solid #dddddd'>[0.0, 2.0, 5.0, 2.0, 2.0, 0.0, 1.0, 0.0, 0.0, 2.0, 2.0, 1.0, 0.0, 34.0, 6008.0, 5.0, 3.0, 34.0, 35.0, 2.0, 1.0]</td><td style='border: 1px solid #dddddd'>[4.473749939624591, 15.526250060375409]</td><td style='border: 1px solid #dddddd'>Risk</td></tr><tr><td style='border: 1px solid #dddddd'>0_to_200</td><td style='border: 1px solid #dddddd'>4</td><td style='border: 1px solid #dddddd'>no_credits</td><td style='border: 1px solid #dddddd'>car_new</td><td style='border: 1px solid #dddddd'>250</td><td style='border: 1px solid #dddddd'>less_100</td><td style='border: 1px solid #dddddd'>unemployed</td><td style='border: 1px solid #dddddd'>2</td><td style='border: 1px solid #dddddd'>female</td><td style='border: 1px solid #dddddd'>none</td><td style='border: 1px solid #dddddd'>3</td><td style='border: 1px solid #dddddd'>real_estate</td><td style='border: 1px solid #dddddd'>23</td><td style='border: 1px solid #dddddd'>none</td><td style='border: 1px solid #dddddd'>rent</td><td style='border: 1px solid #dddddd'>1</td><td style='border: 1px solid #dddddd'>management_self-employed</td><td style='border: 1px solid #dddddd'>1</td><td style='border: 1px solid #dddddd'>none</td><td style='border: 1px solid #dddddd'>yes</td><td style='border: 1px solid #dddddd'>0.0</td><td style='border: 1px solid #dddddd'>[0.9817869466967226, 0.01821305330327745]</td><td style='border: 1px solid #dddddd'>0.9817869466967226</td><td style='border: 1px solid #dddddd'>7b6808fd1eb8d9bd3b77c7802ea9c550-5</td><td style='border: 1px solid #dddddd'>2019-11-23 18:35:39.156000+00:00</td><td style='border: 1px solid #dddddd'>ddae0e84-ef9b-4d84-b7c1-1a052d32aa5e</td><td style='border: 1px solid #dddddd'>a2f91b8d-195e-46a8-bb68-eef8d789b014</td><td style='border: 1px solid #dddddd'>2.0</td><td style='border: 1px solid #dddddd'>4.0</td><td style='border: 1px solid #dddddd'>4.0</td><td style='border: 1px solid #dddddd'>0.0</td><td style='border: 1px solid #dddddd'>0.0</td><td style='border: 1px solid #dddddd'>1.0</td><td style='border: 1px solid #dddddd'>0.0</td><td style='border: 1px solid #dddddd'>2.0</td><td style='border: 1px solid #dddddd'>0.0</td><td style='border: 1px solid #dddddd'>0.0</td><td style='border: 1px solid #dddddd'>2.0</td><td style='border: 1px solid #dddddd'>1.0</td><td style='border: 1px solid #dddddd'>0.0</td><td style='border: 1px solid #dddddd'>[2.0, 4.0, 0.0, 0.0, 4.0, 1.0, 0.0, 2.0, 0.0, 1.0, 2.0, 0.0, 0.0, 4.0, 250.0, 2.0, 3.0, 4.0, 23.0, 1.0, 1.0]</td><td style='border: 1px solid #dddddd'>[19.635738933934448, 0.364261066065549]</td><td style='border: 1px solid #dddddd'>No Risk</td></tr><tr><td style='border: 1px solid #dddddd'>0_to_200</td><td style='border: 1px solid #dddddd'>13</td><td style='border: 1px solid #dddddd'>prior_payments_delayed</td><td style='border: 1px solid #dddddd'>retraining</td><td style='border: 1px solid #dddddd'>1375</td><td style='border: 1px solid #dddddd'>100_to_500</td><td style='border: 1px solid #dddddd'>4_to_7</td><td style='border: 1px solid #dddddd'>3</td><td style='border: 1px solid #dddddd'>male</td><td style='border: 1px solid #dddddd'>none</td><td style='border: 1px solid #dddddd'>3</td><td style='border: 1px solid #dddddd'>real_estate</td><td style='border: 1px solid #dddddd'>37</td><td style='border: 1px solid #dddddd'>none</td><td style='border: 1px solid #dddddd'>own</td><td style='border: 1px solid #dddddd'>2</td><td style='border: 1px solid #dddddd'>management_self-employed</td><td style='border: 1px solid #dddddd'>1</td><td style='border: 1px solid #dddddd'>none</td><td style='border: 1px solid #dddddd'>yes</td><td style='border: 1px solid #dddddd'>0.0</td><td style='border: 1px solid #dddddd'>[0.8476259694151986, 0.15237403058480137]</td><td style='border: 1px solid #dddddd'>0.8476259694151986</td><td style='border: 1px solid #dddddd'>7b6808fd1eb8d9bd3b77c7802ea9c550-8</td><td style='border: 1px solid #dddddd'>2019-11-23 18:35:39.156000+00:00</td><td style='border: 1px solid #dddddd'>ddae0e84-ef9b-4d84-b7c1-1a052d32aa5e</td><td style='border: 1px solid #dddddd'>a2f91b8d-195e-46a8-bb68-eef8d789b014</td><td style='border: 1px solid #dddddd'>2.0</td><td style='border: 1px solid #dddddd'>0.0</td><td style='border: 1px solid #dddddd'>1.0</td><td style='border: 1px solid #dddddd'>1.0</td><td style='border: 1px solid #dddddd'>0.0</td><td style='border: 1px solid #dddddd'>0.0</td><td style='border: 1px solid #dddddd'>0.0</td><td style='border: 1px solid #dddddd'>2.0</td><td style='border: 1px solid #dddddd'>8.0</td><td style='border: 1px solid #dddddd'>0.0</td><td style='border: 1px solid #dddddd'>2.0</td><td style='border: 1px solid #dddddd'>0.0</td><td style='border: 1px solid #dddddd'>0.0</td><td style='border: 1px solid #dddddd'>[2.0, 0.0, 8.0, 1.0, 1.0, 0.0, 0.0, 2.0, 0.0, 0.0, 2.0, 0.0, 0.0, 13.0, 1375.0, 3.0, 3.0, 13.0, 37.0, 2.0, 1.0]</td><td style='border: 1px solid #dddddd'>[16.952519388303973, 3.0474806116960274]</td><td style='border: 1px solid #dddddd'>No Risk</td></tr><tr><td style='border: 1px solid #dddddd'>0_to_200</td><td style='border: 1px solid #dddddd'>14</td><td style='border: 1px solid #dddddd'>no_credits</td><td style='border: 1px solid #dddddd'>car_new</td><td style='border: 1px solid #dddddd'>2368</td><td style='border: 1px solid #dddddd'>less_100</td><td style='border: 1px solid #dddddd'>1_to_4</td><td style='border: 1px solid #dddddd'>3</td><td style='border: 1px solid #dddddd'>female</td><td style='border: 1px solid #dddddd'>none</td><td style='border: 1px solid #dddddd'>3</td><td style='border: 1px solid #dddddd'>real_estate</td><td style='border: 1px solid #dddddd'>29</td><td style='border: 1px solid #dddddd'>none</td><td style='border: 1px solid #dddddd'>own</td><td style='border: 1px solid #dddddd'>1</td><td style='border: 1px solid #dddddd'>skilled</td><td style='border: 1px solid #dddddd'>1</td><td style='border: 1px solid #dddddd'>none</td><td style='border: 1px solid #dddddd'>yes</td><td style='border: 1px solid #dddddd'>0.0</td><td style='border: 1px solid #dddddd'>[0.9247650469790445, 0.07523495302095555]</td><td style='border: 1px solid #dddddd'>0.9247650469790445</td><td style='border: 1px solid #dddddd'>7b6808fd1eb8d9bd3b77c7802ea9c550-4</td><td style='border: 1px solid #dddddd'>2019-11-23 18:35:39.156000+00:00</td><td style='border: 1px solid #dddddd'>ddae0e84-ef9b-4d84-b7c1-1a052d32aa5e</td><td style='border: 1px solid #dddddd'>a2f91b8d-195e-46a8-bb68-eef8d789b014</td><td style='border: 1px solid #dddddd'>2.0</td><td style='border: 1px solid #dddddd'>4.0</td><td style='border: 1px solid #dddddd'>0.0</td><td style='border: 1px solid #dddddd'>0.0</td><td style='border: 1px solid #dddddd'>0.0</td><td style='border: 1px solid #dddddd'>0.0</td><td style='border: 1px solid #dddddd'>0.0</td><td style='border: 1px solid #dddddd'>0.0</td><td style='border: 1px solid #dddddd'>0.0</td><td style='border: 1px solid #dddddd'>0.0</td><td style='border: 1px solid #dddddd'>2.0</td><td style='border: 1px solid #dddddd'>1.0</td><td style='border: 1px solid #dddddd'>0.0</td><td style='border: 1px solid #dddddd'>[21, [0, 1, 5, 7, 13, 14, 15, 16, 17, 18, 19, 20], [2.0, 4.0, 1.0, 2.0, 14.0, 2368.0, 3.0, 3.0, 14.0, 29.0, 1.0, 1.0]]</td><td style='border: 1px solid #dddddd'>[18.495300939580886, 1.5046990604191108]</td><td style='border: 1px solid #dddddd'>No Risk</td></tr><tr><td style='border: 1px solid #dddddd'>0_to_200</td><td style='border: 1px solid #dddddd'>26</td><td style='border: 1px solid #dddddd'>all_credits_paid_back</td><td style='border: 1px solid #dddddd'>car_new</td><td style='border: 1px solid #dddddd'>863</td><td style='border: 1px solid #dddddd'>less_100</td><td style='border: 1px solid #dddddd'>less_1</td><td style='border: 1px solid #dddddd'>2</td><td style='border: 1px solid #dddddd'>female</td><td style='border: 1px solid #dddddd'>co-applicant</td><td style='border: 1px solid #dddddd'>2</td><td style='border: 1px solid #dddddd'>real_estate</td><td style='border: 1px solid #dddddd'>38</td><td style='border: 1px solid #dddddd'>none</td><td style='border: 1px solid #dddddd'>own</td><td style='border: 1px solid #dddddd'>1</td><td style='border: 1px solid #dddddd'>skilled</td><td style='border: 1px solid #dddddd'>1</td><td style='border: 1px solid #dddddd'>none</td><td style='border: 1px solid #dddddd'>yes</td><td style='border: 1px solid #dddddd'>0.0</td><td style='border: 1px solid #dddddd'>[0.8281872930859508, 0.17181270691404923]</td><td style='border: 1px solid #dddddd'>0.8281872930859508</td><td style='border: 1px solid #dddddd'>7b6808fd1eb8d9bd3b77c7802ea9c550-3</td><td style='border: 1px solid #dddddd'>2019-11-23 18:35:39.156000+00:00</td><td style='border: 1px solid #dddddd'>ddae0e84-ef9b-4d84-b7c1-1a052d32aa5e</td><td style='border: 1px solid #dddddd'>a2f91b8d-195e-46a8-bb68-eef8d789b014</td><td style='border: 1px solid #dddddd'>2.0</td><td style='border: 1px solid #dddddd'>3.0</td><td style='border: 1px solid #dddddd'>3.0</td><td style='border: 1px solid #dddddd'>0.0</td><td style='border: 1px solid #dddddd'>0.0</td><td style='border: 1px solid #dddddd'>0.0</td><td style='border: 1px solid #dddddd'>0.0</td><td style='border: 1px solid #dddddd'>0.0</td><td style='border: 1px solid #dddddd'>0.0</td><td style='border: 1px solid #dddddd'>1.0</td><td style='border: 1px solid #dddddd'>2.0</td><td style='border: 1px solid #dddddd'>1.0</td><td style='border: 1px solid #dddddd'>0.0</td><td style='border: 1px solid #dddddd'>[2.0, 3.0, 0.0, 0.0, 3.0, 1.0, 1.0, 2.0, 0.0, 0.0, 0.0, 0.0, 0.0, 26.0, 863.0, 2.0, 2.0, 26.0, 38.0, 1.0, 1.0]</td><td style='border: 1px solid #dddddd'>[16.563745861719013, 3.436254138280984]</td><td style='border: 1px solid #dddddd'>No Risk</td></tr><tr><td style='border: 1px solid #dddddd'>no_checking</td><td style='border: 1px solid #dddddd'>13</td><td style='border: 1px solid #dddddd'>credits_paid_to_date</td><td style='border: 1px solid #dddddd'>car_new</td><td style='border: 1px solid #dddddd'>1343</td><td style='border: 1px solid #dddddd'>100_to_500</td><td style='border: 1px solid #dddddd'>1_to_4</td><td style='border: 1px solid #dddddd'>2</td><td style='border: 1px solid #dddddd'>female</td><td style='border: 1px solid #dddddd'>none</td><td style='border: 1px solid #dddddd'>3</td><td style='border: 1px solid #dddddd'>savings_insurance</td><td style='border: 1px solid #dddddd'>46</td><td style='border: 1px solid #dddddd'>none</td><td style='border: 1px solid #dddddd'>own</td><td style='border: 1px solid #dddddd'>2</td><td style='border: 1px solid #dddddd'>skilled</td><td style='border: 1px solid #dddddd'>1</td><td style='border: 1px solid #dddddd'>none</td><td style='border: 1px solid #dddddd'>yes</td><td style='border: 1px solid #dddddd'>0.0</td><td style='border: 1px solid #dddddd'>[0.7049739820773709, 0.29502601792262906]</td><td style='border: 1px solid #dddddd'>0.7049739820773709</td><td style='border: 1px solid #dddddd'>7b6808fd1eb8d9bd3b77c7802ea9c550-1</td><td style='border: 1px solid #dddddd'>2019-11-23 18:35:39.156000+00:00</td><td style='border: 1px solid #dddddd'>ddae0e84-ef9b-4d84-b7c1-1a052d32aa5e</td><td style='border: 1px solid #dddddd'>a2f91b8d-195e-46a8-bb68-eef8d789b014</td><td style='border: 1px solid #dddddd'>0.0</td><td style='border: 1px solid #dddddd'>1.0</td><td style='border: 1px solid #dddddd'>0.0</td><td style='border: 1px solid #dddddd'>1.0</td><td style='border: 1px solid #dddddd'>0.0</td><td style='border: 1px solid #dddddd'>0.0</td><td style='border: 1px solid #dddddd'>0.0</td><td style='border: 1px solid #dddddd'>0.0</td><td style='border: 1px solid #dddddd'>0.0</td><td style='border: 1px solid #dddddd'>0.0</td><td style='border: 1px solid #dddddd'>0.0</td><td style='border: 1px solid #dddddd'>1.0</td><td style='border: 1px solid #dddddd'>0.0</td><td style='border: 1px solid #dddddd'>[21, [1, 3, 5, 13, 14, 15, 16, 17, 18, 19, 20], [1.0, 1.0, 1.0, 13.0, 1343.0, 2.0, 3.0, 13.0, 46.0, 2.0, 1.0]]</td><td style='border: 1px solid #dddddd'>[14.099479641547418, 5.900520358452582]</td><td style='border: 1px solid #dddddd'>No Risk</td></tr><tr><td style='border: 1px solid #dddddd'>no_checking</td><td style='border: 1px solid #dddddd'>17</td><td style='border: 1px solid #dddddd'>credits_paid_to_date</td><td style='border: 1px solid #dddddd'>car_new</td><td style='border: 1px solid #dddddd'>832</td><td style='border: 1px solid #dddddd'>100_to_500</td><td style='border: 1px solid #dddddd'>1_to_4</td><td style='border: 1px solid #dddddd'>2</td><td style='border: 1px solid #dddddd'>male</td><td style='border: 1px solid #dddddd'>none</td><td style='border: 1px solid #dddddd'>2</td><td style='border: 1px solid #dddddd'>real_estate</td><td style='border: 1px solid #dddddd'>42</td><td style='border: 1px solid #dddddd'>none</td><td style='border: 1px solid #dddddd'>own</td><td style='border: 1px solid #dddddd'>1</td><td style='border: 1px solid #dddddd'>skilled</td><td style='border: 1px solid #dddddd'>1</td><td style='border: 1px solid #dddddd'>none</td><td style='border: 1px solid #dddddd'>yes</td><td style='border: 1px solid #dddddd'>0.0</td><td style='border: 1px solid #dddddd'>[0.8055984583499919, 0.19440154165000817]</td><td style='border: 1px solid #dddddd'>0.8055984583499919</td><td style='border: 1px solid #dddddd'>7b6808fd1eb8d9bd3b77c7802ea9c550-6</td><td style='border: 1px solid #dddddd'>2019-11-23 18:35:39.156000+00:00</td><td style='border: 1px solid #dddddd'>ddae0e84-ef9b-4d84-b7c1-1a052d32aa5e</td><td style='border: 1px solid #dddddd'>a2f91b8d-195e-46a8-bb68-eef8d789b014</td><td style='border: 1px solid #dddddd'>0.0</td><td style='border: 1px solid #dddddd'>1.0</td><td style='border: 1px solid #dddddd'>0.0</td><td style='border: 1px solid #dddddd'>1.0</td><td style='border: 1px solid #dddddd'>0.0</td><td style='border: 1px solid #dddddd'>0.0</td><td style='border: 1px solid #dddddd'>0.0</td><td style='border: 1px solid #dddddd'>0.0</td><td style='border: 1px solid #dddddd'>0.0</td><td style='border: 1px solid #dddddd'>0.0</td><td style='border: 1px solid #dddddd'>2.0</td><td style='border: 1px solid #dddddd'>0.0</td><td style='border: 1px solid #dddddd'>0.0</td><td style='border: 1px solid #dddddd'>[21, [1, 3, 7, 13, 14, 15, 16, 17, 18, 19, 20], [1.0, 1.0, 2.0, 17.0, 832.0, 2.0, 2.0, 17.0, 42.0, 1.0, 1.0]]</td><td style='border: 1px solid #dddddd'>[16.111969166999838, 3.888030833000163]</td><td style='border: 1px solid #dddddd'>No Risk</td></tr><tr><td style='border: 1px solid #dddddd'>no_checking</td><td style='border: 1px solid #dddddd'>24</td><td style='border: 1px solid #dddddd'>prior_payments_delayed</td><td style='border: 1px solid #dddddd'>furniture</td><td style='border: 1px solid #dddddd'>4567</td><td style='border: 1px solid #dddddd'>500_to_1000</td><td style='border: 1px solid #dddddd'>1_to_4</td><td style='border: 1px solid #dddddd'>4</td><td style='border: 1px solid #dddddd'>male</td><td style='border: 1px solid #dddddd'>none</td><td style='border: 1px solid #dddddd'>4</td><td style='border: 1px solid #dddddd'>savings_insurance</td><td style='border: 1px solid #dddddd'>36</td><td style='border: 1px solid #dddddd'>none</td><td style='border: 1px solid #dddddd'>free</td><td style='border: 1px solid #dddddd'>2</td><td style='border: 1px solid #dddddd'>management_self-employed</td><td style='border: 1px solid #dddddd'>1</td><td style='border: 1px solid #dddddd'>none</td><td style='border: 1px solid #dddddd'>yes</td><td style='border: 1px solid #dddddd'>0.0</td><td style='border: 1px solid #dddddd'>[0.6193699588344816, 0.3806300411655183]</td><td style='border: 1px solid #dddddd'>0.6193699588344816</td><td style='border: 1px solid #dddddd'>7b6808fd1eb8d9bd3b77c7802ea9c550-2</td><td style='border: 1px solid #dddddd'>2019-11-23 18:35:39.156000+00:00</td><td style='border: 1px solid #dddddd'>ddae0e84-ef9b-4d84-b7c1-1a052d32aa5e</td><td style='border: 1px solid #dddddd'>a2f91b8d-195e-46a8-bb68-eef8d789b014</td><td style='border: 1px solid #dddddd'>0.0</td><td style='border: 1px solid #dddddd'>0.0</td><td style='border: 1px solid #dddddd'>0.0</td><td style='border: 1px solid #dddddd'>2.0</td><td style='border: 1px solid #dddddd'>0.0</td><td style='border: 1px solid #dddddd'>2.0</td><td style='border: 1px solid #dddddd'>0.0</td><td style='border: 1px solid #dddddd'>2.0</td><td style='border: 1px solid #dddddd'>1.0</td><td style='border: 1px solid #dddddd'>0.0</td><td style='border: 1px solid #dddddd'>0.0</td><td style='border: 1px solid #dddddd'>0.0</td><td style='border: 1px solid #dddddd'>0.0</td><td style='border: 1px solid #dddddd'>[21, [2, 3, 9, 10, 13, 14, 15, 16, 17, 18, 19, 20], [1.0, 2.0, 2.0, 2.0, 24.0, 4567.0, 4.0, 4.0, 24.0, 36.0, 2.0, 1.0]]</td><td style='border: 1px solid #dddddd'>[12.387399176689634, 7.612600823310366]</td><td style='border: 1px solid #dddddd'>No Risk</td></tr>\n            </table>\n        </body>\n        </HTML>",
                        "text/plain": "<IPython.core.display.HTML object>"
                    },
                    "metadata": {}
                }
            ]
        },
        {
            "metadata": {},
            "cell_type": "code",
            "source": "",
            "execution_count": null,
            "outputs": []
        }
    ],
    "metadata": {
        "kernelspec": {
            "name": "python36",
            "display_name": "Python 3.6 with Spark",
            "language": "python3"
        },
        "language_info": {
            "mimetype": "text/x-python",
            "nbconvert_exporter": "python",
            "name": "python",
            "pygments_lexer": "ipython3",
            "version": "3.6.8",
            "file_extension": ".py",
            "codemirror_mode": {
                "version": 3,
                "name": "ipython"
            }
        }
    },
    "nbformat": 4,
    "nbformat_minor": 1
}