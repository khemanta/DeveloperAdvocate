{
    "cells": [
        {
            "metadata": {},
            "cell_type": "markdown",
            "source": "# Application Monitors with Watson OpenScale\n\nThis notebook should be run in a Watson Studio project, using Default Python 3.6 runtime environment. It requires service credentials and a Cloud API key to access the following Cloud services:\n* Watson OpenScale\n\nThe notebook will configure monitors in OpenScale for the German Credit Risk model. The notebook assumes the model has been created/deployed to Watson Machine Learning and that the subscription has been created in Watson OpenScale."
        },
        {
            "metadata": {
                "collapsed": true
            },
            "cell_type": "markdown",
            "source": "#### Dependency Setup"
        },
        {
            "metadata": {},
            "cell_type": "code",
            "source": "!pip install --upgrade ibm-ai-openscale --no-cache | tail -n 1",
            "execution_count": null,
            "outputs": []
        },
        {
            "metadata": {},
            "cell_type": "markdown",
            "source": "#### Configure Service Credentials\n\nUpdate the two cells below with your Cloud API Key and your Watson Machine Learning service credentials."
        },
        {
            "metadata": {
                "scrolled": true
            },
            "cell_type": "code",
            "source": "CLOUD_API_KEY = \"PASTE HERE\"",
            "execution_count": null,
            "outputs": []
        },
        {
            "metadata": {},
            "cell_type": "markdown",
            "source": "#### Model Parameters\n\n__Ensure that the two parameters match the model / deployment you have previously subscribed__"
        },
        {
            "metadata": {},
            "cell_type": "code",
            "source": "MODEL_NAME = \"Spark German Risk Model\"\nDEPLOYMENT_NAME = \"Spark German Risk Deployment\"",
            "execution_count": null,
            "outputs": []
        },
        {
            "metadata": {},
            "cell_type": "markdown",
            "source": "### Application Monitors"
        },
        {
            "metadata": {},
            "cell_type": "markdown",
            "source": "#### Get Watson OpenScale GUID\nEach instance of OpenScale has a unique ID. We can get this value using the Cloud API key specified at the beginning of the notebook."
        },
        {
            "metadata": {},
            "cell_type": "code",
            "source": "from ibm_ai_openscale import APIClient\nfrom ibm_ai_openscale.utils import get_instance_guid\n\nwos_client = None\nWOS_GUID = get_instance_guid(api_key=CLOUD_API_KEY)\nWOS_CREDENTIALS = {\n    \"instance_guid\": WOS_GUID,\n    \"apikey\": CLOUD_API_KEY,\n    \"url\": \"https://api.aiopenscale.cloud.ibm.com\"\n}\n\nif WOS_GUID is None:\n    print('Watson OpenScale GUID NOT FOUND')\nelse:\n    print(\"Watson OpenScale GUID: {}\".format(WOS_GUID))\n\nwos_client = APIClient(aios_credentials=WOS_CREDENTIALS)\nprint(\"Watson OpenScale Python Client Version: {}\".format(wos_client.version))",
            "execution_count": null,
            "outputs": []
        },
        {
            "metadata": {},
            "cell_type": "markdown",
            "source": "#### Get subscription\n\nWe have previously subscribed Watson OpenScale to our machine learning model. Here we get that subscription."
        },
        {
            "metadata": {
                "scrolled": false
            },
            "cell_type": "code",
            "source": "wos_client.data_mart.subscriptions.list()\n\nsubscriptions_uids = wos_client.data_mart.subscriptions.get_uids()\nsubscription_id = None\nfor sub in subscriptions_uids:\n    if wos_client.data_mart.subscriptions.get_details(sub)['entity']['asset']['name'] == MODEL_NAME:\n        subscription = wos_client.data_mart.subscriptions.get(sub)\n        subscription_id = sub\n        break\n            \nif subscription is None:\n    print('Subscription not found.')\n    \nprint(\"Subscription ID: {}\".format(subscription_id))\n\ndata_mart_id = subscription.get_details()['metadata']['url'].split('/service_bindings')[0].split('marts/')[1]\nprint(\"Data Mart ID: {}\".format(data_mart_id))\n\nbusiness_application_url = \"/\".join((WOS_CREDENTIALS['url'], data_mart_id,\"v2\", \"business_applications\" ))\nprint(\"Business Application URL: {}\".format(business_application_url))\n\nmonitor_instances_url = \"/\".join((WOS_CREDENTIALS['url'], data_mart_id,\"v2\", \"monitor_instances\" ))\nprint(\"Monitor Instances URL: {}\".format(monitor_instances_url))\n      ",
            "execution_count": null,
            "outputs": []
        },
        {
            "metadata": {},
            "cell_type": "markdown",
            "source": "#### Enable Business Application Monitor\n"
        },
        {
            "metadata": {},
            "cell_type": "code",
            "source": "import requests\nimport time\n\npayload_business_app = {\n    \"name\": \"Credit Risk Application\",\n    \"description\": \"Test Business Application\",\n    \"payload_fields\": [\n        {\n            \"name\": \"LoanDuration\",\n            \"type\": \"number\",\n        },\n        {\n            \"name\": \"LoanPurpose\",\n            \"type\": \"string\",\n        },\n        {\n            \"name\": \"LoanAmount\",\n            \"type\": \"number\",\n        },\n        {\n            \"name\": \"InstallmentPercent\",\n            \"type\": \"number\",\n        },\n        {\n            \"name\": \"AcceptedPercent\",\n            \"type\": \"number\",\n        },\n         {\n            \"name\": \"Accepted\",\n            \"type\": \"number\",\n        },\n        {\n            \"name\": \"AmountGranted\",\n            \"type\": \"number\",\n        },\n        {\n            \"name\": \"transaction_id\",\n            \"type\": \"string\",\n        }     \n    ],\n    \"business_metrics\": [\n        {\n            \"name\": \"Accepted Credits\",\n            \"expected_direction\": \"increasing\",\n            \"thresholds\": [\n                {\n                    \"type\": \"lower_limit\",\n                    \"default\": 0,\n                }\n            ],\n            \"required\": False,\n            \"calculation_metadata\": {\n                \"field_name\": \"Accepted\",\n                \"aggregation\": \"sum\",\n                \"time_frame\": {\n                    \"count\": 1,\n                    \"unit\": \"day\"\n                }\n            }\n        },\n        {\n            \"name\": \"Credit Amount Granted\",\n            \"expected_direction\": \"increasing\",\n            \"thresholds\": [\n                {\n                    \"type\": \"lower_limit\",\n                    \"default\": 10000,\n                }\n            ],\n            \"required\": False,\n            \"calculation_metadata\": {\n                \"field_name\": \"AmountGranted\",\n                \"aggregation\": \"sum\",\n                \"time_frame\": {\n                    \"count\": 1,\n                    \"unit\": \"day\"\n                }\n            }\n        }\n    ],\n    \"subscription_ids\": subscriptions_uids\n}\n\nresponse = requests.post(url=business_application_url, headers=wos_client._get_headers(), json=payload_business_app)\nbusiness_application_id = response.json()['metadata']['id']\ntime.sleep(10)",
            "execution_count": null,
            "outputs": []
        },
        {
            "metadata": {},
            "cell_type": "code",
            "source": "business_application_details_url = \"/\".join((business_application_url, business_application_id))\nprint(business_application_details_url)\n\nbusiness_app_status = None\nwhile business_app_status != 'active':\n    business_application_details = requests.get(url = business_application_details_url, headers=wos_client._get_headers()).json()\n    business_app_status = business_application_details['entity']['status']['state']\n    if business_app_status != 'active':\n        print(datetime.utcnow().strftime('%H:%M:%S'), business_app_status)\n        time.sleep(10)\n\nprint(\"Business Application Status: {}\".format(business_app_status))",
            "execution_count": null,
            "outputs": []
        },
        {
            "metadata": {},
            "cell_type": "code",
            "source": "business_payload_data_set_id = business_application_details['entity']['business_payload_data_set_id']\nbusiness_metrics_monitor_instance_id =  business_application_details['entity']['business_metrics_monitor_instance_id']",
            "execution_count": null,
            "outputs": []
        },
        {
            "metadata": {},
            "cell_type": "code",
            "source": "response = requests.get(url=monitor_instances_url, headers=wos_client._get_headers())\ninstances = response.json()['monitor_instances']\n\nfor instance in instances:\n    if 'managed_by' in instance['entity'] and instance['entity']['managed_by'] == business_application_id:\n        if instance['entity']['monitor_definition_id'] == 'correlations':\n            corr_monitor_instance_id = instance['metadata']['id']\n\n    if instance['entity']['monitor_definition_id'] == 'drift':\n        drift_instance_id = instance['metadata']['id']",
            "execution_count": null,
            "outputs": []
        },
        {
            "metadata": {},
            "cell_type": "markdown",
            "source": "### Insert historical business payload\n"
        },
        {
            "metadata": {},
            "cell_type": "code",
            "source": "import time\nimport os\nfrom IPython.utils import io\nfrom ibm_ai_openscale.utils.inject_demo_data import DemoData\n\nhistoricalData = DemoData(aios_credentials=WOS_CREDENTIALS)\nhistorical_data_path=os.getcwd()\n\nwith io.capture_output() as captured:\n    !wget https://raw.githubusercontent.com/pmservice/ai-openscale-tutorials/master/assets/historical_data/german_credit_risk/wml/history_business_payloads_week.csv -O history_business_payloads_week.csv\n!ls -lh history_business_payloads_week.csv\n\nhistoricalData.load_historical_business_payload(business_payload_data_set_id, file_path=historical_data_path, file_name=\"history_business_payloads_week.csv\")\ntime.sleep(60)",
            "execution_count": null,
            "outputs": []
        },
        {
            "metadata": {},
            "cell_type": "markdown",
            "source": "### Insert historical BPKIs"
        },
        {
            "metadata": {},
            "cell_type": "code",
            "source": "with io.capture_output() as captured:\n    !wget https://raw.githubusercontent.com/pmservice/ai-openscale-tutorials/master/assets/historical_data/german_credit_risk/wml/history_business_metrics.json -O history_business_metrics.json\n!ls -lh history_business_metrics.json\n\nhistoricalData.load_historical_kpi_measurements(monitor_instance_id=business_metrics_monitor_instance_id, filename=\"history_business_metrics.json\", file_path=historical_data_path)",
            "execution_count": null,
            "outputs": []
        },
        {
            "metadata": {},
            "cell_type": "markdown",
            "source": "### Insert historical drift measurements\n"
        },
        {
            "metadata": {},
            "cell_type": "code",
            "source": "with io.capture_output() as captured:\n    !wget https://raw.githubusercontent.com/pmservice/ai-openscale-tutorials/master/assets/historical_data/german_credit_risk/wos/history_drift_metrics.json -O history_drift_metrics.json\n!ls -lh history_drift_metrics.json\n\nhistoricalData.load_historical_drift_measurements(business_application_id=business_application_id, monitor_instance_id=drift_instance_id, filename=\"history_drift_metrics.json\", file_path=historical_data_path)",
            "execution_count": null,
            "outputs": []
        },
        {
            "metadata": {},
            "cell_type": "markdown",
            "source": "### Run Correlation Monitor\n"
        },
        {
            "metadata": {},
            "cell_type": "code",
            "source": "payload = {\n            \"triggered_by\": \"user\",\n            \"parameters\": {\n                \"max_number_of_days\": \"1000\"\n            },\n            \"business_metric_context\": {\n                \"business_application_id\": business_application_id,\n                \"metric_id\": \"\",\n                \"transaction_data_set_id\": \"\",\n                \"transaction_batch_id\": \"\"\n            }\n        }\n\nresponse = requests.post(url = \"/\".join((monitor_instances_url, corr_monitor_instance_id,\"runs\")), json=payload, headers=wos_client._get_headers())",
            "execution_count": null,
            "outputs": []
        },
        {
            "metadata": {},
            "cell_type": "code",
            "source": "corr_status = None\nwhile corr_status != 'active':\n    corr_details = requests.get(url = \"/\".join((monitor_instances_url, corr_monitor_instance_id)), headers=wos_client._get_headers()).json()\n    corr_status = corr_details['entity']['status']['state']\n    if corr_status != 'active':\n        print(datetime.utcnow().strftime('%H:%M:%S'), corr_status)\n        time.sleep(10)\nprint(\"Correlation status: {}\".format(corr_status))",
            "execution_count": null,
            "outputs": []
        },
        {
            "metadata": {},
            "cell_type": "markdown",
            "source": "## Next steps\n\n\n__Return to the workshop instruction book.__\n\n\n## Credits\n\nThis notebook was adapted from the following sources:\n\n* [Monitor Models Code Pattern](https://github.com/IBM/monitor-wml-model-with-watson-openscale)\n* [OpenScale Labs](https://github.com/pmservice/OpenScale-Labs)\n* [OpenScale Tutorials](https://github.com/pmservice/ai-openscale-tutorials)\n\n#### Original Authors\n* Eric Martens, is a technical specialist having expertise in analysis and description of business processes, and their translation into functional and non-functional IT requirements. He acts as the interpreter between the worlds of IT and business.\n* Lukasz Cmielowski, PhD, is an Automation Architect and Data Scientist at IBM with a track record of developing enterprise-level applications that substantially increases clients' ability to turn data into actionable knowledge.\n"
        },
        {
            "metadata": {},
            "cell_type": "code",
            "source": "",
            "execution_count": null,
            "outputs": []
        }
    ],
    "metadata": {
        "kernelspec": {
            "name": "python3",
            "display_name": "Python 3.6",
            "language": "python"
        },
        "language_info": {
            "name": "python",
            "version": "3.6.8",
            "mimetype": "text/x-python",
            "codemirror_mode": {
                "name": "ipython",
                "version": 3
            },
            "pygments_lexer": "ipython3",
            "nbconvert_exporter": "python",
            "file_extension": ".py"
        }
    },
    "nbformat": 4,
    "nbformat_minor": 1
}